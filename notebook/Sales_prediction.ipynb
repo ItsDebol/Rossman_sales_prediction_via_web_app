{
<<<<<<< HEAD:scripts/Sales_prediction.ipynb
 "cells": [
  {
   "cell_type": "markdown",
   "metadata": {
    "colab_type": "text",
    "id": "KB6TKsFwZZgC"
   },
   "source": [
    "# **Pharmaceutical Sales prediction across multiple stores**"
   ]
  },
  {
   "cell_type": "markdown",
   "metadata": {
    "colab_type": "text",
    "id": "p8xV0oPdYzga"
   },
   "source": [
    "**Forecasting Sales is a essential use of Machine Learning(ML).Sales forecasts can be used to identify benchmarks and determine incremental impacts of new initiatives, plan resources in response to expected demand and project future budgets.**"
   ]
  },
  {
   "cell_type": "markdown",
   "metadata": {
    "colab_type": "text",
    "id": "DMgVyFpBZy2Q"
   },
   "source": [
    "## **Table of contents**\n",
    "     1. Exploring the data and Data Pre-processing\n",
    "     2. Building models with sklearn pipelines\n",
    "     3. Choose a loss function\n",
    "     4. Post Prediction analysis\n",
    "     5. Serialize models"
   ]
  },
  {
   "cell_type": "markdown",
   "metadata": {
    "colab_type": "text",
    "id": "h_8mBZIScTDI"
   },
   "source": [
    " ## **1. Data Preprocessing**"
   ]
  },
  {
   "cell_type": "markdown",
   "metadata": {
    "colab_type": "text",
    "id": "cCD-eDgBck26"
   },
   "source": [
    "  1.1 Importing Libraries"
   ]
  },
  {
   "cell_type": "code",
   "execution_count": 123,
   "metadata": {
    "colab": {},
    "colab_type": "code",
    "id": "uYSkzRZ6XjJ5"
   },
   "outputs": [],
   "source": [
    "#!pip install category_encoders\n",
    "import pandas as pd\n",
    "import seaborn as sns\n",
    "from sklearn.model_selection import train_test_split \n",
    "from sklearn.linear_model import LinearRegression\n",
    "from sklearn.preprocessing import StandardScaler\n",
    "from sklearn import preprocessing\n",
    "import numpy as np \n",
    "import matplotlib.pyplot as plt\n",
    "import category_encoders as ce\n",
    "%matplotlib inline"
   ]
  },
  {
   "cell_type": "code",
   "execution_count": 84,
   "metadata": {
    "colab": {},
    "colab_type": "code",
    "id": "ye1wJKoEXxEJ"
   },
   "outputs": [],
   "source": [
    "train_data=pd.read_csv(r'C:\\Users\\HP\\Desktop\\Projects\\Machine_Hotshots\\data\\Output.csv')"
   ]
  },
  {
   "cell_type": "code",
   "execution_count": 85,
   "metadata": {
    "colab": {
     "base_uri": "https://localhost:8080/",
     "height": 231
=======
  "nbformat": 4,
  "nbformat_minor": 0,
  "metadata": {
    "colab": {
      "name": "Sales_prediction1.ipynb",
      "provenance": []
    },
    "kernelspec": {
      "name": "python3",
      "display_name": "Python 3"
    },
    "accelerator": "TPU"
  },
  "cells": [
    {
      "cell_type": "markdown",
      "metadata": {
        "id": "KB6TKsFwZZgC",
        "colab_type": "text"
      },
      "source": [
        "# **Pharmaceutical Sales prediction across multiple stores**"
      ]
    },
    {
      "cell_type": "markdown",
      "metadata": {
        "id": "p8xV0oPdYzga",
        "colab_type": "text"
      },
      "source": [
        "**Forecasting Sales is a essential use of Machine Learning(ML).Sales forecasts can be used to identify benchmarks and determine incremental impacts of new initiatives, plan resources in response to expected demand and project future budgets.**"
      ]
    },
    {
      "cell_type": "markdown",
      "metadata": {
        "id": "DMgVyFpBZy2Q",
        "colab_type": "text"
      },
      "source": [
        "## **Table of contents**\n",
        "     1. Exploring the data and Data Pre-processing\n",
        "     2. Building models with sklearn pipelines\n",
        "     3. Choose a loss function\n",
        "     4. Post Prediction analysis\n",
        "     5. Serialize models"
      ]
    },
    {
      "cell_type": "markdown",
      "metadata": {
        "id": "h_8mBZIScTDI",
        "colab_type": "text"
      },
      "source": [
        " ## **1. Data Preprocessing**"
      ]
    },
    {
      "cell_type": "markdown",
      "metadata": {
        "id": "cCD-eDgBck26",
        "colab_type": "text"
      },
      "source": [
        "  1.1 Importing Libraries"
      ]
    },
    {
      "cell_type": "code",
      "metadata": {
        "id": "uYSkzRZ6XjJ5",
        "colab_type": "code",
        "colab": {
          "base_uri": "https://localhost:8080/",
          "height": 212
        },
        "outputId": "4889d910-c173-42d0-bb70-5bc0ca642ee2"
      },
      "source": [
        "!pip install category_encoders\n",
        "import pandas as pd\n",
        "import seaborn as sns\n",
        "from sklearn.model_selection import train_test_split \n",
        "from sklearn.linear_model import LinearRegression\n",
        "from sklearn.preprocessing import StandardScaler\n",
        "from sklearn.ensemble import  RandomForestRegressor\n",
        "from sklearn.metrics import mean_squared_error\n",
        "from xgboost import XGBClassifier\n",
        "from sklearn import preprocessing\n",
        "from sklearn.pipeline import Pipeline\n",
        "from sklearn import model_selection\n",
        "from sklearn.metrics import accuracy_score\n",
        "import numpy as np \n",
        "import matplotlib.pyplot as plt\n",
        "import category_encoders as ce\n",
        "%matplotlib inline"
      ],
      "execution_count": 25,
      "outputs": [
        {
          "output_type": "stream",
          "text": [
            "Requirement already satisfied: category_encoders in /usr/local/lib/python3.6/dist-packages (2.2.2)\n",
            "Requirement already satisfied: scikit-learn>=0.20.0 in /usr/local/lib/python3.6/dist-packages (from category_encoders) (0.22.2.post1)\n",
            "Requirement already satisfied: scipy>=1.0.0 in /usr/local/lib/python3.6/dist-packages (from category_encoders) (1.4.1)\n",
            "Requirement already satisfied: numpy>=1.14.0 in /usr/local/lib/python3.6/dist-packages (from category_encoders) (1.18.5)\n",
            "Requirement already satisfied: patsy>=0.5.1 in /usr/local/lib/python3.6/dist-packages (from category_encoders) (0.5.1)\n",
            "Requirement already satisfied: pandas>=0.21.1 in /usr/local/lib/python3.6/dist-packages (from category_encoders) (1.0.5)\n",
            "Requirement already satisfied: statsmodels>=0.9.0 in /usr/local/lib/python3.6/dist-packages (from category_encoders) (0.10.2)\n",
            "Requirement already satisfied: joblib>=0.11 in /usr/local/lib/python3.6/dist-packages (from scikit-learn>=0.20.0->category_encoders) (0.16.0)\n",
            "Requirement already satisfied: six in /usr/local/lib/python3.6/dist-packages (from patsy>=0.5.1->category_encoders) (1.15.0)\n",
            "Requirement already satisfied: pytz>=2017.2 in /usr/local/lib/python3.6/dist-packages (from pandas>=0.21.1->category_encoders) (2018.9)\n",
            "Requirement already satisfied: python-dateutil>=2.6.1 in /usr/local/lib/python3.6/dist-packages (from pandas>=0.21.1->category_encoders) (2.8.1)\n"
          ],
          "name": "stdout"
        }
      ]
    },
    {
      "cell_type": "code",
      "metadata": {
        "id": "ye1wJKoEXxEJ",
        "colab_type": "code",
        "colab": {}
      },
      "source": [
        "train_data=pd.read_csv('/content/drive/My Drive/Output.csv')"
      ],
      "execution_count": 26,
      "outputs": []
>>>>>>> 3dc444e45122a7b3a50274e46831a1923895dcd8:notebook/Sales_prediction.ipynb
    },
    "colab_type": "code",
    "id": "KboRAT1wbL-2",
    "outputId": "619c408e-d917-4c7a-c0cf-0692292e3b31"
   },
   "outputs": [
    {
<<<<<<< HEAD:scripts/Sales_prediction.ipynb
     "data": {
      "text/html": [
       "<div>\n",
       "<style scoped>\n",
       "    .dataframe tbody tr th:only-of-type {\n",
       "        vertical-align: middle;\n",
       "    }\n",
       "\n",
       "    .dataframe tbody tr th {\n",
       "        vertical-align: top;\n",
       "    }\n",
       "\n",
       "    .dataframe thead th {\n",
       "        text-align: right;\n",
       "    }\n",
       "</style>\n",
       "<table border=\"1\" class=\"dataframe\">\n",
       "  <thead>\n",
       "    <tr style=\"text-align: right;\">\n",
       "      <th></th>\n",
       "      <th>Weekdays</th>\n",
       "      <th>Weeks</th>\n",
       "      <th>Months</th>\n",
       "      <th>Store</th>\n",
       "      <th>DayOfWeek</th>\n",
       "      <th>Date</th>\n",
       "      <th>Sales</th>\n",
       "      <th>Customers</th>\n",
       "      <th>Open</th>\n",
       "      <th>Promo</th>\n",
       "      <th>...</th>\n",
       "      <th>Store-1</th>\n",
       "      <th>StoreType</th>\n",
       "      <th>Assortment</th>\n",
       "      <th>CompetitionDistance</th>\n",
       "      <th>CompetitionOpenSinceMonth</th>\n",
       "      <th>CompetitionOpenSinceYear</th>\n",
       "      <th>Promo2</th>\n",
       "      <th>Promo2SinceWeek</th>\n",
       "      <th>Promo2SinceYear</th>\n",
       "      <th>PromoInterval</th>\n",
       "    </tr>\n",
       "  </thead>\n",
       "  <tbody>\n",
       "    <tr>\n",
       "      <th>0</th>\n",
       "      <td>1</td>\n",
       "      <td>23</td>\n",
       "      <td>6</td>\n",
       "      <td>867</td>\n",
       "      <td>3</td>\n",
       "      <td>6/3/2015</td>\n",
       "      <td>5608</td>\n",
       "      <td>469</td>\n",
       "      <td>1</td>\n",
       "      <td>1</td>\n",
       "      <td>...</td>\n",
       "      <td>867</td>\n",
       "      <td>d</td>\n",
       "      <td>c</td>\n",
       "      <td>21810.0</td>\n",
       "      <td>9.0</td>\n",
       "      <td>2012.0</td>\n",
       "      <td>0</td>\n",
       "      <td>NaN</td>\n",
       "      <td>NaN</td>\n",
       "      <td>Jan,Apr,Jul,Oct</td>\n",
       "    </tr>\n",
       "    <tr>\n",
       "      <th>1</th>\n",
       "      <td>1</td>\n",
       "      <td>23</td>\n",
       "      <td>6</td>\n",
       "      <td>868</td>\n",
       "      <td>3</td>\n",
       "      <td>6/3/2015</td>\n",
       "      <td>13500</td>\n",
       "      <td>816</td>\n",
       "      <td>1</td>\n",
       "      <td>1</td>\n",
       "      <td>...</td>\n",
       "      <td>868</td>\n",
       "      <td>d</td>\n",
       "      <td>c</td>\n",
       "      <td>1360.0</td>\n",
       "      <td>8.0</td>\n",
       "      <td>2005.0</td>\n",
       "      <td>1</td>\n",
       "      <td>10.0</td>\n",
       "      <td>2014.0</td>\n",
       "      <td>Jan,Apr,Jul,Oct</td>\n",
       "    </tr>\n",
       "    <tr>\n",
       "      <th>2</th>\n",
       "      <td>1</td>\n",
       "      <td>23</td>\n",
       "      <td>6</td>\n",
       "      <td>869</td>\n",
       "      <td>3</td>\n",
       "      <td>6/3/2015</td>\n",
       "      <td>7007</td>\n",
       "      <td>932</td>\n",
       "      <td>1</td>\n",
       "      <td>1</td>\n",
       "      <td>...</td>\n",
       "      <td>869</td>\n",
       "      <td>c</td>\n",
       "      <td>a</td>\n",
       "      <td>230.0</td>\n",
       "      <td>10.0</td>\n",
       "      <td>2001.0</td>\n",
       "      <td>1</td>\n",
       "      <td>14.0</td>\n",
       "      <td>2011.0</td>\n",
       "      <td>Jan,Apr,Jul,Oct</td>\n",
       "    </tr>\n",
       "    <tr>\n",
       "      <th>3</th>\n",
       "      <td>1</td>\n",
       "      <td>23</td>\n",
       "      <td>6</td>\n",
       "      <td>870</td>\n",
       "      <td>3</td>\n",
       "      <td>6/3/2015</td>\n",
       "      <td>7911</td>\n",
       "      <td>971</td>\n",
       "      <td>1</td>\n",
       "      <td>1</td>\n",
       "      <td>...</td>\n",
       "      <td>870</td>\n",
       "      <td>a</td>\n",
       "      <td>a</td>\n",
       "      <td>780.0</td>\n",
       "      <td>4.0</td>\n",
       "      <td>2009.0</td>\n",
       "      <td>0</td>\n",
       "      <td>NaN</td>\n",
       "      <td>NaN</td>\n",
       "      <td>Jan,Apr,Jul,Oct</td>\n",
       "    </tr>\n",
       "    <tr>\n",
       "      <th>4</th>\n",
       "      <td>1</td>\n",
       "      <td>23</td>\n",
       "      <td>6</td>\n",
       "      <td>871</td>\n",
       "      <td>3</td>\n",
       "      <td>6/3/2015</td>\n",
       "      <td>9198</td>\n",
       "      <td>678</td>\n",
       "      <td>1</td>\n",
       "      <td>1</td>\n",
       "      <td>...</td>\n",
       "      <td>871</td>\n",
       "      <td>d</td>\n",
       "      <td>c</td>\n",
       "      <td>10620.0</td>\n",
       "      <td>NaN</td>\n",
       "      <td>NaN</td>\n",
       "      <td>0</td>\n",
       "      <td>NaN</td>\n",
       "      <td>NaN</td>\n",
       "      <td>Jan,Apr,Jul,Oct</td>\n",
       "    </tr>\n",
       "  </tbody>\n",
       "</table>\n",
       "<p>5 rows × 22 columns</p>\n",
       "</div>"
      ],
      "text/plain": [
       "   Weekdays  Weeks  Months  Store  DayOfWeek      Date  Sales  Customers  \\\n",
       "0         1     23       6    867          3  6/3/2015   5608        469   \n",
       "1         1     23       6    868          3  6/3/2015  13500        816   \n",
       "2         1     23       6    869          3  6/3/2015   7007        932   \n",
       "3         1     23       6    870          3  6/3/2015   7911        971   \n",
       "4         1     23       6    871          3  6/3/2015   9198        678   \n",
       "\n",
       "   Open  Promo  ...  Store-1  StoreType  Assortment CompetitionDistance  \\\n",
       "0     1      1  ...      867          d           c             21810.0   \n",
       "1     1      1  ...      868          d           c              1360.0   \n",
       "2     1      1  ...      869          c           a               230.0   \n",
       "3     1      1  ...      870          a           a               780.0   \n",
       "4     1      1  ...      871          d           c             10620.0   \n",
       "\n",
       "  CompetitionOpenSinceMonth  CompetitionOpenSinceYear  Promo2  \\\n",
       "0                       9.0                    2012.0       0   \n",
       "1                       8.0                    2005.0       1   \n",
       "2                      10.0                    2001.0       1   \n",
       "3                       4.0                    2009.0       0   \n",
       "4                       NaN                       NaN       0   \n",
       "\n",
       "   Promo2SinceWeek  Promo2SinceYear    PromoInterval  \n",
       "0              NaN              NaN  Jan,Apr,Jul,Oct  \n",
       "1             10.0           2014.0  Jan,Apr,Jul,Oct  \n",
       "2             14.0           2011.0  Jan,Apr,Jul,Oct  \n",
       "3              NaN              NaN  Jan,Apr,Jul,Oct  \n",
       "4              NaN              NaN  Jan,Apr,Jul,Oct  \n",
       "\n",
       "[5 rows x 22 columns]"
=======
      "cell_type": "code",
      "metadata": {
        "id": "KboRAT1wbL-2",
        "colab_type": "code",
        "colab": {
          "base_uri": "https://localhost:8080/",
          "height": 231
        },
        "outputId": "7a6a390a-b8f9-4e74-fe3a-f0d26e05a087"
      },
      "source": [
        "train_data.head()"
      ],
      "execution_count": 27,
      "outputs": [
        {
          "output_type": "execute_result",
          "data": {
            "text/html": [
              "<div>\n",
              "<style scoped>\n",
              "    .dataframe tbody tr th:only-of-type {\n",
              "        vertical-align: middle;\n",
              "    }\n",
              "\n",
              "    .dataframe tbody tr th {\n",
              "        vertical-align: top;\n",
              "    }\n",
              "\n",
              "    .dataframe thead th {\n",
              "        text-align: right;\n",
              "    }\n",
              "</style>\n",
              "<table border=\"1\" class=\"dataframe\">\n",
              "  <thead>\n",
              "    <tr style=\"text-align: right;\">\n",
              "      <th></th>\n",
              "      <th>Weekdays</th>\n",
              "      <th>Weeks</th>\n",
              "      <th>Months</th>\n",
              "      <th>Store</th>\n",
              "      <th>DayOfWeek</th>\n",
              "      <th>Date</th>\n",
              "      <th>Sales</th>\n",
              "      <th>Customers</th>\n",
              "      <th>Open</th>\n",
              "      <th>Promo</th>\n",
              "      <th>StateHoliday</th>\n",
              "      <th>SchoolHoliday</th>\n",
              "      <th>Store-1</th>\n",
              "      <th>StoreType</th>\n",
              "      <th>Assortment</th>\n",
              "      <th>CompetitionDistance</th>\n",
              "      <th>CompetitionOpenSinceMonth</th>\n",
              "      <th>CompetitionOpenSinceYear</th>\n",
              "      <th>Promo2</th>\n",
              "      <th>Promo2SinceWeek</th>\n",
              "      <th>Promo2SinceYear</th>\n",
              "      <th>PromoInterval</th>\n",
              "    </tr>\n",
              "  </thead>\n",
              "  <tbody>\n",
              "    <tr>\n",
              "      <th>0</th>\n",
              "      <td>1</td>\n",
              "      <td>23</td>\n",
              "      <td>6</td>\n",
              "      <td>867</td>\n",
              "      <td>3</td>\n",
              "      <td>6/3/2015</td>\n",
              "      <td>5608</td>\n",
              "      <td>469</td>\n",
              "      <td>1</td>\n",
              "      <td>1</td>\n",
              "      <td>0.0</td>\n",
              "      <td>0</td>\n",
              "      <td>867</td>\n",
              "      <td>d</td>\n",
              "      <td>c</td>\n",
              "      <td>21810.0</td>\n",
              "      <td>9.0</td>\n",
              "      <td>2012.0</td>\n",
              "      <td>0</td>\n",
              "      <td>NaN</td>\n",
              "      <td>NaN</td>\n",
              "      <td>Jan,Apr,Jul,Oct</td>\n",
              "    </tr>\n",
              "    <tr>\n",
              "      <th>1</th>\n",
              "      <td>1</td>\n",
              "      <td>23</td>\n",
              "      <td>6</td>\n",
              "      <td>868</td>\n",
              "      <td>3</td>\n",
              "      <td>6/3/2015</td>\n",
              "      <td>13500</td>\n",
              "      <td>816</td>\n",
              "      <td>1</td>\n",
              "      <td>1</td>\n",
              "      <td>0.0</td>\n",
              "      <td>0</td>\n",
              "      <td>868</td>\n",
              "      <td>d</td>\n",
              "      <td>c</td>\n",
              "      <td>1360.0</td>\n",
              "      <td>8.0</td>\n",
              "      <td>2005.0</td>\n",
              "      <td>1</td>\n",
              "      <td>10.0</td>\n",
              "      <td>2014.0</td>\n",
              "      <td>Jan,Apr,Jul,Oct</td>\n",
              "    </tr>\n",
              "    <tr>\n",
              "      <th>2</th>\n",
              "      <td>1</td>\n",
              "      <td>23</td>\n",
              "      <td>6</td>\n",
              "      <td>869</td>\n",
              "      <td>3</td>\n",
              "      <td>6/3/2015</td>\n",
              "      <td>7007</td>\n",
              "      <td>932</td>\n",
              "      <td>1</td>\n",
              "      <td>1</td>\n",
              "      <td>0.0</td>\n",
              "      <td>0</td>\n",
              "      <td>869</td>\n",
              "      <td>c</td>\n",
              "      <td>a</td>\n",
              "      <td>230.0</td>\n",
              "      <td>10.0</td>\n",
              "      <td>2001.0</td>\n",
              "      <td>1</td>\n",
              "      <td>14.0</td>\n",
              "      <td>2011.0</td>\n",
              "      <td>Jan,Apr,Jul,Oct</td>\n",
              "    </tr>\n",
              "    <tr>\n",
              "      <th>3</th>\n",
              "      <td>1</td>\n",
              "      <td>23</td>\n",
              "      <td>6</td>\n",
              "      <td>870</td>\n",
              "      <td>3</td>\n",
              "      <td>6/3/2015</td>\n",
              "      <td>7911</td>\n",
              "      <td>971</td>\n",
              "      <td>1</td>\n",
              "      <td>1</td>\n",
              "      <td>0.0</td>\n",
              "      <td>0</td>\n",
              "      <td>870</td>\n",
              "      <td>a</td>\n",
              "      <td>a</td>\n",
              "      <td>780.0</td>\n",
              "      <td>4.0</td>\n",
              "      <td>2009.0</td>\n",
              "      <td>0</td>\n",
              "      <td>NaN</td>\n",
              "      <td>NaN</td>\n",
              "      <td>Jan,Apr,Jul,Oct</td>\n",
              "    </tr>\n",
              "    <tr>\n",
              "      <th>4</th>\n",
              "      <td>1</td>\n",
              "      <td>23</td>\n",
              "      <td>6</td>\n",
              "      <td>871</td>\n",
              "      <td>3</td>\n",
              "      <td>6/3/2015</td>\n",
              "      <td>9198</td>\n",
              "      <td>678</td>\n",
              "      <td>1</td>\n",
              "      <td>1</td>\n",
              "      <td>0.0</td>\n",
              "      <td>0</td>\n",
              "      <td>871</td>\n",
              "      <td>d</td>\n",
              "      <td>c</td>\n",
              "      <td>10620.0</td>\n",
              "      <td>NaN</td>\n",
              "      <td>NaN</td>\n",
              "      <td>0</td>\n",
              "      <td>NaN</td>\n",
              "      <td>NaN</td>\n",
              "      <td>Jan,Apr,Jul,Oct</td>\n",
              "    </tr>\n",
              "  </tbody>\n",
              "</table>\n",
              "</div>"
            ],
            "text/plain": [
              "   Weekdays  Weeks  Months  ...  Promo2SinceWeek  Promo2SinceYear    PromoInterval\n",
              "0         1     23       6  ...              NaN              NaN  Jan,Apr,Jul,Oct\n",
              "1         1     23       6  ...             10.0           2014.0  Jan,Apr,Jul,Oct\n",
              "2         1     23       6  ...             14.0           2011.0  Jan,Apr,Jul,Oct\n",
              "3         1     23       6  ...              NaN              NaN  Jan,Apr,Jul,Oct\n",
              "4         1     23       6  ...              NaN              NaN  Jan,Apr,Jul,Oct\n",
              "\n",
              "[5 rows x 22 columns]"
            ]
          },
          "metadata": {
            "tags": []
          },
          "execution_count": 27
        }
>>>>>>> 3dc444e45122a7b3a50274e46831a1923895dcd8:notebook/Sales_prediction.ipynb
      ]
     },
     "execution_count": 85,
     "metadata": {},
     "output_type": "execute_result"
    }
   ],
   "source": [
    "train_data.head()"
   ]
  },
  {
   "cell_type": "markdown",
   "metadata": {
    "colab_type": "text",
    "id": "Ap56r3xao4qU"
   },
   "source": [
    "**1.2 Cleansing the Data**\n",
    "\n",
    "   1.2.1 Handling Null values"
   ]
  },
  {
   "cell_type": "code",
   "execution_count": 86,
   "metadata": {
    "colab": {
     "base_uri": "https://localhost:8080/",
     "height": 426
    },
    "colab_type": "code",
    "id": "JcV-G4k5brci",
    "outputId": "9aaa7efc-5fe5-4e2d-f5b1-28db9292ccbe"
   },
   "outputs": [
    {
     "data": {
      "text/plain": [
       "Weekdays                          0\n",
       "Weeks                             0\n",
       "Months                            0\n",
       "Store                             0\n",
       "DayOfWeek                         0\n",
       "Date                              0\n",
       "Sales                             0\n",
       "Customers                         0\n",
       "Open                              0\n",
       "Promo                             0\n",
       "StateHoliday                  31050\n",
       "SchoolHoliday                     0\n",
       "Store-1                           0\n",
       "StoreType                         0\n",
       "Assortment                        0\n",
       "CompetitionDistance            2642\n",
       "CompetitionOpenSinceMonth    323348\n",
       "CompetitionOpenSinceYear     323348\n",
       "Promo2                            0\n",
       "Promo2SinceWeek              508031\n",
       "Promo2SinceYear              508031\n",
       "PromoInterval                     0\n",
       "dtype: int64"
      ]
     },
     "execution_count": 86,
     "metadata": {},
     "output_type": "execute_result"
    }
   ],
   "source": [
    "#Checking the no. of NaN values\n",
    "train_data.isna().sum()"
   ]
  },
  {
   "cell_type": "markdown",
   "metadata": {
    "colab_type": "text",
    "id": "JJenGYxjpFPi"
   },
   "source": [
    "1) CompetitionDistance:"
   ]
  },
  {
   "cell_type": "markdown",
   "metadata": {
    "colab_type": "text",
    "id": "Q07X7yjvpTHY"
   },
   "source": [
    "* Before deciding how to treat this,we know there are infinite ways of filling missing values.\n",
    "* The most common and simplistic approach is to fill it with either the mean or the median of this variable.\n",
    "* Let's quickly have a look at those metrics."
   ]
  },
  {
   "cell_type": "code",
   "execution_count": 87,
   "metadata": {},
   "outputs": [
    {
<<<<<<< HEAD:scripts/Sales_prediction.ipynb
     "data": {
      "text/html": [
       "<div>\n",
       "<style scoped>\n",
       "    .dataframe tbody tr th:only-of-type {\n",
       "        vertical-align: middle;\n",
       "    }\n",
       "\n",
       "    .dataframe tbody tr th {\n",
       "        vertical-align: top;\n",
       "    }\n",
       "\n",
       "    .dataframe thead th {\n",
       "        text-align: right;\n",
       "    }\n",
       "</style>\n",
       "<table border=\"1\" class=\"dataframe\">\n",
       "  <thead>\n",
       "    <tr style=\"text-align: right;\">\n",
       "      <th></th>\n",
       "      <th>Weekdays</th>\n",
       "      <th>Weeks</th>\n",
       "      <th>Months</th>\n",
       "      <th>Store</th>\n",
       "      <th>DayOfWeek</th>\n",
       "      <th>Date</th>\n",
       "      <th>Sales</th>\n",
       "      <th>Customers</th>\n",
       "      <th>Open</th>\n",
       "      <th>Promo</th>\n",
       "      <th>...</th>\n",
       "      <th>Store-1</th>\n",
       "      <th>StoreType</th>\n",
       "      <th>Assortment</th>\n",
       "      <th>CompetitionDistance</th>\n",
       "      <th>CompetitionOpenSinceMonth</th>\n",
       "      <th>CompetitionOpenSinceYear</th>\n",
       "      <th>Promo2</th>\n",
       "      <th>Promo2SinceWeek</th>\n",
       "      <th>Promo2SinceYear</th>\n",
       "      <th>PromoInterval</th>\n",
       "    </tr>\n",
       "  </thead>\n",
       "  <tbody>\n",
       "    <tr>\n",
       "      <th>12</th>\n",
       "      <td>1</td>\n",
       "      <td>23</td>\n",
       "      <td>6</td>\n",
       "      <td>879</td>\n",
       "      <td>3</td>\n",
       "      <td>6/3/2015</td>\n",
       "      <td>5155</td>\n",
       "      <td>436</td>\n",
       "      <td>1</td>\n",
       "      <td>1</td>\n",
       "      <td>...</td>\n",
       "      <td>879</td>\n",
       "      <td>d</td>\n",
       "      <td>a</td>\n",
       "      <td>NaN</td>\n",
       "      <td>NaN</td>\n",
       "      <td>NaN</td>\n",
       "      <td>1</td>\n",
       "      <td>5.0</td>\n",
       "      <td>2013.0</td>\n",
       "      <td>Feb,May,Aug,Nov</td>\n",
       "    </tr>\n",
       "    <tr>\n",
       "      <th>411</th>\n",
       "      <td>1</td>\n",
       "      <td>47</td>\n",
       "      <td>11</td>\n",
       "      <td>291</td>\n",
       "      <td>3</td>\n",
       "      <td>11/19/2014</td>\n",
       "      <td>0</td>\n",
       "      <td>0</td>\n",
       "      <td>0</td>\n",
       "      <td>0</td>\n",
       "      <td>...</td>\n",
       "      <td>291</td>\n",
       "      <td>d</td>\n",
       "      <td>a</td>\n",
       "      <td>NaN</td>\n",
       "      <td>NaN</td>\n",
       "      <td>NaN</td>\n",
       "      <td>0</td>\n",
       "      <td>NaN</td>\n",
       "      <td>NaN</td>\n",
       "      <td>Jan,Apr,Jul,Oct</td>\n",
       "    </tr>\n",
       "    <tr>\n",
       "      <th>676</th>\n",
       "      <td>1</td>\n",
       "      <td>23</td>\n",
       "      <td>6</td>\n",
       "      <td>291</td>\n",
       "      <td>2</td>\n",
       "      <td>6/2/2015</td>\n",
       "      <td>9897</td>\n",
       "      <td>973</td>\n",
       "      <td>1</td>\n",
       "      <td>1</td>\n",
       "      <td>...</td>\n",
       "      <td>291</td>\n",
       "      <td>d</td>\n",
       "      <td>a</td>\n",
       "      <td>NaN</td>\n",
       "      <td>NaN</td>\n",
       "      <td>NaN</td>\n",
       "      <td>0</td>\n",
       "      <td>NaN</td>\n",
       "      <td>NaN</td>\n",
       "      <td>Jan,Apr,Jul,Oct</td>\n",
       "    </tr>\n",
       "    <tr>\n",
       "      <th>1007</th>\n",
       "      <td>1</td>\n",
       "      <td>23</td>\n",
       "      <td>6</td>\n",
       "      <td>622</td>\n",
       "      <td>2</td>\n",
       "      <td>6/2/2015</td>\n",
       "      <td>5389</td>\n",
       "      <td>470</td>\n",
       "      <td>1</td>\n",
       "      <td>1</td>\n",
       "      <td>...</td>\n",
       "      <td>622</td>\n",
       "      <td>a</td>\n",
       "      <td>c</td>\n",
       "      <td>NaN</td>\n",
       "      <td>NaN</td>\n",
       "      <td>NaN</td>\n",
       "      <td>0</td>\n",
       "      <td>NaN</td>\n",
       "      <td>NaN</td>\n",
       "      <td>Jan,Apr,Jul,Oct</td>\n",
       "    </tr>\n",
       "    <tr>\n",
       "      <th>1663</th>\n",
       "      <td>1</td>\n",
       "      <td>52</td>\n",
       "      <td>12</td>\n",
       "      <td>291</td>\n",
       "      <td>4</td>\n",
       "      <td>12/25/2014</td>\n",
       "      <td>0</td>\n",
       "      <td>0</td>\n",
       "      <td>0</td>\n",
       "      <td>0</td>\n",
       "      <td>...</td>\n",
       "      <td>291</td>\n",
       "      <td>d</td>\n",
       "      <td>a</td>\n",
       "      <td>NaN</td>\n",
       "      <td>NaN</td>\n",
       "      <td>NaN</td>\n",
       "      <td>0</td>\n",
       "      <td>NaN</td>\n",
       "      <td>NaN</td>\n",
       "      <td>Jan,Apr,Jul,Oct</td>\n",
       "    </tr>\n",
       "  </tbody>\n",
       "</table>\n",
       "<p>5 rows × 22 columns</p>\n",
       "</div>"
      ],
      "text/plain": [
       "      Weekdays  Weeks  Months  Store  DayOfWeek        Date  Sales  Customers  \\\n",
       "12           1     23       6    879          3    6/3/2015   5155        436   \n",
       "411          1     47      11    291          3  11/19/2014      0          0   \n",
       "676          1     23       6    291          2    6/2/2015   9897        973   \n",
       "1007         1     23       6    622          2    6/2/2015   5389        470   \n",
       "1663         1     52      12    291          4  12/25/2014      0          0   \n",
       "\n",
       "      Open  Promo  ...  Store-1  StoreType  Assortment CompetitionDistance  \\\n",
       "12       1      1  ...      879          d           a                 NaN   \n",
       "411      0      0  ...      291          d           a                 NaN   \n",
       "676      1      1  ...      291          d           a                 NaN   \n",
       "1007     1      1  ...      622          a           c                 NaN   \n",
       "1663     0      0  ...      291          d           a                 NaN   \n",
       "\n",
       "     CompetitionOpenSinceMonth  CompetitionOpenSinceYear  Promo2  \\\n",
       "12                         NaN                       NaN       1   \n",
       "411                        NaN                       NaN       0   \n",
       "676                        NaN                       NaN       0   \n",
       "1007                       NaN                       NaN       0   \n",
       "1663                       NaN                       NaN       0   \n",
       "\n",
       "      Promo2SinceWeek  Promo2SinceYear    PromoInterval  \n",
       "12                5.0           2013.0  Feb,May,Aug,Nov  \n",
       "411               NaN              NaN  Jan,Apr,Jul,Oct  \n",
       "676               NaN              NaN  Jan,Apr,Jul,Oct  \n",
       "1007              NaN              NaN  Jan,Apr,Jul,Oct  \n",
       "1663              NaN              NaN  Jan,Apr,Jul,Oct  \n",
       "\n",
       "[5 rows x 22 columns]"
=======
      "cell_type": "code",
      "metadata": {
        "id": "JcV-G4k5brci",
        "colab_type": "code",
        "colab": {
          "base_uri": "https://localhost:8080/",
          "height": 426
        },
        "outputId": "9be7bf55-6674-4ca2-a8f7-28223337fbf2"
      },
      "source": [
        "#Checking the no. of NaN values\n",
        "train_data.isna().sum()"
      ],
      "execution_count": 28,
      "outputs": [
        {
          "output_type": "execute_result",
          "data": {
            "text/plain": [
              "Weekdays                          0\n",
              "Weeks                             0\n",
              "Months                            0\n",
              "Store                             0\n",
              "DayOfWeek                         0\n",
              "Date                              0\n",
              "Sales                             0\n",
              "Customers                         0\n",
              "Open                              0\n",
              "Promo                             0\n",
              "StateHoliday                  31050\n",
              "SchoolHoliday                     0\n",
              "Store-1                           0\n",
              "StoreType                         0\n",
              "Assortment                        0\n",
              "CompetitionDistance            2642\n",
              "CompetitionOpenSinceMonth    323348\n",
              "CompetitionOpenSinceYear     323348\n",
              "Promo2                            0\n",
              "Promo2SinceWeek              508031\n",
              "Promo2SinceYear              508031\n",
              "PromoInterval                     0\n",
              "dtype: int64"
            ]
          },
          "metadata": {
            "tags": []
          },
          "execution_count": 28
        }
      ]
    },
    {
      "cell_type": "markdown",
      "metadata": {
        "id": "JJenGYxjpFPi",
        "colab_type": "text"
      },
      "source": [
        "1) CompetitionDistance:"
>>>>>>> 3dc444e45122a7b3a50274e46831a1923895dcd8:notebook/Sales_prediction.ipynb
      ]
     },
     "execution_count": 87,
     "metadata": {},
     "output_type": "execute_result"
    }
   ],
   "source": [
    "train_data[pd.isnull(train_data.CompetitionDistance)].head()"
   ]
  },
  {
   "cell_type": "code",
   "execution_count": 88,
   "metadata": {},
   "outputs": [
    {
<<<<<<< HEAD:scripts/Sales_prediction.ipynb
     "data": {
      "text/html": [
       "<div>\n",
       "<style scoped>\n",
       "    .dataframe tbody tr th:only-of-type {\n",
       "        vertical-align: middle;\n",
       "    }\n",
       "\n",
       "    .dataframe tbody tr th {\n",
       "        vertical-align: top;\n",
       "    }\n",
       "\n",
       "    .dataframe thead th {\n",
       "        text-align: right;\n",
       "    }\n",
       "</style>\n",
       "<table border=\"1\" class=\"dataframe\">\n",
       "  <thead>\n",
       "    <tr style=\"text-align: right;\">\n",
       "      <th></th>\n",
       "      <th>Weekdays</th>\n",
       "      <th>Weeks</th>\n",
       "      <th>Months</th>\n",
       "      <th>Store</th>\n",
       "      <th>DayOfWeek</th>\n",
       "      <th>Date</th>\n",
       "      <th>Sales</th>\n",
       "      <th>Customers</th>\n",
       "      <th>Open</th>\n",
       "      <th>Promo</th>\n",
       "      <th>...</th>\n",
       "      <th>Store-1</th>\n",
       "      <th>StoreType</th>\n",
       "      <th>Assortment</th>\n",
       "      <th>CompetitionDistance</th>\n",
       "      <th>CompetitionOpenSinceMonth</th>\n",
       "      <th>CompetitionOpenSinceYear</th>\n",
       "      <th>Promo2</th>\n",
       "      <th>Promo2SinceWeek</th>\n",
       "      <th>Promo2SinceYear</th>\n",
       "      <th>PromoInterval</th>\n",
       "    </tr>\n",
       "  </thead>\n",
       "  <tbody>\n",
       "    <tr>\n",
       "      <th>0</th>\n",
       "      <td>1</td>\n",
       "      <td>23</td>\n",
       "      <td>6</td>\n",
       "      <td>867</td>\n",
       "      <td>3</td>\n",
       "      <td>6/3/2015</td>\n",
       "      <td>5608</td>\n",
       "      <td>469</td>\n",
       "      <td>1</td>\n",
       "      <td>1</td>\n",
       "      <td>...</td>\n",
       "      <td>867</td>\n",
       "      <td>d</td>\n",
       "      <td>c</td>\n",
       "      <td>21810.0</td>\n",
       "      <td>9.0</td>\n",
       "      <td>2012.0</td>\n",
       "      <td>0</td>\n",
       "      <td>NaN</td>\n",
       "      <td>NaN</td>\n",
       "      <td>Jan,Apr,Jul,Oct</td>\n",
       "    </tr>\n",
       "    <tr>\n",
       "      <th>1</th>\n",
       "      <td>1</td>\n",
       "      <td>23</td>\n",
       "      <td>6</td>\n",
       "      <td>868</td>\n",
       "      <td>3</td>\n",
       "      <td>6/3/2015</td>\n",
       "      <td>13500</td>\n",
       "      <td>816</td>\n",
       "      <td>1</td>\n",
       "      <td>1</td>\n",
       "      <td>...</td>\n",
       "      <td>868</td>\n",
       "      <td>d</td>\n",
       "      <td>c</td>\n",
       "      <td>1360.0</td>\n",
       "      <td>8.0</td>\n",
       "      <td>2005.0</td>\n",
       "      <td>1</td>\n",
       "      <td>10.0</td>\n",
       "      <td>2014.0</td>\n",
       "      <td>Jan,Apr,Jul,Oct</td>\n",
       "    </tr>\n",
       "    <tr>\n",
       "      <th>2</th>\n",
       "      <td>1</td>\n",
       "      <td>23</td>\n",
       "      <td>6</td>\n",
       "      <td>869</td>\n",
       "      <td>3</td>\n",
       "      <td>6/3/2015</td>\n",
       "      <td>7007</td>\n",
       "      <td>932</td>\n",
       "      <td>1</td>\n",
       "      <td>1</td>\n",
       "      <td>...</td>\n",
       "      <td>869</td>\n",
       "      <td>c</td>\n",
       "      <td>a</td>\n",
       "      <td>230.0</td>\n",
       "      <td>10.0</td>\n",
       "      <td>2001.0</td>\n",
       "      <td>1</td>\n",
       "      <td>14.0</td>\n",
       "      <td>2011.0</td>\n",
       "      <td>Jan,Apr,Jul,Oct</td>\n",
       "    </tr>\n",
       "    <tr>\n",
       "      <th>3</th>\n",
       "      <td>1</td>\n",
       "      <td>23</td>\n",
       "      <td>6</td>\n",
       "      <td>870</td>\n",
       "      <td>3</td>\n",
       "      <td>6/3/2015</td>\n",
       "      <td>7911</td>\n",
       "      <td>971</td>\n",
       "      <td>1</td>\n",
       "      <td>1</td>\n",
       "      <td>...</td>\n",
       "      <td>870</td>\n",
       "      <td>a</td>\n",
       "      <td>a</td>\n",
       "      <td>780.0</td>\n",
       "      <td>4.0</td>\n",
       "      <td>2009.0</td>\n",
       "      <td>0</td>\n",
       "      <td>NaN</td>\n",
       "      <td>NaN</td>\n",
       "      <td>Jan,Apr,Jul,Oct</td>\n",
       "    </tr>\n",
       "    <tr>\n",
       "      <th>4</th>\n",
       "      <td>1</td>\n",
       "      <td>23</td>\n",
       "      <td>6</td>\n",
       "      <td>871</td>\n",
       "      <td>3</td>\n",
       "      <td>6/3/2015</td>\n",
       "      <td>9198</td>\n",
       "      <td>678</td>\n",
       "      <td>1</td>\n",
       "      <td>1</td>\n",
       "      <td>...</td>\n",
       "      <td>871</td>\n",
       "      <td>d</td>\n",
       "      <td>c</td>\n",
       "      <td>10620.0</td>\n",
       "      <td>NaN</td>\n",
       "      <td>NaN</td>\n",
       "      <td>0</td>\n",
       "      <td>NaN</td>\n",
       "      <td>NaN</td>\n",
       "      <td>Jan,Apr,Jul,Oct</td>\n",
       "    </tr>\n",
       "  </tbody>\n",
       "</table>\n",
       "<p>5 rows × 22 columns</p>\n",
       "</div>"
      ],
      "text/plain": [
       "   Weekdays  Weeks  Months  Store  DayOfWeek      Date  Sales  Customers  \\\n",
       "0         1     23       6    867          3  6/3/2015   5608        469   \n",
       "1         1     23       6    868          3  6/3/2015  13500        816   \n",
       "2         1     23       6    869          3  6/3/2015   7007        932   \n",
       "3         1     23       6    870          3  6/3/2015   7911        971   \n",
       "4         1     23       6    871          3  6/3/2015   9198        678   \n",
       "\n",
       "   Open  Promo  ...  Store-1  StoreType  Assortment CompetitionDistance  \\\n",
       "0     1      1  ...      867          d           c             21810.0   \n",
       "1     1      1  ...      868          d           c              1360.0   \n",
       "2     1      1  ...      869          c           a               230.0   \n",
       "3     1      1  ...      870          a           a               780.0   \n",
       "4     1      1  ...      871          d           c             10620.0   \n",
       "\n",
       "  CompetitionOpenSinceMonth  CompetitionOpenSinceYear  Promo2  \\\n",
       "0                       9.0                    2012.0       0   \n",
       "1                       8.0                    2005.0       1   \n",
       "2                      10.0                    2001.0       1   \n",
       "3                       4.0                    2009.0       0   \n",
       "4                       NaN                       NaN       0   \n",
       "\n",
       "   Promo2SinceWeek  Promo2SinceYear    PromoInterval  \n",
       "0              NaN              NaN  Jan,Apr,Jul,Oct  \n",
       "1             10.0           2014.0  Jan,Apr,Jul,Oct  \n",
       "2             14.0           2011.0  Jan,Apr,Jul,Oct  \n",
       "3              NaN              NaN  Jan,Apr,Jul,Oct  \n",
       "4              NaN              NaN  Jan,Apr,Jul,Oct  \n",
       "\n",
       "[5 rows x 22 columns]"
=======
      "cell_type": "code",
      "metadata": {
        "id": "jWFeDzIhcMJA",
        "colab_type": "code",
        "colab": {
          "base_uri": "https://localhost:8080/",
          "height": 272
        },
        "outputId": "e669f167-413f-419f-ced1-4341ca0f5b22"
      },
      "source": [
        "df_store_check_distribution=train_data.drop(train_data[pd.isnull(train_data.CompetitionDistance)].index)\n",
        "fig, axes = plt.subplots(1, 2, figsize=(17,3.5))\n",
        "axes[0].boxplot(df_store_check_distribution.CompetitionDistance, showmeans=True,vert=False,)\n",
        "axes[0].set_xlim(0,max(df_store_check_distribution.CompetitionDistance+1000))\n",
        "axes[0].set_title('Boxplot For Closest Competition')\n",
        "axes[1].hist(df_store_check_distribution.CompetitionDistance, cumulative=False, bins=30)\n",
        "axes[1].set_title(\"Closest Competition histogram\")\n",
        "axes[1].set_xlim((min(df_store_check_distribution.CompetitionDistance), max(df_store_check_distribution.CompetitionDistance)))\n",
        "{\"Mean\":np.nanmean(train_data.CompetitionDistance),\"Median\":np.nanmedian(train_data.CompetitionDistance),\"Standard Dev\":np.nanstd(train_data.CompetitionDistance)}#That's what i thought, very different values, let's see why "
      ],
      "execution_count": 29,
      "outputs": [
        {
          "output_type": "execute_result",
          "data": {
            "text/plain": [
              "{'Mean': 5430.085652302903, 'Median': 2330.0, 'Standard Dev': 7715.31989799512}"
            ]
          },
          "metadata": {
            "tags": []
          },
          "execution_count": 29
        },
        {
          "output_type": "display_data",
          "data": {
            "image/png": "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\n",
            "text/plain": [
              "<Figure size 1224x252 with 2 Axes>"
            ]
          },
          "metadata": {
            "tags": [],
            "needs_background": "light"
          }
        }
>>>>>>> 3dc444e45122a7b3a50274e46831a1923895dcd8:notebook/Sales_prediction.ipynb
      ]
     },
     "execution_count": 88,
     "metadata": {},
     "output_type": "execute_result"
    }
   ],
   "source": [
    "df_store_check_distribution=train_data.drop(train_data[pd.isnull(train_data.CompetitionDistance)].index)\n",
    "df_store_check_distribution.head()"
   ]
  },
  {
   "cell_type": "code",
   "execution_count": 17,
   "metadata": {
    "colab": {
     "base_uri": "https://localhost:8080/",
     "height": 272
    },
    "colab_type": "code",
    "id": "jWFeDzIhcMJA",
    "outputId": "d6b1053f-563c-49f3-c1ce-e7a85fd88849"
   },
   "outputs": [
    {
     "data": {
      "text/plain": [
       "{'Mean': 5430.085652302903, 'Median': 2330.0, 'Standard Dev': 7715.31989799512}"
      ]
     },
     "execution_count": 17,
     "metadata": {},
     "output_type": "execute_result"
    },
    {
     "data": {
      "image/png": "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\n",
      "text/plain": [
       "<Figure size 1224x252 with 2 Axes>"
      ]
     },
     "metadata": {
      "needs_background": "light"
     },
     "output_type": "display_data"
    }
   ],
   "source": [
    "df_store_check_distribution=train_data.drop(train_data[pd.isnull(train_data.CompetitionDistance)].index)\n",
    "fig, axes = plt.subplots(1, 2, figsize=(17,3.5))\n",
    "axes[0].boxplot(df_store_check_distribution.CompetitionDistance, showmeans=True,vert=False,)\n",
    "axes[0].set_xlim(0,max(df_store_check_distribution.CompetitionDistance+1000))\n",
    "axes[0].set_title('Boxplot For Closest Competition')\n",
    "axes[1].hist(df_store_check_distribution.CompetitionDistance, cumulative=False, bins=30)\n",
    "axes[1].set_title(\"Closest Competition histogram\")\n",
    "axes[1].set_xlim((min(df_store_check_distribution.CompetitionDistance), max(df_store_check_distribution.CompetitionDistance)))\n",
    "{\"Mean\":np.nanmean(train_data.CompetitionDistance),\"Median\":np.nanmedian(train_data.CompetitionDistance),\"Standard Dev\":np.nanstd(train_data.CompetitionDistance)}#That's what i thought, very different values, let's see why "
   ]
  },
  {
   "cell_type": "markdown",
   "metadata": {
    "colab_type": "text",
    "id": "5LSv1t2SqQAQ"
   },
   "source": [
    "We see a highly right skewed distribution for this variable with a significant difference between the mean and the median. This being caused by the amount of disperness in the data with a standard deviation of 7659, higher than the mean and the median."
   ]
  },
  {
   "cell_type": "markdown",
   "metadata": {
    "colab_type": "text",
    "id": "bshxEUK9qUHN"
   },
   "source": [
    "**What do we do then?**\n",
    "\n",
    "It is realistically better to input the median value to the Nan stores then the mean since the mean is biased by those outliers."
   ]
  },
  {
   "cell_type": "code",
   "execution_count": 89,
   "metadata": {
    "colab": {},
    "colab_type": "code",
    "id": "nq23xh3gqgIM"
   },
   "outputs": [],
   "source": [
    "train_data['CompetitionDistance'].fillna(train_data['CompetitionDistance'].median(), inplace = True)"
   ]
  },
  {
   "cell_type": "markdown",
   "metadata": {
    "colab_type": "text",
    "id": "u_oX-suNqru9"
   },
   "source": [
    "2) CompetitionOpenSinceMonth and CompetitionOpenSinceYear?"
   ]
  },
  {
   "cell_type": "markdown",
   "metadata": {
    "colab_type": "text",
    "id": "aXjnEaBTqz6K"
   },
   "source": [
    "* Since we have no information whatsoever on those missing values and no accurate way of filling those values.\n",
    "* A creative way could be to apply a multilabel classification algorithm and train on the non Nan fields and then predict what could be most probably the month and year for those fields. But this approach is computationally too long.\n",
    "* So for this purpose those fields are going to be assigned to 0 ."
   ]
  },
  {
   "cell_type": "code",
   "execution_count": 90,
   "metadata": {
    "colab": {},
    "colab_type": "code",
    "id": "iGzy0D_IrA0-"
   },
   "outputs": [],
   "source": [
    "train_data.CompetitionOpenSinceMonth.fillna(0, inplace = True)\n",
    "train_data.CompetitionOpenSinceYear.fillna(0,inplace=True)"
   ]
  },
  {
   "cell_type": "markdown",
   "metadata": {
    "colab_type": "text",
    "id": "1pcM6ltNrNAU"
   },
   "source": [
    "3) Promo2SinceWeek, Promo2SinceYear and PromoInterval ?\n",
    "\n"
   ]
  },
  {
   "cell_type": "markdown",
   "metadata": {
    "colab_type": "text",
    "id": "M_hh9zNnraOE"
   },
   "source": [
    "* This case is pretty straighforward, all the missing values comes from fields where Promo2=0 which means there are no continuous promotional activities for those stores.\n",
    "* Having no promotion means those fields have to be 0 as well since they are linked to Promo2."
   ]
  },
  {
   "cell_type": "code",
   "execution_count": 91,
   "metadata": {
    "colab": {},
    "colab_type": "code",
    "id": "Wf1cIqV9reoy"
   },
   "outputs": [],
   "source": [
    "train_data.Promo2SinceWeek.fillna(0,inplace=True)\n",
    "train_data.Promo2SinceYear.fillna(0,inplace=True)\n",
    "train_data.PromoInterval.fillna(0,inplace=True)\n"
   ]
  },
  {
   "cell_type": "markdown",
   "metadata": {
    "colab_type": "text",
    "id": "jYPapWS6r4mk"
   },
   "source": [
    "4) StateHoliday"
   ]
  },
  {
   "cell_type": "code",
   "execution_count": 92,
   "metadata": {
    "colab": {},
    "colab_type": "code",
    "id": "NIaWtE4wsKiu"
   },
   "outputs": [],
   "source": [
    "train_data.StateHoliday.fillna(0,inplace=True)"
   ]
  },
  {
   "cell_type": "code",
   "execution_count": 93,
   "metadata": {
    "colab": {
     "base_uri": "https://localhost:8080/",
     "height": 426
    },
    "colab_type": "code",
    "id": "tY6h1tSMrux7",
    "outputId": "5e8c669a-11f1-416f-c321-75092596a117"
   },
   "outputs": [
    {
<<<<<<< HEAD:scripts/Sales_prediction.ipynb
     "data": {
      "text/plain": [
       "Weekdays                     100.0\n",
       "Weeks                        100.0\n",
       "Months                       100.0\n",
       "Store                        100.0\n",
       "DayOfWeek                    100.0\n",
       "Date                         100.0\n",
       "Sales                        100.0\n",
       "Customers                    100.0\n",
       "Open                         100.0\n",
       "Promo                        100.0\n",
       "StateHoliday                 100.0\n",
       "SchoolHoliday                100.0\n",
       "Store-1                      100.0\n",
       "StoreType                    100.0\n",
       "Assortment                   100.0\n",
       "CompetitionDistance          100.0\n",
       "CompetitionOpenSinceMonth    100.0\n",
       "CompetitionOpenSinceYear     100.0\n",
       "Promo2                       100.0\n",
       "Promo2SinceWeek              100.0\n",
       "Promo2SinceYear              100.0\n",
       "PromoInterval                100.0\n",
       "dtype: float64"
=======
      "cell_type": "code",
      "metadata": {
        "id": "nq23xh3gqgIM",
        "colab_type": "code",
        "colab": {}
      },
      "source": [
        "train_data['CompetitionDistance'].fillna(train_data['CompetitionDistance'].median(), inplace = True)"
      ],
      "execution_count": 30,
      "outputs": []
    },
    {
      "cell_type": "markdown",
      "metadata": {
        "id": "u_oX-suNqru9",
        "colab_type": "text"
      },
      "source": [
        "2) CompetitionOpenSinceMonth and CompetitionOpenSinceYear?"
>>>>>>> 3dc444e45122a7b3a50274e46831a1923895dcd8:notebook/Sales_prediction.ipynb
      ]
     },
     "execution_count": 93,
     "metadata": {},
     "output_type": "execute_result"
    }
   ],
   "source": [
    "train_data.count(0)/train_data.shape[0] * 100"
   ]
  },
  {
   "cell_type": "markdown",
   "metadata": {
    "colab_type": "text",
    "id": "ArXrlXqDsbmz"
   },
   "source": [
    "**Now all the null values are imputed**"
   ]
  },
  {
   "cell_type": "markdown",
   "metadata": {
    "colab_type": "text",
    "id": "5P_4OuY5tE_0"
   },
   "source": [
    "1.2.2 Handling Outliers"
   ]
  },
  {
   "cell_type": "code",
   "execution_count": 23,
   "metadata": {
    "colab": {
     "base_uri": "https://localhost:8080/",
     "height": 628
    },
    "colab_type": "code",
    "id": "agV3gp5LtgzU",
    "outputId": "a5cbf981-121d-4f39-de46-0e7e17559e82"
   },
   "outputs": [
    {
     "data": {
      "text/plain": [
       "<matplotlib.axes._subplots.AxesSubplot at 0x147010016d8>"
      ]
     },
     "execution_count": 23,
     "metadata": {},
     "output_type": "execute_result"
    },
    {
<<<<<<< HEAD:scripts/Sales_prediction.ipynb
     "data": {
      "image/png": "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\n",
      "text/plain": [
       "<Figure size 360x720 with 1 Axes>"
=======
      "cell_type": "code",
      "metadata": {
        "id": "iGzy0D_IrA0-",
        "colab_type": "code",
        "colab": {}
      },
      "source": [
        "train_data.CompetitionOpenSinceMonth.fillna(0, inplace = True)\n",
        "train_data.CompetitionOpenSinceYear.fillna(0,inplace=True)"
      ],
      "execution_count": 31,
      "outputs": []
    },
    {
      "cell_type": "markdown",
      "metadata": {
        "id": "1pcM6ltNrNAU",
        "colab_type": "text"
      },
      "source": [
        "3) Promo2SinceWeek, Promo2SinceYear and PromoInterval ?\n",
        "\n"
>>>>>>> 3dc444e45122a7b3a50274e46831a1923895dcd8:notebook/Sales_prediction.ipynb
      ]
     },
     "metadata": {
      "needs_background": "light"
     },
     "output_type": "display_data"
    }
   ],
   "source": [
    "#Find the range of data\n",
    "plt.figure(figsize=(5,10))\n",
    "sns.set(style=\"whitegrid\")\n",
    "sns.distplot(train_data[\"Sales\"])"
   ]
  },
  {
   "cell_type": "code",
   "execution_count": 24,
   "metadata": {
    "colab": {
     "base_uri": "https://localhost:8080/",
     "height": 628
    },
    "colab_type": "code",
    "id": "-t7mbdw_tl9b",
    "outputId": "02bd707a-a730-439e-8ad8-534073897ec3"
   },
   "outputs": [
    {
     "data": {
      "text/plain": [
       "<matplotlib.axes._subplots.AxesSubplot at 0x14700f4b0f0>"
      ]
     },
     "execution_count": 24,
     "metadata": {},
     "output_type": "execute_result"
    },
    {
<<<<<<< HEAD:scripts/Sales_prediction.ipynb
     "data": {
      "image/png": "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\n",
      "text/plain": [
       "<Figure size 360x720 with 1 Axes>"
=======
      "cell_type": "code",
      "metadata": {
        "id": "Wf1cIqV9reoy",
        "colab_type": "code",
        "colab": {}
      },
      "source": [
        "train_data.Promo2SinceWeek.fillna(0,inplace=True)\n",
        "train_data.Promo2SinceYear.fillna(0,inplace=True)\n",
        "train_data.PromoInterval.fillna(0,inplace=True)\n"
      ],
      "execution_count": 32,
      "outputs": []
    },
    {
      "cell_type": "markdown",
      "metadata": {
        "id": "jYPapWS6r4mk",
        "colab_type": "text"
      },
      "source": [
        "4) StateHoliday"
>>>>>>> 3dc444e45122a7b3a50274e46831a1923895dcd8:notebook/Sales_prediction.ipynb
      ]
     },
     "metadata": {},
     "output_type": "display_data"
    }
   ],
   "source": [
    "#Find the range of the data\n",
    "plt.figure(figsize=(5,10))\n",
    "sns.set(style=\"whitegrid\")\n",
    "sns.distplot(train_data[\"Customers\"])"
   ]
  },
  {
   "cell_type": "code",
   "execution_count": 25,
   "metadata": {
    "colab": {
     "base_uri": "https://localhost:8080/",
     "height": 628
    },
    "colab_type": "code",
    "id": "nUoUhoE6tuT7",
    "outputId": "e26cb542-c7e2-459c-b1f7-bfd583370523"
   },
   "outputs": [
    {
<<<<<<< HEAD:scripts/Sales_prediction.ipynb
     "data": {
      "text/plain": [
       "<matplotlib.axes._subplots.AxesSubplot at 0x14700eb9ef0>"
=======
      "cell_type": "code",
      "metadata": {
        "id": "NIaWtE4wsKiu",
        "colab_type": "code",
        "colab": {}
      },
      "source": [
        "train_data.StateHoliday.fillna(0,inplace=True)"
      ],
      "execution_count": 33,
      "outputs": []
    },
    {
      "cell_type": "code",
      "metadata": {
        "id": "tY6h1tSMrux7",
        "colab_type": "code",
        "colab": {
          "base_uri": "https://localhost:8080/",
          "height": 426
        },
        "outputId": "6a420691-d0c1-4973-ea50-356a12276fa7"
      },
      "source": [
        "train_data.count(0)/train_data.shape[0] * 100"
      ],
      "execution_count": 34,
      "outputs": [
        {
          "output_type": "execute_result",
          "data": {
            "text/plain": [
              "Weekdays                     100.0\n",
              "Weeks                        100.0\n",
              "Months                       100.0\n",
              "Store                        100.0\n",
              "DayOfWeek                    100.0\n",
              "Date                         100.0\n",
              "Sales                        100.0\n",
              "Customers                    100.0\n",
              "Open                         100.0\n",
              "Promo                        100.0\n",
              "StateHoliday                 100.0\n",
              "SchoolHoliday                100.0\n",
              "Store-1                      100.0\n",
              "StoreType                    100.0\n",
              "Assortment                   100.0\n",
              "CompetitionDistance          100.0\n",
              "CompetitionOpenSinceMonth    100.0\n",
              "CompetitionOpenSinceYear     100.0\n",
              "Promo2                       100.0\n",
              "Promo2SinceWeek              100.0\n",
              "Promo2SinceYear              100.0\n",
              "PromoInterval                100.0\n",
              "dtype: float64"
            ]
          },
          "metadata": {
            "tags": []
          },
          "execution_count": 34
        }
>>>>>>> 3dc444e45122a7b3a50274e46831a1923895dcd8:notebook/Sales_prediction.ipynb
      ]
     },
     "execution_count": 25,
     "metadata": {},
     "output_type": "execute_result"
    },
    {
     "data": {
      "image/png": "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\n",
      "text/plain": [
       "<Figure size 720x720 with 1 Axes>"
      ]
     },
     "metadata": {},
     "output_type": "display_data"
    }
   ],
   "source": [
    "plt.figure(figsize=(10,10))\n",
    "sns.set(style=\"whitegrid\")\n",
    "sns.boxenplot(data=train_data,scale=\"linear\",x=\"DayOfWeek\",y=\"Sales\",color=\"Black\")"
   ]
  },
  {
   "cell_type": "code",
   "execution_count": 26,
   "metadata": {
    "colab": {
     "base_uri": "https://localhost:8080/",
     "height": 628
    },
    "colab_type": "code",
    "id": "RRIikKOmt78o",
    "outputId": "d3ff396b-ef28-4635-fb24-d78a969c125a"
   },
   "outputs": [
    {
     "data": {
      "text/plain": [
       "<matplotlib.axes._subplots.AxesSubplot at 0x14701170710>"
      ]
     },
     "execution_count": 26,
     "metadata": {},
     "output_type": "execute_result"
    },
    {
<<<<<<< HEAD:scripts/Sales_prediction.ipynb
     "data": {
      "image/png": "iVBORw0KGgoAAAANSUhEUgAAAmwAAAJPCAYAAADBrYi9AAAABHNCSVQICAgIfAhkiAAAAAlwSFlzAAALEgAACxIB0t1+/AAAADh0RVh0U29mdHdhcmUAbWF0cGxvdGxpYiB2ZXJzaW9uMy4xLjAsIGh0dHA6Ly9tYXRwbG90bGliLm9yZy+17YcXAAAgAElEQVR4nOzde3hU5b328XsykwQ5laIZwMimKlpfSYWatAraRK1CAFGahqpo8WxFNlauXnEjiaRYKdRSaS0EX6xKi0qNUg7SGOoxlTdUAa00iKYqsBV0EhQNATNJZub9gxIdsgYmh1nrWcn306uX5EcgvywmM/c86zl4IpFIRAAAADBWktMNAAAA4OgIbAAAAIYjsAEAABiOwAYAAGA4AhsAAIDhfE43kCjhcFgHDhxQcnKyPB6P0+0AAADEFIlE1NTUpF69eikpqfV4WpcNbAcOHFB1dbXTbQAAAMTt9NNPV58+fVrVu2xgS05OlnToG09JSXG4GwAAgNgaGxtVXV3dkl+O1GUD2+HboCkpKUpNTXW4GwAAgGOLNY2LRQcAAACGI7ABAAAYjsAGAABgOAIbAACA4QhsAAAAhiOwAQAAGI7ABgAAYDgCGwAAgOEIbAAAAIYjsAEAABiOwAYAAGA4AhsAAIDhCGwAAACGI7ABAAAYjsAGAABgOAIbAACA4QhsAAAAhiOwAQAAGI7ABgAAYDgCG1xrz2d7nG4BAABbENjgSpXvVSpjToY2vr/R6VYAAEg4AhtcpznUrGkrpimiiG574jY1h5qdbgkAgIQisMF1lr6yVDX7ayRJNftr9NCGhxzuCACAxCKwwVUCdQHNfXauDjYelCQdbDyoe8vubQlwAAB0RQQ2uMrK11cqFA5F1cLhsFa+vtKhjgAASDwCG1wlPzNf3iRvVC0pKUk/PPuHDnUEAEDiEdjgKv4+fhWOLVTPlJ6SpJ4pPVU0rkj+Pn6HOwMAIHEIbHCdW753S0tA8/fx6+bzb3a4IwAAEovABtfxeX1afNVieeRRyeQS+bw+p1sCACCheKWDK406dZSqiqt0Yr8TnW4FAICEY4QNrkVYAwB0FwQ2AAAAwxHYAAAADEdgAwAAMByBDQAAwHAENgAAAMMR2AAAAAxHYAMAADAcgQ0AAMBwBDYAAADDEdgAAAAMR2ADAAAwHIENAADAcAQ2AAAAwxHYAAAADEdgAwAAMByBDQAAwHC+RP3FTz31lB577LGWjz/88ENdfvnluvjiizVv3jwFg0GNHTtWM2bMkCRt375dhYWFOnDggLKysjRnzhz5fD7t2bNHBQUF+uSTT3TyySdrwYIF6tWrV6LaBgAAME7CRtgmTZqkNWvWaM2aNVqwYIGOP/543XzzzZo1a5ZKSkpUVlamqqoqVVRUSJIKCgo0e/ZsrV+/XpFIRKWlpZKkOXPmaPLkySovL1dGRoZKSkoS1TIAAICRbLkl+vOf/1wzZszQBx98oCFDhmjw4MHy+XyaMGGCysvLtXv3bjU0NGjEiBGSpLy8PJWXl6upqUmbNm3SmDFjouoAAADdScJuiR5WWVmphoYGjR07VuvWrVNaWlrL7/n9fgUCAdXU1ETV09LSFAgEtG/fPvXu3Vs+ny+q3hZVVVWd840AAAA4JOGB7c9//rOuv/56SVI4HJbH42n5vUgkIo/HE7N++L9fdeTHx5KRkaHU1NQOfAcAAACJFQwGjzrIlNBboo2Njdq0aZMuuugiSdLAgQNVW1vb8vu1tbXy+/2t6nv37pXf71f//v21f/9+hUKhqM8HAADoThIa2N555x194xvfUM+ePSVJw4cP144dO7Rr1y6FQiGtW7dO2dnZSk9PV2pqqrZs2SJJWrNmjbKzs5WcnKysrCyVlZVJklavXq3s7OxEtgwAAGCchN4S/eCDDzRw4MCWj1NTUzV//nxNnz5dwWBQOTk5ys3NlSQtWLBARUVFqq+v17BhwzRlyhRJUnFxsWbOnKklS5Zo0KBBuv/++xPZMgAAgHE8kUgk4nQTiXD4XjBz2AAAgOmOlVs46QAAAMBwBDYAAADDEdgAAAAMR2ADAAAwHIENAADAcAQ2AAAAwxHYAAAADEdgAwAAMByBDQAAwHAENgAAAMMR2AAAAAxHYAMAADAcgQ0AAMBwBDYAAADDEdgAAAAMR2ADAAAwHIENAADAcAQ2AAAAwxHYAAAADEdgAwAAMByBDQAAwHAENgAAAMMR2AAAAAxHYAMAADAcgQ0AAMBwBDYAAADDEdgAAAAMR2ADAAAwHIENAADAcAQ2AAAAwxHYAAAADEdgAwAAMByBDQAAwHAENgAAAMMR2AAAAAxHYAMAADAcgQ0AAMBwBDYAAADDEdgAAAAMR2ADAAAwHIENAADAcAQ2AAAAwxHYAAAADEdgAwAAMByBDQAAwHAENgAAAMMR2AAAAAxHYAMAADAcgQ0AAMBwBDYAAADDEdgAAAAMR2ADAAAwHIENAADAcAQ2AAAAwxHYAAAADEdgAwAAMByBDQAAwHAJDWwvvvii8vLyNHbsWN17772SpMrKSk2YMEGjR4/WwoULWz53+/btysvL05gxY1RYWKjm5mZJ0p49e3T11VcrNzdXU6dO1YEDBxLZMgAAgHESFtg++OADFRcXq6SkRGvXrtVbb72liooKzZo1SyUlJSorK1NVVZUqKiokSQUFBZo9e7bWr1+vSCSi0tJSSdKcOXM0efJklZeXKyMjQyUlJYlqGQAAwEgJC2zPPfecxo0bp4EDByo5OVkLFy7UcccdpyFDhmjw4MHy+XyaMGGCysvLtXv3bjU0NGjEiBGSpLy8PJWXl6upqUmbNm3SmDFjouoAAADdiS9Rf/GuXbuUnJysW2+9VR999JEuuOACnXbaaUpLS2v5HL/fr0AgoJqamqh6WlqaAoGA9u3bp969e8vn80XVAQAAupOEBbZQKKTNmzdr+fLl6tmzp6ZOnaoePXrI4/G0fE4kEpHH41E4HLasH/7vVx358bFUVVV17BsBAABwWMIC2wknnKCRI0eqf//+kqSLL75Y5eXl8nq9LZ9TW1srv9+vgQMHqra2tqW+d+9e+f1+9e/fX/v371coFJLX6235/LbIyMhQampq53xTAAAACRAMBo86yJSwOWwXXnihNmzYoLq6OoVCIb3yyivKzc3Vjh07tGvXLoVCIa1bt07Z2dlKT09XamqqtmzZIklas2aNsrOzlZycrKysLJWVlUmSVq9erezs7ES1DAAAYKSEjbANHz5cN910kyZPnqympiadd955uuqqq3TKKado+vTpCgaDysnJUW5uriRpwYIFKioqUn19vYYNG6YpU6ZIkoqLizVz5kwtWbJEgwYN0v3335+olgEAAIzkiUQiEaebSITDQ4vcEgUAAKY7Vm7hpAMAAADDEdgAAAAMR2ADAAAwHIENAADAcAQ2AAAAwxHYAAAADEdgAwAAMByBDQAAwHAENgAAAMMR2AAAAAxHYAMAADAcgQ0AAMBwBDYAAADDEdgAAAAMR2ADAAAwHIENAADAcAQ2AAAAwxHYAAAADEdgAwAAMByBDQAAwHAENgAAAMMR2AAAAAxHYAMAADAcgQ0AYKs9n+1xugXAdQhsAADbVL5XqYw5Gdr4/kanWwFchcAGALBFc6hZ01ZMU0QR3fbEbWoONTvdEuAaBDYAgC2WvrJUNftrJEk1+2v00IaHHO4IcA8CGwAg4QJ1Ac19dq4ONh6UJB1sPKh7y+5tCXAAjo7ABgBIuJWvr2x1CzQUCmnl6ysd6ghwFwIbACDh8jPzFYlEomrhSFg/PPuHDnUEuAuBzUEsbQfQXUQiEckTXfN4PNafDKAVAptDWNoOoDtZ+fpKJXmiX3I8Hg+3RIE4EdgcwNJ2AN1Nfma+vEneqJo3ycstUSBOBDYHsLQdQHfj7+NX4dhC9UzpKUnqmdJTReOK5O/jd7gzwB0IbDZjaTuA7uqW793SEtD8ffy6+fybHe4IcA8Cm81Wvr5SoXAoqhYOh5nHAaDL83l9WnzVYnnkUcnkEvm8PqdbAlyDwGYzq3kcSUlJzOMAXIQV3u036tRRqiqu0shTRjrdCuAqBDabMY8DcDdWeHfcif1OdLoFwHUIbA5gHgfgTqzwBuAUApsDmMcBuBMrvAE4hcDmEOZxAO7CCm8ATiKwOYh5HIB7sMIbgJMIbAAQB1Z4A3ASgQ0A4sAKbwBOIrABQJxu+d4t6tujryTpa8d9jRXeAGxDYAOAdohEIk63AKAbIbA5iN3SAXdZ+spS1TXUSZLqGurY1gOAbQhsDmG3dMBd2Naj8/BmFU5x82OPwOYAdksH3IdtPToHb1bhFLc/9ghsDmC3dJjAze80ncC2Hh3Hm1U4pSs89ghsNuO2Ckzg9neaTmBbj47jzSqcsvSVpfr4848lSR9//rErH3sENptxWwVO6wrvNJ3y1W09+vboy7YebcCbVTjl8GOvoblBktTQ3ODKxx6BzWbcVoHTGOXoHB6Px+kWXIU3q3DKytdXqrG5MarW2Nzouscegc1m3FaBkxjl6Jivbuvx+RefE3bbgDercErO6TlqDkffSWgONyvn9ByHOmofApsDbvneLS0Bzd/Hz20V2IZRjvYj7HaMv49fBZcURNXuHH0nb1aRcBXVFfJ6ot8s+Dw+VVRXONRR+xDYHODz+jQ1Z6okadoF0+Tz+hzuCN0FoxztR9jtuFd3vhr98Y5XY3wm0HnyM/OV4kuJqiX7kl33vEdgc0BzqFkLn18oSfrNc79h0jdswy359iPsdkzV7iqVbyuPqj277Vm99dFbDnWE7sLfx69ZY2dF1QrHFrrueY/A5oAlFUsUqAtIOnSb5cG/P+hwR+hOuCXfPoTdjplXPs+y/suyX9rcCbojq0UHbpPQwPbjH/9Y48eP1+WXX67LL79cb775pp555hmNGzdOo0eP1uOPP97yuZWVlZowYYJGjx6thQsXttS3b9+uvLw8jRkzRoWFhWpudvdoVKAuoF/89ReK6NDB0RFFdM+6e5gHA9v4vD4tvmqxPPKoZHIJt+TbgLDbfoXjCi3rs8bNsqwDneXw/NOvuvdZ980/TVhgi0Qi2rlzp9asWdPy/4EDB2rhwoV64okntHr1aj355JN699131dDQoFmzZqmkpERlZWWqqqpSRcWhyYAFBQWaPXu21q9fr0gkotLS0kS1bItllcvUFG6KqjWFm7SscpkzDaFbGnXqKFUVV2nkKSOdbsVVCLvtd+agMzVu2Lio2viM8Tpz0JkOdYTuYtFLixSOhKNq4UhYi19a7FBH7ZOwwPb+++9Lkm644QZddtlleuyxx1RZWalzzz1X/fr1U8+ePTVmzBiVl5dr69atGjJkiAYPHiyfz6cJEyaovLxcu3fvVkNDg0aMGCFJysvLU3l5+dG+rPHYuwmmOLHfiU634EqE3fZ7eMrD8iUdCrm+JJ/+8OM/ONwRuoPtH223rG/7aJvNnXRMwt4e1tXVaeTIkbr77rvV1NSkKVOmaOzYsUpLS2v5HL/fr61bt6qmpqZVPRAItKqnpaUpEAi0qY+qqqqOfzOd6GTvyZb1U7ynaMuWLTZ3A6A9qj+p1unHn+50G650a+atWrRpkaZmTtW2f7nrBRPuNHbwWL3wzgut6uNOGueq192EBbZvf/vb+va3v93ycX5+vubNm6epU6e21CKRiDwej8LhcNTI07HqbZGRkaHU1NQOfCed69WXX1WSJylqeNbr8ao2uVb5mfkOdgYgHktfWar/efZ/9Osf/lo3nX+T0+24TmZmpvLOz9O3/+vbx/5koBO8+rL19jHB3kFlZmba3E1swWDwqINMCbslunnzZm3c+OXB0pFIROnp6aqtrW2p1dbWyu/3a+DAgXHV9+7dK7/f3Suy8jPzleqLDpApvhS2BgBcoKGxQYWrD02ev2vVXWpobHC4I3cirMFOsU404KSD/9i/f7/uu+8+BYNB1dfXa9WqVfr1r3+tjRs36tNPP9UXX3yhv/3tb8rOztbw4cO1Y8cO7dq1S6FQSOvWrVN2drbS09OVmpraMmS5Zs0aZWdnJ6plW/j7+HVX7l1RtVljZ7E1AOACN/7pxpYjbprDzbppOSNsgOkqqivkUfTdOY88rjvpIGG3RC+88EK9+eabmjhxosLhsCZPnqzMzEzNmDFDU6ZMUVNTk/Lz83XWWWdJkubPn6/p06crGAwqJydHubm5kqQFCxaoqKhI9fX1GjZsmKZMmZKolm3j8XjkkUcRReT5z/8AmK1qd5XKtpVF1f5a9Ve99dFbrHQEDJafma/CNdHbykQUcd2dLU8kEok43UQiHL4XbNoctkBdQGfPPbvlPELp0AacbxS9wSgbYLCrH75aZVVlrerjM8brsRsfc6AjAPGoqK7QxCUTW9WfmfaMzh96vgMdWTtWbuGkA5txHiHgTmz8CrhTwdMFlvWfPfUzmzvpGAKbzTiPEHAnNn4F3Cn7dOu577HqpiKw2ezweYSHV4qm+lI5jxBwCTZ+BdznzjF3WtYLRluPvJmKwOaAG0bd0HJbNBQO6fqR1zvcEYB49EjpobkTD51JOO8H89QjpYfDHQE4lkgkYrlK1G0IbA54pPKRqHfpj2581OGOAMTrlu/dohdnvMimuYBLLKtcpoii11dGFHHdGd4ENpsF6gKa++xcNTQf2nCzoblB95bdq5r9NQ53BiBebPwKJ+35bI/TLbhKrNfX2vpay7qpCGw2Y5UoAKC9Kt+rVMacDG18f+OxPxmSpOpAtWX97Y/ftrmTjiGw2YxVogCA9mgONWvaimmKKKLbnrhNzaFmp1tyhbP/62zr+mDruqkIbDY7vEq0Z0pPSYc2zWWVKADgWJa+srTl9l7N/ho9tOEhhztyhx9l/ciyfsV3rrC5k44hsDnglu/d0hLQ/H38uvn8mx3uCABgssPznw+fknOw8SDzn+O0buu6NtVNRWBzgM/r0+KrFssjj0oml8jnTdiRrgCALoD5z+2365Nd1vVPreumIrA5ZNSpo1RVXKWRp4x0uhUAgOGY/9x+G97bYF1/17puKgKbg07sd6LTLQAAXID5z+134tesX2tj1U1FYHMQe+kA6I547msf5j+3z205t1nXL7Cum4rA5hD20gHQHfHc134+r09Tc6ZKkqZdMI35z3GKtZr2oVfctcqWwOYA9tIB0B3x3NcxzaFmLalYIkla/PJirl+cDgQPWNcbreumIrA5gL10AHRHPPd1zNJXlurjzz+WJH38+cdcv3i575x3SwQ2m7GXDuB+zMFqO577OoZzqDsgcuxPcQMCm83YSwdwN+ZgtQ/PfR2z8vWVamxujKo1Njdy/eLQFGqyrjdb101FYLNZfma+kjzRl93j8bCXTjswygG7MQer/dhHrGNyTs9Rczj68dYcblbO6TkOdeQedQ11lvXPv/jc5k46hsBmM38fv3JOi/4Bu+D0C9hLp40Y5YATmEPUfv4+ft2Ve5c8/5lQ5JFHs3Jn8dwXp4rqipZrd5hHHlVUVzjUkXucOehMy3pGeobNnXQMgc1mgbqAXnjnhaja828/zzyENmCUA05gDlHHRSLRk4kiXWVykQ1yTs9pdb0iijDCFod3Au9Y1t/++G2bO+kYApvNllUua3U/vSnUpGWVy5xpyIVYaQYnMIeoYwJ1Ac1fP78ldEQU0bzyeQTeOHWVA8ydMHzw8DbVTUVgs9mRQ9poG1aawSnMIeoYAm/H8NrRfjv37rSsxzoU3lQENptdd951Sk5KjqolJyXrulHXOdOQy7DSDE6pqK6Q1xM9ad7r8TKHKE4E3o4Zf9Z4y/qlZ11qcyfuc3je6ZE++uwjmzvpGAKbzfx9/Lp7/N1RE29nXzqbibdxYqUZnJKfmd+q5hErvONlFXh9Hh+BN04V1RXyJUUfReVL4vrFw+OJMTrpskFLApsDpuZMVY+UHpKk41KO063ZtzrckXv4+/hVOLZQPVN6SpJ6pvRU0bgiAi8SLhKJtJo0H46EHerGffIz85Xsjb674PP6CLxxys/MV4ovJaqW4kvh+sVh0NcGtaluKgKbAxoaG/RF4xeSDs3BamhscLgjd7nle7e0BDR/H79uPv9mhztyJ/axa5tllcsUVnRACyvMgqE4+fv4W93+ZEuj+B1+s5riPRTaUrwpvFmN0zcHfNOyfsbAM2zupGMIbA64+LcXR318ye8ucagTd/J5fVp81WJ55FHJ5BL5vL5j/yFEqXyvUsPmDGMfuzaIeVsFcQnUBfT89uejas9tf44FQ21ww6gbWkZ1w5Gwrh95vcMducO/dv+rTXVTEdhsVlFdoXdqoveEeTvwtja8u8Ghjtxp1KmjVFVcpZGnjHS6FddpDjXrxj/dKEm64Y83sI9dnK4bdV2rW3op3hQWDMVp0UuLFIpELxgKRUJa/PJihzpyn0cqH2mZw+tN8urRjY863JE77KmzvpvgtrsMBDabFTxdYFn/WenPbO7E/U7sd6LTLbjSkoolCtQFJB0a9Xjw7w863JE7+Pv4NXv87OgFQ+NZMBSv7R9vt6y/tectmztxp8NbGgWbg5KkYHOQLY3idFXWVZb1q797tc2ddAyBzWZZ38iyrp9sXQc6U6AuoF/89RdRm5fes+4envTjdGv2rRrQd4AkaeDXBuon2T9xuCP3mHLOFOv6SOs6orGlUfut2LTCsv74a4/b3EnHENhs9o3jv2FZH9J/iL2NoFtaVrlMTeEjTtoIc9JGvHxenx6e8rA88ujhKQ8zf7INntzypHV9k3Ud0fIz8y03z2WV6LENOd769dVtr7sENptdN+o6ywN8mQfTdm/87xtOt+A6TJzvuFGnjtILM15g/mQbFY4rtKzPGjfL5k7cyd/Hr749+kbV+h7Xl1vycbjj+3dY1y+2rpuKwGazmroaywN899bvdagjd1r6ylJdtPAi/WHDH5xuxVWsJs4nezlpoy0q36vU9xd+nxW2bRQOs2ddR1RUV6imPnrqQs3+GhasxWHh8wst6799/rc2d9IxBDabzSufZ1n/Zdkvbe7EvRoaG1S4+tC79btW3cU+dm3g7+PX97/5/ajaxWdczLv0ODWHmjVtxTRFFNFtT9zGCts2KH6m2LI+e+1smztxp7tW3WVZ/5+V/2NzJ+6z85OdlvX3975vbyMdRGCzGbcFOu7GP93YciZhc7hZNy2/yeGO3CNQF1DFv6OPsnm5+mUWHcRp6StLW65Vzf4aPbThIYc7co+Tjz+5TXVEm5k707o+1rqOL22fs137Fu5r9f8dv9zhdGttQmCz2ZmDztTp/tOjat8c8E2dOehMhzpyl6rdVSrbVhZV+2vVX/XWR2wNEA9WmrXf4W0VDjYelHTolBK2VYifv6/1KG5anzSbO3GnD/d92KY6vtQjuYfTLXQKApvNAnUBVddUR9XeCbzDk36cuKXcMfmZ+ZbnYbLS7NgIux0z/lvjLeuXnnWpzZ24U8aJGZb1b6V/y+ZO4BQCm80WvbTIsr74JXb7jge3lDsmEonoyJ0BWDkan/zM/JZd5g9LSkoi7MaporqiTXVE+/Xffm1Zv2/9fTZ3AqcQ2Gz22s7XLOuv7nzV5k7c6cxBZyr3zNyo2thhY7mlHKeVr69Ukif6x97j8TBKFAd/H7+yh2ZH1XJOy2HBRpyOPPj9WHVEaww1WtebrevoeghsNkv1plrWU7wpNnfiXt/5xneiPx7ynRifiSNZjRJ5k7yMEsXB8vDytzi8PF7rtq5rUx3Rzj35XMv6OSefY3MncAqBzWYFY6zPEr1zzJ02d+JOgbqA5pfPj6rNK5/Hi2ac/H38uiv3rqjzMGflzmKUKA7LKpepORK9jUdzpJlTIuJ0IHigTXVE+1HWjyzrV3znCps7gVMIbDarfK+yTXVE42iljjty0cGRGznDGnP9OiZWMDu86hZHV1FdYXlKDnMAuw8Cm80ONMZ4lxmjjmi8aHZMoC6g+evnRx3+zghlfGKdBsEpEfGprq22rL9T847NnbhTzuk5lqfkMAew+yCw2ax3Sm/Leq+UXjZ34k7Xjbqu1aT5JE8SL5pxYmuK9qupsw61HCsXn7NPOtuy/u2Tvm1zJ+7EHEAQ2Gx23XnXyeuJnvTt8/gIHHGKRCKWtwUQH7amaL+fP/Nzy3rxWusjlxBt2kXTrOsXWtcRbdcnu6zrn1rX0fUQ2Gzm7+PXqSecGlU7Ne1UJn3HaVnlMoUi0SNEoUiIOWxxYtFB+515ovXWMbHqiObv49foM0ZH1cb8nzE89uK0eddm6/oO6zq6HgKbzap2V7Way/FOzTscrRQnVpp1XCQSiZrDxqKD+KT1tj5CaUDfATZ34k6BuoBe+vdLUbUXq19k/mScpl843br+fes6uh4Cm824rdIxvVNjzAFMZQ5gPAJ1gVbHe/3y2V/yohmH+/5mvaP8vGetj0tDtGWVy9QUOmKFd4gV3vEqf6vcul5lXUfXQ2CzWawDkGPVEe26865T0hEP2ySx6CBeK19fqWBTMKrW2NTIooM4zPuBdTCLVUe0nXt3WtZjzc1CNI7lA4HNZu/VvNemOqL5+/g11D80qnbagNOYBxOnnNNzFFY4qhZSiK0B4nDNOddYvlm45pxrHOrIXSrft95rcsO7G2zuxJ2O73W85YKrE3qf4FBHsBuBzWapvhhHU/k4mioeVburVF1zxBzAAHMA48XWAO1XtbuqVdgNK8xjL07J3mTLOs998VlWucxyHzZuKXcfcQW2L774Qv/85z8lSStWrNCsWbO0Z8+ehDbWVeVn5lvWYx07gmjMAeyYmBs3s2jjmIqfsX6MzV472+ZO3CmwP2BZ/3j/xzZ34k6x5pnW7q+1uRM4Ja7Adtddd+mFF17Q1q1b9Yc//EGDBg3S3XffnejeuqTfv/R7y/oDLz5gcyfuxNYKCcJWdsfUt0ffNtURrYevR5vqiBZrv7Udn+ywuRM4Ja7A9sEHH+hnP/uZXnrpJf3gBz/Q9OnT9dlnnyW6ty7pW+nfsqxnnJhhcyfudEWW9UHHseo4QqwdPNjZ45g27dzUpjqixTpWjo2v4zPl3CmW9WtHXmtzJ3BKXIGtublZkrRhwwade+65CoVCOniQA3vbo66hrk11RGMOVsdwAHf7HXlCxGFHHpUGa584acgAACAASURBVM3h5jbVEe3JzU9a1zdZ19H1xPVMM2LECI0bN04NDQ06++yzdd1112nUqFFxfYFf/epXmjlzpiRp+/btysvL05gxY1RYWNgSBPfs2aOrr75aubm5mjp1qg4cOPSiUldXp1tuuUVjx47V1Vdfrdpa99+r/+lFP7Ws3/H9O2zuxJ1izuOod/9jww5VH1VZ1/dY1/Gln13yM8t6wZgCmztxp4amhjbVEW3MmWMs67kZuTZ3AqfEFdhuu+023XPPPXriiSeUlJSkG2+8UYWF1nvCfNXGjRu1atWqlo8LCgo0e/ZsrV+/XpFIRKWlpZKkOXPmaPLkySovL1dGRoZKSkokSb/97W+VlZWlZ599VpMmTdLcuXPb8z0a5V+7/9WmOqK98b9vWNZf3/W6zZ24U6wVeT6vz+ZO3OfxVx+3rD/2j8ds7sSdrsq6yrJ+9XevtrkTd2L+M+IKbNdee62ysrLUp08fSdIFF1ygpKSj/9HPPvtMCxcu1K233ipJ2r17txoaGjRixAhJUl5ensrLy9XU1KRNmzZpzJgxUXVJevnllzVhwgRJ0qWXXqq///3vampqsvhq7hFrrlqsuW2I9lmD9dzJfV/ss7kTd/pV3q/aVMeXdn++27r+mXUd0Z564ynLeunrpTZ34k5DTxhqXfdb19H1xBXY0tPT9frrryscDh/7k/9j9uzZmjFjhvr2PbSCqqamRmlpX57Fl5aWpkAgoH379ql3797y+XxR9SP/jM/nU+/evfXpp5/G3YOJfvfi7yzrv33htzZ34k4PXGH9bjJWHdGO73W8ZZ3NN4/t6z2/bl3vZV1HtOZQjDlszcxhi8e2j7dZ1/dY19H1xHUf5L333tPkyZPl8/mUkpKiSCQij8ej11+3vg311FNPadCgQRo5cqT+8pe/SJLC4XDUKqHDf8fh/35VrNVEkUjkmCN7R6qqMmtujrfReuKyN+jVli1bbO7Gfd7+6G3LevU71Tru8+Ns7sZ9fveq9RuGguUFuv2c223uxl3CjdZvWMPBMD+7cQiHYly/ENcvHn29MbaV8fbl+h1DZmbmUX/fLdcvrsD2+OPWczdiKSsrU21trS6//HJ9/vnnOnjwoDweT9Sigb1798rv96t///7av3+/QqGQvF6vamtr5fcfOmbI7/dr7969GjhwoJqbm3XgwAH169evTb1kZGQoNdX6dAEnfPGPL6zrvi+O+aCCdPO9N1vWF/9zsbYUuuOHzklV5TEWHeyr4vF3DMPfGa639rY+1WD4KcO5dnHwPumVLDKb1+vl+sXhys+v1N3PtN7/9KrzruL6dZAp1y8YDB51kCnuW6L/+te/VFpaqv79++uNN95Qenp6zM9/9NFHtW7dOq1Zs0a33367LrroIs2bN0+pqaktSXbNmjXKzs5WcnKysrKyVFZWJklavXq1srOzJUk5OTlavXq1pEMhMCsrS8nJ1sebuMXgfoPbVEe0tD5p1vXe1nVE+/43v29Zv+ibF9ncifvEWqFcU2ddR7TjfNYj4MclMzIej4UvLLSs3//c/TZ3AqfEFdiWLl2qFStWqLy8XA0NDVq0aJEWL17c5i+2YMECzZs3T7m5uTp48KCmTDm0EWBxcbFKS0s1btw4bd68WXfccWiLi5/+9Kf65z//qfHjx+uJJ57Q7NnuPwLmvdoYh7/HqCPatAumWdcvtK4j2nWjrrOsX3/e9fY24kKxtuT56fet64jWIzXGSQcpnHQQj14pvazrqdZ1dD1x3RL961//qqeeeko/+tGP9PWvf12lpaW64oorNG3asV8k8/LylJeXJ0k644wz9PTTT7f6nPT0dC1fvrxVvV+/fnrwwQfjadE1Yu72HaOOaA+98lDM+oSzJtjcjfscbePhMwdxvNfRHG1LnvOHnm9zN+6zedZm9UhuHc7Yhy0+e+v3WtZr69iDsruIa4Tt8GKDw/r27duyqhNt0zOlp3U91bqOaI2hRst6sDlocyfuxOHv7ceWPB1jFdaOVke0zCHW86wyv2HG/CskXlyBbdCgQXr55Zfl8XjU2NioJUuWHHUOG2LbuGOjZb3yvUqbO3GnU0841bLOXkTxiXk0VRNHUx3L/33l/1rWH6zoWncBYKZAXcCyXvM5cyi7i7gC2913361HH31U77zzjkaMGKG///3vuvvu1qtVcGwnfe2kNtURraaeid8dwUkR7XdF1hXW9e9Y14HO9IMRP7Cs/zDzhzZ3AqfEFdgGDBigP/7xj9qyZYtee+01rVixghG2dmoMW9/S4wDk+Ew5d4p1faR1HdE4KaL9Fr9kvdCq5OUSmztBd7TsH8ss64/8v0fsbQSOiWsiWm1trVatWqXPPot+sr/zzjsT0lRXtnuf9TE2H+z7wOZO3CnmooMNLDqIxw0jb7Dcy+mm829yoBt3qT1gPbk71nYfQGdakL9AUx5t/cb01/m/dqAbOCGuEbapU6dq69atikQiUf9H2/U7znrj368fx/E2cYm1mJaHY1weqbR+N/7whodt7sR9bhx1o3X9fOs60JlOPv5ky/qpadbzetH1xDXC1tTUpEWLFiW6l25h4rcn6uH/1/rFceLZEx3oxn3uHH2nNry7oXV9DKO98UjxprSpji/9/qXfW9YXvbhIt+XcZnM36G7uWnWXZX3mX2Zq7bS1NncDJ8Q1wjZs2DBVV1cnupdu4bKzLrOsXz78cps7cadVb6yyrK95c43NnbjTwWbr1aCsEj22fQes5/l9Uv+JzZ2gO/r484/bVEfXE9cI29lnn62JEycqLS0tav+1F154IWGNdVXf+cZ3tG9h6yf+LxqtzxhFtA3vtR5dk6S/V//d5k7cadjAYfrg09bzJWPtMYYv9erRS40HWy8a6tWDneaReP+773/bVEfXE1dge/jhh7VgwQL913/9V6L76fKOS4lxnl6MOqL99wX/rZ+Wtj4KaPpF0x3oxn22fbTNsl61O/aBwzikZ3JP7VPrN1uxjgwCOlO/4/pZbmv0tR5fc6AbOCGuwNa3b1+NGzcu0b0AxxTr1ufqf67WNedcY3M37pPWO81yRfIJfU5woBt3OW3Aadr9eetV3qcPPN2BbtDdvDn7TY726ubimsN27rnn6le/+pXeeOMNbdu2reX/gN0yBlnfuhs2aJjNnbiTv4/fsj6g7wCbO3Gf1//XenPhzbs229yJe7R1NwF2H4iNo70Q1wjbM888I0lav359S83j8TCHDbZrCjc53YKrxQoXm3cQOo6lZ0pP1TXUtapzSzQ2j8ejPZ/tifvzT+x3YgK7AdwtrsD24osvJroPIC4P/t363Mbfv/R7zblsjs3duM+l37rUcsf0y0ewSvlY3ih6g9EMAI6J65bowYMH9fOf/1wXXXSRsrOzddddd6m+vj7RvQGteD3eNtURbcXmFZb15a8tt7kT9yGsAXBSXIFt3rx5amxs1OLFi1VSUiKPx6Nf/OIXie4NaCUj3XoO21knnWVzJ+7kiXFURFIkrqcCAIBD4rol+uabb2rt2i93Ur733ns1fvz4hDUFxLJtD9tSdESKN0UNza1XlSX7kh3oBgAQr7jeVodCIYXD4ZaPw+GwvF5uQcEcEQ4TjUt90HoqQ6w6AMAMcY2wnXvuubrjjjt01VVXSZJWrFih7373uwltDLDSK6WXPmv4rHU9lZV68Uj1peqL5tanaqT6Uh3oBgAQL08kjo1vmpubVVJSoldeeUWhUEjf+973NG3aNKWkmHtgdDAYVFVVlTIyMpSa6uyLUSQSkcdjPXeoM/9Md1DfUK/ePXrHXUd8DgQPEHqREGzrAcTnWLklrhG20tJS3X777br99ttbakuXLtUtt9zSeZ12YW3di0jiiSuWWKGMsNYxhDUAMNtRA9uKFSvU0NCgZcuWKRgMttSbmpr05z//mcAGAACM0xXvbB01sPl8PlVXV6uhoUHV1dUtda/Xq5kzZya8OQAAuqOuGDjs1BXvbB01sE2aNEmTJk3S888/r4svvtiungAA6Na6YuBAx8Q1h+3kk0/WU089pfz8fM2YMUNVVVW69957de655ya6PwCAS1iN8HQkRDBiBHwprsBWXFysH/3oR3r55ZcVCAQ0d+5c3X///XryyScT3R8AwCU8Ho8279rcaX9f1pCsTvu7ALeLa+PcYDCoyy67TBs2bNDYsWN1zjnnqKmpKdG9AQAAQHEGtsbGRu3du1cvv/yyRo0apb1790atGgUAAEDixBXYrrjiCl144YXKzMzU0KFDlZ+fr2uvvTbRvQGSDs1jSeTnA7G057HE4w9AIsQ1h23y5Mm68sorlZR0KN+tWrVKX//61xPaGHBYW1dLsVIKnYWVegBMEVdge/TRRy3r119/fac2AwAAgNbiCmxf3TS3sbFRmzZt0siRIxPWVFdw5HJ0lrbDCWy+CQBdQ1yBbd68eVEfBwIBFRYWJqShrqIzl7eztB3txS09AOga4lp0cKQBAwZo9+7dnd0LAAAALLR5DlskElFVVZWOP/74hDUFAACAL7V5DpvH49GJJ56oO++8M2FNAQAA4EtHDWyNjY26++67dfHFF+uSSy6RJP3kJz9ROBzWCSecYEuDAAAA3d1R57A98MADqq+v19lnn91Su+eee1RXV6ff//73CW8OAAAAxwhsL7/8sn7zm99EzVcbMGCA7rvvPj3//PMJbw4AAADHuCWanJysHj16tKr37t1bKSkpCWsKAIDuhv07cTRHDWxJSUmqr69X7969o+r19fVqbm5OaGMAAHQn7N+JozlqYLv00ktVVFSkX/7yl+rZs6ck6eDBgyoqKtLo0aNtaRDdj9U7w/a+0+RdJtqKUQ4AJjpqYLv22mtVXFys8847T6eddprC4bDee+89TZgwQdOmTbOrR3QzvMuEk3j8ATDRMW+J/uIXv9Ctt96qbdu2KSkpSWeddZb8fr9d/QFoI0aIAKDriWvj3PT0dKWnpye6FwCdgBEiAOh62nWWKAAAAOwT1wgbji0cCSvJE51/EzE6YfV1AABA10Zg6yRJniSt/ufqhH+diSMmJvxrAAAAsxDYAADtduSof6LmPXJ3Ad0dgQ0A0G7cXYApuvoKeQIbAABwva6+Qp7xZQAAAMMR2AAAAAxHYAMAADAcgQ0AAMBwBDYAAADDEdgAAAAMx7YeMAKbbwIAEFtCA9vvfvc7rV+/Xh6PR/n5+br++utVWVmpefPmKRgMauzYsZoxY4Ykafv27SosLNSBAweUlZWlOXPmyOfzac+ePSooKNAnn3yik08+WQsWLFCvXr0S2TYcwOabAADElrChhtdee03/+Mc/tHbtWq1cuVLLly/X22+/rVmzZqmkpERlZWWqqqpSRUWFJKmgoECzZ8/W+vXrFYlEVFpaKkmaM2eOJk+erPLycmVkZKikpCRRLQMAABgpYSNs3/3ud/WnP/1JPp9PgUBAoVBIdXV1GjJkiAYPHixJmjBhgsrLyzV06FA1NDRoxIgRkqS8vDw98MADmjRpkjZt2qTFixe31K+55hoVFBQkqm0A3ZAdt+S5HQ+gIxJ6SzQ5OVkPPPCAHnnkEeXm5qqmpkZpaWktv+/3+xUIBFrV09LSFAgEtG/fPvXu3Vs+ny+q3hZVVVWd880cQ2Zmpi1fR5K2bNli29eyC9evY84afpaSfcktHycicDQ1N2nrm1s7/e81QWZmZsJvyU8cMbFLPvb42e08nX0tu/r1OlJXv34JX3Rw++236+abb9att96qnTt3Rh2mevhw1XA4bFm3Ony1rYexZmRkKDU1tWPfhGHsfILsirrq9bMjcHTVa2cXrl/HcP3ahuvVMXZfv2AweNRBpoSNz7/33nvavn27JOm4447T6NGj9eqrr6q2trblc2pra+X3+zVw4MCo+t69e+X3+9W/f3/t379foVAo6vMBAAC6k4QFtg8//FBFRUVqbGxUY2OjXnjhBV155ZXasWOHdu3apVAopHXr1ik7O1vp6elKTU1tGX5cs2aNsrOzlZycrKysLJWVlUmSVq9erezs7ES1DAAAYKSE3RLNycnR1q1bNXHiRHm9Xo0ePVrjx49X//79NX36dAWDQeXk5Cg3N1eStGDBAhUVFam+vl7Dhg3TlClTJEnFxcWaOXOmlixZokGDBun+++9PVMsAAABGSugctunTp2v69OlRtZEjR2rt2rWtPveMM87Q008/3aqenp6u5cuXJ6xHAACcwqbhiBcnHQAA4BA2DUe8iNsAAACGI7ABAAAYjsAGAABgOAIbAACA4QhsAAAAhiOwAQAAGI7ABgAAYDgCGwAAgOEIbAAAAIYjsAEAABiOwAYAAGA4AhsAAIDhCGwAAACGI7ABAAAYzud0AwAAAO0RjoSV5Ply7ClrSFbCv4ZTCGwAAMCVkjxJWv3P1Qn9GhNHTEzo3x8v5yMjAAAAjooRtg4Ih8NKSvoy89qdwo/8+gAAoGsisHVAUlKSSipKHPv6t+Xc5tjXBgAA9mF4BgAAwHAENgAAAMMR2AAAAAxHYAMAADAcgQ0AAMBwBDYAAADDsa0HHMM+doA78bML2I/ABsewjx3gTvzsAvbjLQoAAIDhCGwAAACG45Yo4FLMI2o/q97tvH5uvnYAnEFgA1yKeUTtx7UD4Da8xQMAADAcgQ0AAMBwBDYAAADDMYcNAAAbsWAI7UFgAwDARix6QXsQsQEAAAxHYAMAADAcgQ0AAMBwBDYAAADDEdgAAAAMR2ADAAAwHIENAADAcAQ2AAAAwxHYAAAADEdgAwAAMByBDQAAwHAENgAAAMNx+HsbhcIheZO8LR+bcojukX0BAICug8DWRt4krwpXFzrdRitzJ851ugUAAJAg3BIFAAAwHIENAADAcAQ2AAAAwxHYAAAADEdgAwAAMByBDQAAwHAJDWyLFi3S+PHjNX78eN13332SpMrKSk2YMEGjR4/WwoULWz53+/btysvL05gxY1RYWKjm5mZJ0p49e3T11VcrNzdXU6dO1YEDBxLZMgAAgHESFtgqKyu1YcMGrVq1SqtXr9a2bdu0bt06zZo1SyUlJSorK1NVVZUqKiokSQUFBZo9e7bWr1+vSCSi0tJSSdKcOXM0efJklZeXKyMjQyUlJYlqGQAAwEgJ2zg3LS1NM2fOVEpKiiTp1FNP1c6dOzVkyBANHjxYkjRhwgSVl5dr6NChamho0IgRIyRJeXl5euCBBzRp0iRt2rRJixcvbqlfc801KigoSFTbSDBOigAAoO0SFthOO+20ll/v3LlTzz77rK655hqlpaW11P1+vwKBgGpqaqLqaWlpCgQC2rdvn3r37i2fzxdVh3txUgTgTrzZApyV8KOp/v3vf+snP/mJ7rzzTnm9Xu3cubPl9yKRiDwej8LhsDweT6v64f9+1ZEfH0tVVVWH+j9SZmZmp/59nWnLli1Ot3BMXL/OY8K1dNs1O4xr13aZmZnGvtly47V0mtuuWSx2XUsTrldCA9uWLVt0++23a9asWRo/frxee+011dbWtvx+bW2t/H6/Bg4cGFXfu3ev/H6/+vfvr/379ysUCsnr9bZ8fltkZGQoNTW1074nk5nwJOBmXL+245q1H9eu83At245r1jZ2XK9gMHjUQaaELTr46KOPNG3aNC1YsEDjx4+XJA0fPlw7duzQrl27FAqFtG7dOmVnZys9PV2pqaktCXbNmjXKzs5WcnKysrKyVFZWJklavXq1srOzE9UyAACAkRI2wvbwww8rGAxq/vz5LbUrr7xS8+fP1/Tp0xUMBpWTk6Pc3FxJ0oIFC1RUVKT6+noNGzZMU6ZMkSQVFxdr5syZWrJkiQYNGqT7778/US0D6MKYgwXAzRIW2IqKilRUVGT5e2vXrm1VO+OMM/T000+3qqenp2v58uWd3h/gNlYv7ISO+LHgBYCbJXzRAYDOYWrgkAgdAJBoBDYAABKMW/LoKAIbAAAJZuoIOaPj7sHh7wAAAIYjsAEAABiOwAYAAGA4AhsAAIDhWHQAAABcIxwOKynpy/GmiSMmOva17URgAwAArpGUlKSSihJHvraT27EQ2OJw5D41blgGzd46AAB0HQS2OHiTvLr+j9c73UabPHrto063AAAAOgmLDgAAAAxHYAMAADAcgQ0AAMBwBDYAAADDEdgAAAAMR2ADAAAwHIENAADAcOzDhoRz28bDbDoMADANgQ0J57aNh9l0GABgGm6JAgAAGI4RNgCAJaYzAOYgsAEALDGdATAHgQ0wmNtGOCSzRjm4fgC6CgIbYDC3jXBIZo1ycP0AdBUsOgAAADAcI2wAAHQyq1vbpt+S53a82QhsAAB0Mm7Ho7NxSxQAAMBwBDYAAADDcUs0huZQs3zeLy+Pm4eKj/xeAACAu/AqHoPP69Mlv73E6TY6xXN3POd0CwAAoAO4JQoAAGA4AhsAAIDhCGwAAACGI7ABAAAYjsAGAABgOAIbAACA4djWA53Oat83t+5jxx52AAAT8EqETscedgAAdC5uiQIAABiOETYAQAuO5QPMxCMZANCCKQ2AmQhsALoURogAdEU8EwCGIXB0DCNEALoiAhtgGAIH4E682UIi8a/xH1YPzq74YsMPIQAkBm+2kEi8cv+Hz+vTsDnDnG4j4bYVb3O6BQAA0EbswwYAAGA4AhsAAIDhCGwAAACGI7ABAAAYjsAGAABgOAIbAACA4djWA53iyP3duuoePuxjBwBwAq886BTsYwcAQOIQ2ACgG+OUF8AdePQCQDfG6DjgDgkPbPX19bryyiv14IMP6qSTTlJlZaXmzZunYDCosWPHasaMGZKk7du3q7CwUAcOHFBWVpbmzJkjn8+nPXv2qKCgQJ988olOPvlkLViwQL169Up024CtusMcwESOcHD9AHR1Cf3pf/PNN1VUVKSdO3dKkhoaGjRr1iwtX75cgwYN0k9+8hNVVFQoJydHBQUFuvfeezVixAjNmjVLpaWlmjx5subMmaPJkydr/PjxWrx4sUpKSlRQUJDItgHbdYdRjkSOcHD9AHR1Cd3Wo7S0VMXFxfL7/ZKkrVu3asiQIRo8eLB8Pp8mTJig8vJy7d69Ww0NDRoxYoQkKS8vT+Xl5WpqatKmTZs0ZsyYqDoAAEB3ktARtrlz50Z9XFNTo7S0tJaP/X6/AoFAq3paWpoCgYD27dun3r17y+fzRdXboqqqKubvZXwrQ6kpqS0fd7d3sMHGoKr+Ffv6tEVmZman/D1usGXLlk7/O7vL9UvEtZO4fh3RXa6dlLjH32Fd7Vom+nq1l9PX2anrYuuEiHA4LI/H0/JxJBKRx+OJWT/836868uNjycjIUGpqaszf//qMr7fp7+tK9i3c5/gD3424Zu3HtesYrl/HJOL6deX5k4evF/MnoyXq5zAYDB51kMnWf4GBAweqtra25ePa2lr5/f5W9b1798rv96t///7av3+/QqGQvF5vy+cDAGAC5k/CLrYeTTV8+HDt2LFDu3btUigU0rp165Sdna309HSlpqa2DDOuWbNG2dnZSk5OVlZWlsrKyiRJq1evVnZ2tp0tAwAAOM7WEbbU1FTNnz9f06dPVzAYVE5OjnJzcyVJCxYsUFFRkerr6zVs2DBNmTJFklRcXKyZM2dqyZIlGjRokO6//347WwYAAHCcLYHtxRdfbPn1yJEjtXbt2lafc8YZZ+jpp59uVU9PT9fy5csT2h8AAIDJbL0lCgAAgLZj2QfarSnUpGRvcsvH3W1i6pHfPwAAiUJgQ7sle5O7/bYogBvxZos3W3AfAhsAdDO82eLNFtyHwAY4pDuPcnR0hMPqz3P9AHRlBDbAId15lKOjIxzd+dpJjBAB3RGrRAEAAAxHYAMAADAcgQ0AAMBwzGEDAKANuvOCIcn+RS+hcEjeJG9U7bac22z7+kdj1VuidNvA9u6776q6ulqpe1KdbsUx7777roYOHep0GwDgKix6sXfRizfJq8LVhbZ+zXjNnTjXtq/FLVEAAADDddsRtqFDh2ro0KEKPhd0uhXHMLoGAIA7MMIGAABguG47woaOYQ4gcwDhTvzs8rMLd2KEDQAAwHCMsKFdmAPYsTmA3X2UgxEO5/Czy/xduBOBDYCrdPewKxF4ge6IwAY4oLuPchA2AKBtCGwAXKW7h12JwAt0Ryw6AAAAMByBDQAAwHDcEgUAIE4semHRi1O6dWBrCjXZfoitSZpCTUr2JjvdBgAAOIZuHdiODCvD5gxzqBP7bCve1vJrwhoAtA2LXlj04pRuHdgAoDvi7gJ3F+A+BDa0G0/6POnDnbi7wM8t3IfAhnbjSb9jT/rdOfASdgGgbQhsgEO6W+Al7HYeAi/Q/RDYALiOVVgh8ALoytg4FwAAwHCMsP1Hc6g56h1sV9UcapbPyz87AABuwiv3f1iFmEt+e4kDnXS+5+54ruXXiQprBF7AnfjZbTvmUDKH0gm88qBTHPlE2BXDrkTg7QjCrpl4s9p23XnBkMQcSqfw7AkYoDsEXsIaALQfiw4AAAAMx1tedLrmUHOrW4luxW08d+CWMoCujp9+dDqrF5Xr/3i9A520z6PXPtrya14g3YFbygC6Op4BAMMwQgkn8fhr+9dgdBd24F8AMMyRT4xuGp2UGKF0Ozc//r762JPsefwxugu78K8QA+8yO08oHGr1RGqyUDgkb5LX6TYAAGhBYIvBze8yJbNGOY4MP4WrCx3qJLa5E+e2/JqwBgAwDYENAIBOwJ0ZJBL/GoDB3HY7WeKWMrov7swgkfgXAQzmhtvJEreUASDRCGywVSgcinpxNwWjQgA6E6Pj6GwENtjqyCeDkooShzqRbsu5reXXPEkB6ExWzykmjpAzOu4enCUKAABgOEbYAABIMKaDoKMIbAAAJBjTQdBR3BIFAAAwHCNsAADYKBwOR41yOfH1k5IYr3EbAhsAADY6Miyt/ufqhH/NiSMmxvz6cAf+1QAAAAxHYAMAADAcgQ0AAMBwBDYAAADDuSKwPfPMWoPt6QAADNNJREFUMxo3bpxGjx6txx9/3Ol2AAAAbGX8KtFAIKCFCxfqL3/5i1JSUnTllVfqnHPO0dChQ51uDQAAwBbGj7BVVlbq3HPPVb9+/dSzZ0+NGTNG5eXlTrcFAABgG+NH2GpqapSWltbysd/v19atWx3sCAAAtMe7776r6urqNv+5D978IAHddFxZSlmbPv/0009v9x1CTyQSibTrT9pkyZIlCgaDuuOOOyRJpaWlqqqq0j333HPUPxcMBlVVVdUpPXzrrG8pJTmlU/4uuzQ2NepfW//ldBtHddbws5TsS3bs6zc1N2nrm+4J/yY/Dk16vGWclaHU5FSn2+gUwaagqrZ2zvNYe5j8mLNi0uMwXnY9D5ryfPfhhx9q//796t+/v9OtOKJfv35KTT3681NGRobl5xg/wjZw4EBt3ry55ePa2lr5/f64/3ysb7yrS0lOUWZmptNtGC3Zl8w16iQ83hIjNTmV69oGPA5jM+X5zoQeTHWsgSbj57CNGjVKGzdu1KeffqovvvhCf/vb35Sdne10WwAAALYxfoRtwIABmjFjhqZMmaKmpibl5+frrLPOcrotAAAA2xgf2CRpwoQJmjBhgtNtAAAAOML4W6IAAADdHYENAADAcAQ2AAAAwxHYAAAADEdgAwAAMByBDQAAwHAENgAAAMMR2AAAAAxHYAMAADAcgQ0AAMBwBDYAAADDEdgAAAAMR2ADAAAwHIENAADAcAQ2AAAAwxHYAAAADEdgAwAAMByBDQAAwHA+pxtIlEgkIklqbGx0uBMAAICjO5xXDueXI3XZwNbU1CRJqq6udrgTAACA+DQ1NalHjx6t6p5IrCjncuFwWAcOHFBycrI8Ho/T7QAAAMQUiUTU1NSkXr16KSmp9Yy1LhvYAAAAugoWHQAAABiOwAYAAGA4AhsAAIDhCGwAAACGI7ABAAAYjsAGAABgOAIbAACA4brsSQemq6+v15VXXqkHH3xQJ510ktPtuMqiRYv07LPPSpJycnJ05513OtyRu/zud7/T+vXr5fF4lJ+fr+uvv97pllznV7/6lfbt26f58+c73Yqr/PjHP9ann34qn+/QS88999yj4cOHO9yVe7z44otatGiRvvjiC5133nkqKipyuiXXeOqpp/TYY4+1fPzhhx/q8ssv1+zZsx3sqm0IbA548803VVRUpJ07dzrdiutUVlZqw4YNWrVqlTwej2666SY999xzuuSSS5xuzRVee+01/eMf/9DatWvV3NyscePGKScnR6eccorTrbnGxo0btWrVKl1wwQVOt+IqkUhEO3fu1EsvvdQS2BC/Dz74QMXFxXrqqad0/PHH69prr1VFRYVycnKcbs0VJk2apEmTJkmS/v3vf2vatGn67//+b4e7ahtuiTqgtLRUxcXF8vv9TrfiOmlpaZo5c6ZSUlKUnJysU089VXv27HG6Ldf47ne/qz/96U/y+Xz65JNPFAqF1LNnT6fbco3PPvtMCxcu1K233up0K67z/vvvS5JuuOEGXXbZZVGjHTi25557TuPGjdPAgQOVnJyshQsXMjrZTj//+c81Y8YM9e/f3+lW2oS3OQ6YO3eu0y241mmnndby6507d+rZZ5/VihUrHOzIfZKTk/XAAw/okUceUW5urgYMGOB0S67x/9u7t5iorgWM438gClTxAXmQFhOQaNr40NGidNTORam3euGiBkig1lhrMwkBlBoJNqQkREebqDFEo8Y2aGLBSFBj1ATUeBkutlV4oNS2eEEno9EEKkSGMtMH4iQce5Kj8XRm6/d7m0n22t/eT9+stfear7/+mqKiItxud7CjGE5vby9ms5ktW7YwODhIfn4+SUlJzJ49O9jRDOH27duMGjWK9evX43a7sdlsFBYWBjuW4Vy9epWnT5+yaNGiYEd5YZphE0O6efMma9as4auvviIxMTHYcQynoKAAl8uF2+2mpqYm2HEMoba2lvj4eMxmc7CjGNK0adNwOp3ExMQQGxvLihUruHjxYrBjGcbQ0BAul4vKykp++OEH2traqKurC3Yswzl69Khhn9tVYRPD+fHHH1m9ejUbNmwgIyMj2HEM5ffff6ejowOA6Oho5s+fT2dnZ5BTGcPp06e5cuUKy5cvZ/fu3TQ2NlJZWRnsWIZx7do1XC5X4LPf79ezbC8gLi4Os9lMbGwsUVFRpKWl0dbWFuxYhuL1emltbWXu3LnBjvJSVNjEUNxuNw6Hgx07dvDJJ58EO47hdHd3U1ZWhtfrxev10tDQwAcffBDsWIZw6NAhTp06RX19PQUFBcydO5fS0tJgxzKMP//8E6fTycDAAE+ePKGurk4vC70Au93O5cuX6e3tZWhoiEuXLjF16tRgxzKUzs5OEhMTDfvcrn7eiKEcPHiQgYGBEdspZGdnk5OTE8RUxmG1WmlrayM9PZ2IiAjmz5+v4iv/Crvdzo0bN0hPT8fn85Gbm8u0adOCHcsw3n//fdauXUtubi6Dg4PMnj2brKysYMcylLt37zJhwoRgx3hpYX6/3x/sECIiIiLy32lJVERERCTEqbCJiIiIhDgVNhEREZEQp8ImIiIiEuJU2ERERERCnLb1EBFD6u7u5uOPP2bKlCkA+Hw+xowZQ35+PosXL37pcV0uF1VVVXg8HqKiohg/fjwOh4OUlBRgeC/Azz//nIiICOLi4rBYLHz66acAdHV1sXDhQr744guKi4sBePToEVarFZfLRUxMzAvnOX78OGfPnmXfvn0vfU0iYnwqbCJiWFFRUdTX1wc+37t3j9WrVxMREcGCBQteeLyGhga2bt2K0+kM7BF2/fp1ioqKKC8vx2q10tzcTFxcHN999x3ff/89zc3NgcJ2/vx57HY7DQ0NgcLW1NTE9OnTX6qsiYg8oyVREXltvPPOOxQUFHDw4EG6urr47LPPWLVqFXa7nS+//JKBgQFOnDhBdnZ24Jj79+8zZ84cvF4vTqeTsrKyERu6mkwmSktLcTqdNDU1sXPnTtrb28nLy8NisXDt2jV8Ph8wXNjWrVtHX18fd+7cAYZn7Gw2GwAejweHw0FmZiZLly5l7969gfP89NNP5ObmkpGRQVZWFufPn3/u+s6cOUNaWhp//PHH/+P2iUgIU2ETkdfKu+++y6+//kpNTQ3p6enU1NRw7tw5uru7uXDhAgsXLuTOnTvcvHkTGP5T94yMDPr6+rh16xYzZsx4bkyz2cxvv/3Ge++9R0FBASkpKVRXV5OUlMS4cePo7Oykp6eHrq4uTCYTFouFxsZGYLiwWa1WAEpKSsjKyuL48eMcO3aMq1evcvr0aXp6eti8eTNOp5O6ujqqqqooLy/n/v37gQynTp1iz549VFdXM2nSpH/hTopIKNGSqIi8VsLCwoiKiqKkpIQrV66wf/9+bt26xYMHD+jv72f06NGsXLmS2tpaNm3aRF1dHdXV1YHj//rrr+fGHBwcDIz9nywWC83NzYwfP55Zs2YRHh6O3W7nyJEjpKWlERYWRnJyMv39/bS2ttLT08OuXbsA6O/v55dffmHMmDE8fPgQh8Mx4jo6OzsBaG9v59KlS5SWlhIfH/9K75eIGIMKm4i8Vtrb25kyZQrFxcUMDQ2xaNEibDYbbrebZ//El52dzYoVK5g5cyaTJ09m4sSJACQlJdHS0kJaWtqIMZuamkhOTmbcuHHPnc9isXDs2DEiIyOZN28eMDwjV1ZWNmI51Ofz4ff7OXr0KNHR0QA8fvyYyMhImpubSU5Opra2NjCux+MhNjaWkydPEhMTw7fffkthYSE2m42EhIRXft9EJLRpSVREXhtdXV1UVVWxZs0aLl++jMPhCLwxeuPGDYaGhgCIj4/HZDJRWVlJTk5O4PjNmzdTWVnJ9evXA9/9/PPPbN26lY0bN/7jOVNTU+no6KClpYWPPvoIGH4ZYurUqRw+fDiwHDp27FhMJhOHDh0CoLe3l5ycHBoaGjCZTNy+fZvW1lYAOjo6WLBgAR6PB4DExETMZjN5eXls2rQp8MyciLw5NMMmIob19OlTli9fDkB4eDiRkZEUFxdjs9koKirC4XDw1ltvMXbsWGbMmBF4EQAgMzOTioqKQKECsFqtbNu2jV27duHxePD5fEyYMIFt27bx4Ycf/mOG6OhoEhMTGRwcHPEmqNVqZfv27aSmpga+27FjBxUVFSxduhSv18uSJUtYtmwZALt378bpdDIwMIDf78fpdJKQkEBLS0vg+PXr19PY2MiBAwdYt27dq7mJImIIYf5nawQiIm8In8/HN998w9tvv63iIyKGoCVREXmjPHnyhNTUVNxuN/n5+cGOIyLyP9EMm4iIiEiI0wybiIiISIhTYRMREREJcSpsIiIiIiFOhU1EREQkxKmwiYiIiIQ4FTYRERGREPc3vw1rj2hFLdoAAAAASUVORK5CYII=\n",
      "text/plain": [
       "<Figure size 720x720 with 1 Axes>"
=======
      "cell_type": "code",
      "metadata": {
        "id": "agV3gp5LtgzU",
        "colab_type": "code",
        "colab": {
          "base_uri": "https://localhost:8080/",
          "height": 628
        },
        "outputId": "c05d9dc4-39c4-4a41-e2de-c99f8530865b"
      },
      "source": [
        "#Find the range of data\n",
        "plt.figure(figsize=(5,10))\n",
        "sns.set(style=\"whitegrid\")\n",
        "sns.distplot(train_data[\"Sales\"])"
      ],
      "execution_count": 35,
      "outputs": [
        {
          "output_type": "execute_result",
          "data": {
            "text/plain": [
              "<matplotlib.axes._subplots.AxesSubplot at 0x7f4dadb82b00>"
            ]
          },
          "metadata": {
            "tags": []
          },
          "execution_count": 35
        },
        {
          "output_type": "display_data",
          "data": {
            "image/png": "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\n",
            "text/plain": [
              "<Figure size 360x720 with 1 Axes>"
            ]
          },
          "metadata": {
            "tags": [],
            "needs_background": "light"
          }
        }
>>>>>>> 3dc444e45122a7b3a50274e46831a1923895dcd8:notebook/Sales_prediction.ipynb
      ]
     },
     "metadata": {},
     "output_type": "display_data"
    }
   ],
   "source": [
    "plt.figure(figsize=(10,10))\n",
    "sns.set(style=\"whitegrid\")\n",
    "sns.boxenplot(y=\"Customers\", x=\"DayOfWeek\",data=train_data, scale=\"linear\",color=\"Green\")"
   ]
  },
  {
   "cell_type": "markdown",
   "metadata": {
    "colab_type": "text",
    "id": "wE2kCjhYuHUx"
   },
   "source": [
    "This data, contains many outliers, but these might have been caused to the surge of customers during a festival or Holiday, or due to an effective promo. \n",
    "Below we are handle the outliers"
   ]
  },
  {
   "cell_type": "code",
   "execution_count": 94,
   "metadata": {
    "colab": {},
    "colab_type": "code",
    "id": "AAp8e610ukeA"
   },
   "outputs": [],
   "source": [
    "#Treating the outliers \n",
    "  # a function for replacing outliers with the median, used when there's too many outliers in a feature\n",
    "def replace_outlier_with_median(dataFrame, feature):\n",
    "    Q1 = dataFrame[feature].quantile(0.25)\n",
    "    Q3 = dataFrame[feature].quantile(0.75)\n",
    "    median = dataFrame[feature].quantile(0.50)\n",
    "\n",
    "    IQR = Q3 - Q1\n",
    "\n",
    "    upper_whisker = Q3 + (1.5 * IQR)\n",
    "    lower_whisker = Q1 - (1.5 * IQR)\n",
    "\n",
    "    dataFrame[feature] = np.where(dataFrame[feature] > upper_whisker, median, dataFrame[feature])\n",
    "    dataFrame[feature] = np.where(dataFrame[feature] < lower_whisker, median, dataFrame[feature])"
   ]
  },
  {
   "cell_type": "code",
   "execution_count": 95,
   "metadata": {
    "colab": {},
    "colab_type": "code",
    "id": "lI_mb8M3uzrF"
   },
   "outputs": [],
   "source": [
    "replace_outlier_with_median(train_data, 'Sales')"
   ]
  },
  {
   "cell_type": "code",
   "execution_count": 96,
   "metadata": {
    "colab": {},
    "colab_type": "code",
    "id": "iKUXqziJvB0n"
   },
   "outputs": [],
   "source": [
    "replace_outlier_with_median(train_data, 'Customers')"
   ]
  },
  {
   "cell_type": "markdown",
   "metadata": {
    "colab_type": "text",
    "id": "aF3kMgH3lUnk"
   },
   "source": [
    "1.3 **Feature Engeneering**\n",
    "\n",
    "Generating new features from already existing features. \n",
    "\n"
   ]
  },
  {
   "cell_type": "code",
   "execution_count": 97,
   "metadata": {
    "colab": {
     "base_uri": "https://localhost:8080/",
     "height": 436
    },
    "colab_type": "code",
    "id": "keMWSDS_ldOB",
    "outputId": "2ec27f49-f7cb-4dd9-e123-62936034fe5f"
   },
   "outputs": [
    {
<<<<<<< HEAD:scripts/Sales_prediction.ipynb
     "data": {
      "text/html": [
       "<div>\n",
       "<style scoped>\n",
       "    .dataframe tbody tr th:only-of-type {\n",
       "        vertical-align: middle;\n",
       "    }\n",
       "\n",
       "    .dataframe tbody tr th {\n",
       "        vertical-align: top;\n",
       "    }\n",
       "\n",
       "    .dataframe thead th {\n",
       "        text-align: right;\n",
       "    }\n",
       "</style>\n",
       "<table border=\"1\" class=\"dataframe\">\n",
       "  <thead>\n",
       "    <tr style=\"text-align: right;\">\n",
       "      <th></th>\n",
       "      <th>Weekdays</th>\n",
       "      <th>Weeks</th>\n",
       "      <th>Months</th>\n",
       "      <th>Store</th>\n",
       "      <th>DayOfWeek</th>\n",
       "      <th>Date</th>\n",
       "      <th>Sales</th>\n",
       "      <th>Customers</th>\n",
       "      <th>Open</th>\n",
       "      <th>Promo</th>\n",
       "      <th>...</th>\n",
       "      <th>Store-1</th>\n",
       "      <th>StoreType</th>\n",
       "      <th>Assortment</th>\n",
       "      <th>CompetitionDistance</th>\n",
       "      <th>CompetitionOpenSinceMonth</th>\n",
       "      <th>CompetitionOpenSinceYear</th>\n",
       "      <th>Promo2</th>\n",
       "      <th>Promo2SinceWeek</th>\n",
       "      <th>Promo2SinceYear</th>\n",
       "      <th>PromoInterval</th>\n",
       "    </tr>\n",
       "  </thead>\n",
       "  <tbody>\n",
       "    <tr>\n",
       "      <th>0</th>\n",
       "      <td>1</td>\n",
       "      <td>23</td>\n",
       "      <td>6</td>\n",
       "      <td>867</td>\n",
       "      <td>3</td>\n",
       "      <td>6/3/2015</td>\n",
       "      <td>5608.0</td>\n",
       "      <td>469.0</td>\n",
       "      <td>1</td>\n",
       "      <td>1</td>\n",
       "      <td>...</td>\n",
       "      <td>867</td>\n",
       "      <td>d</td>\n",
       "      <td>c</td>\n",
       "      <td>21810.0</td>\n",
       "      <td>9.0</td>\n",
       "      <td>2012.0</td>\n",
       "      <td>0</td>\n",
       "      <td>0.0</td>\n",
       "      <td>0.0</td>\n",
       "      <td>Jan,Apr,Jul,Oct</td>\n",
       "    </tr>\n",
       "    <tr>\n",
       "      <th>1</th>\n",
       "      <td>1</td>\n",
       "      <td>23</td>\n",
       "      <td>6</td>\n",
       "      <td>868</td>\n",
       "      <td>3</td>\n",
       "      <td>6/3/2015</td>\n",
       "      <td>13500.0</td>\n",
       "      <td>816.0</td>\n",
       "      <td>1</td>\n",
       "      <td>1</td>\n",
       "      <td>...</td>\n",
       "      <td>868</td>\n",
       "      <td>d</td>\n",
       "      <td>c</td>\n",
       "      <td>1360.0</td>\n",
       "      <td>8.0</td>\n",
       "      <td>2005.0</td>\n",
       "      <td>1</td>\n",
       "      <td>10.0</td>\n",
       "      <td>2014.0</td>\n",
       "      <td>Jan,Apr,Jul,Oct</td>\n",
       "    </tr>\n",
       "    <tr>\n",
       "      <th>2</th>\n",
       "      <td>1</td>\n",
       "      <td>23</td>\n",
       "      <td>6</td>\n",
       "      <td>869</td>\n",
       "      <td>3</td>\n",
       "      <td>6/3/2015</td>\n",
       "      <td>7007.0</td>\n",
       "      <td>932.0</td>\n",
       "      <td>1</td>\n",
       "      <td>1</td>\n",
       "      <td>...</td>\n",
       "      <td>869</td>\n",
       "      <td>c</td>\n",
       "      <td>a</td>\n",
       "      <td>230.0</td>\n",
       "      <td>10.0</td>\n",
       "      <td>2001.0</td>\n",
       "      <td>1</td>\n",
       "      <td>14.0</td>\n",
       "      <td>2011.0</td>\n",
       "      <td>Jan,Apr,Jul,Oct</td>\n",
       "    </tr>\n",
       "    <tr>\n",
       "      <th>3</th>\n",
       "      <td>1</td>\n",
       "      <td>23</td>\n",
       "      <td>6</td>\n",
       "      <td>870</td>\n",
       "      <td>3</td>\n",
       "      <td>6/3/2015</td>\n",
       "      <td>7911.0</td>\n",
       "      <td>971.0</td>\n",
       "      <td>1</td>\n",
       "      <td>1</td>\n",
       "      <td>...</td>\n",
       "      <td>870</td>\n",
       "      <td>a</td>\n",
       "      <td>a</td>\n",
       "      <td>780.0</td>\n",
       "      <td>4.0</td>\n",
       "      <td>2009.0</td>\n",
       "      <td>0</td>\n",
       "      <td>0.0</td>\n",
       "      <td>0.0</td>\n",
       "      <td>Jan,Apr,Jul,Oct</td>\n",
       "    </tr>\n",
       "    <tr>\n",
       "      <th>4</th>\n",
       "      <td>1</td>\n",
       "      <td>23</td>\n",
       "      <td>6</td>\n",
       "      <td>871</td>\n",
       "      <td>3</td>\n",
       "      <td>6/3/2015</td>\n",
       "      <td>9198.0</td>\n",
       "      <td>678.0</td>\n",
       "      <td>1</td>\n",
       "      <td>1</td>\n",
       "      <td>...</td>\n",
       "      <td>871</td>\n",
       "      <td>d</td>\n",
       "      <td>c</td>\n",
       "      <td>10620.0</td>\n",
       "      <td>0.0</td>\n",
       "      <td>0.0</td>\n",
       "      <td>0</td>\n",
       "      <td>0.0</td>\n",
       "      <td>0.0</td>\n",
       "      <td>Jan,Apr,Jul,Oct</td>\n",
       "    </tr>\n",
       "  </tbody>\n",
       "</table>\n",
       "<p>5 rows × 22 columns</p>\n",
       "</div>"
      ],
      "text/plain": [
       "   Weekdays  Weeks  Months  Store  DayOfWeek      Date    Sales  Customers  \\\n",
       "0         1     23       6    867          3  6/3/2015   5608.0      469.0   \n",
       "1         1     23       6    868          3  6/3/2015  13500.0      816.0   \n",
       "2         1     23       6    869          3  6/3/2015   7007.0      932.0   \n",
       "3         1     23       6    870          3  6/3/2015   7911.0      971.0   \n",
       "4         1     23       6    871          3  6/3/2015   9198.0      678.0   \n",
       "\n",
       "   Open  Promo  ...  Store-1  StoreType  Assortment CompetitionDistance  \\\n",
       "0     1      1  ...      867          d           c             21810.0   \n",
       "1     1      1  ...      868          d           c              1360.0   \n",
       "2     1      1  ...      869          c           a               230.0   \n",
       "3     1      1  ...      870          a           a               780.0   \n",
       "4     1      1  ...      871          d           c             10620.0   \n",
       "\n",
       "  CompetitionOpenSinceMonth  CompetitionOpenSinceYear  Promo2  \\\n",
       "0                       9.0                    2012.0       0   \n",
       "1                       8.0                    2005.0       1   \n",
       "2                      10.0                    2001.0       1   \n",
       "3                       4.0                    2009.0       0   \n",
       "4                       0.0                       0.0       0   \n",
       "\n",
       "   Promo2SinceWeek  Promo2SinceYear    PromoInterval  \n",
       "0              0.0              0.0  Jan,Apr,Jul,Oct  \n",
       "1             10.0           2014.0  Jan,Apr,Jul,Oct  \n",
       "2             14.0           2011.0  Jan,Apr,Jul,Oct  \n",
       "3              0.0              0.0  Jan,Apr,Jul,Oct  \n",
       "4              0.0              0.0  Jan,Apr,Jul,Oct  \n",
       "\n",
       "[5 rows x 22 columns]"
=======
      "cell_type": "code",
      "metadata": {
        "id": "-t7mbdw_tl9b",
        "colab_type": "code",
        "colab": {
          "base_uri": "https://localhost:8080/",
          "height": 628
        },
        "outputId": "171b74db-e1cd-444f-d72a-8e3e438e9b93"
      },
      "source": [
        "#Find the range of the data\n",
        "plt.figure(figsize=(5,10))\n",
        "sns.set(style=\"whitegrid\")\n",
        "sns.distplot(train_data[\"Customers\"])"
      ],
      "execution_count": 36,
      "outputs": [
        {
          "output_type": "execute_result",
          "data": {
            "text/plain": [
              "<matplotlib.axes._subplots.AxesSubplot at 0x7f4dad487f60>"
            ]
          },
          "metadata": {
            "tags": []
          },
          "execution_count": 36
        },
        {
          "output_type": "display_data",
          "data": {
            "image/png": "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\n",
            "text/plain": [
              "<Figure size 360x720 with 1 Axes>"
            ]
          },
          "metadata": {
            "tags": []
          }
        }
>>>>>>> 3dc444e45122a7b3a50274e46831a1923895dcd8:notebook/Sales_prediction.ipynb
      ]
     },
     "execution_count": 97,
     "metadata": {},
     "output_type": "execute_result"
    }
   ],
   "source": [
    "train_data.head()"
   ]
  },
  {
   "cell_type": "code",
   "execution_count": 98,
   "metadata": {
    "colab": {},
    "colab_type": "code",
    "id": "PJQ9ySUEyIWj"
   },
   "outputs": [],
   "source": [
    "#Adding salespercustomer column\n",
    "train_data['SalesperCustomer']=train_data['Sales']/train_data['Customers']"
   ]
  },
  {
   "cell_type": "code",
   "execution_count": 99,
   "metadata": {
    "colab": {},
    "colab_type": "code",
    "id": "B3p96tZDBB4C"
   },
   "outputs": [
    {
<<<<<<< HEAD:scripts/Sales_prediction.ipynb
     "data": {
      "text/html": [
       "<div>\n",
       "<style scoped>\n",
       "    .dataframe tbody tr th:only-of-type {\n",
       "        vertical-align: middle;\n",
       "    }\n",
       "\n",
       "    .dataframe tbody tr th {\n",
       "        vertical-align: top;\n",
       "    }\n",
       "\n",
       "    .dataframe thead th {\n",
       "        text-align: right;\n",
       "    }\n",
       "</style>\n",
       "<table border=\"1\" class=\"dataframe\">\n",
       "  <thead>\n",
       "    <tr style=\"text-align: right;\">\n",
       "      <th></th>\n",
       "      <th>Weekdays</th>\n",
       "      <th>Weeks</th>\n",
       "      <th>Months</th>\n",
       "      <th>Store</th>\n",
       "      <th>DayOfWeek</th>\n",
       "      <th>Date</th>\n",
       "      <th>Sales</th>\n",
       "      <th>Customers</th>\n",
       "      <th>Open</th>\n",
       "      <th>Promo</th>\n",
       "      <th>...</th>\n",
       "      <th>StoreType</th>\n",
       "      <th>Assortment</th>\n",
       "      <th>CompetitionDistance</th>\n",
       "      <th>CompetitionOpenSinceMonth</th>\n",
       "      <th>CompetitionOpenSinceYear</th>\n",
       "      <th>Promo2</th>\n",
       "      <th>Promo2SinceWeek</th>\n",
       "      <th>Promo2SinceYear</th>\n",
       "      <th>PromoInterval</th>\n",
       "      <th>SalesperCustomer</th>\n",
       "    </tr>\n",
       "  </thead>\n",
       "  <tbody>\n",
       "    <tr>\n",
       "      <th>0</th>\n",
       "      <td>1</td>\n",
       "      <td>23</td>\n",
       "      <td>6</td>\n",
       "      <td>867</td>\n",
       "      <td>3</td>\n",
       "      <td>6/3/2015</td>\n",
       "      <td>5608.0</td>\n",
       "      <td>469.0</td>\n",
       "      <td>1</td>\n",
       "      <td>1</td>\n",
       "      <td>...</td>\n",
       "      <td>d</td>\n",
       "      <td>c</td>\n",
       "      <td>21810.0</td>\n",
       "      <td>9.0</td>\n",
       "      <td>2012.0</td>\n",
       "      <td>0</td>\n",
       "      <td>0.0</td>\n",
       "      <td>0.0</td>\n",
       "      <td>Jan,Apr,Jul,Oct</td>\n",
       "      <td>11.957356</td>\n",
       "    </tr>\n",
       "    <tr>\n",
       "      <th>1</th>\n",
       "      <td>1</td>\n",
       "      <td>23</td>\n",
       "      <td>6</td>\n",
       "      <td>868</td>\n",
       "      <td>3</td>\n",
       "      <td>6/3/2015</td>\n",
       "      <td>13500.0</td>\n",
       "      <td>816.0</td>\n",
       "      <td>1</td>\n",
       "      <td>1</td>\n",
       "      <td>...</td>\n",
       "      <td>d</td>\n",
       "      <td>c</td>\n",
       "      <td>1360.0</td>\n",
       "      <td>8.0</td>\n",
       "      <td>2005.0</td>\n",
       "      <td>1</td>\n",
       "      <td>10.0</td>\n",
       "      <td>2014.0</td>\n",
       "      <td>Jan,Apr,Jul,Oct</td>\n",
       "      <td>16.544118</td>\n",
       "    </tr>\n",
       "    <tr>\n",
       "      <th>2</th>\n",
       "      <td>1</td>\n",
       "      <td>23</td>\n",
       "      <td>6</td>\n",
       "      <td>869</td>\n",
       "      <td>3</td>\n",
       "      <td>6/3/2015</td>\n",
       "      <td>7007.0</td>\n",
       "      <td>932.0</td>\n",
       "      <td>1</td>\n",
       "      <td>1</td>\n",
       "      <td>...</td>\n",
       "      <td>c</td>\n",
       "      <td>a</td>\n",
       "      <td>230.0</td>\n",
       "      <td>10.0</td>\n",
       "      <td>2001.0</td>\n",
       "      <td>1</td>\n",
       "      <td>14.0</td>\n",
       "      <td>2011.0</td>\n",
       "      <td>Jan,Apr,Jul,Oct</td>\n",
       "      <td>7.518240</td>\n",
       "    </tr>\n",
       "    <tr>\n",
       "      <th>3</th>\n",
       "      <td>1</td>\n",
       "      <td>23</td>\n",
       "      <td>6</td>\n",
       "      <td>870</td>\n",
       "      <td>3</td>\n",
       "      <td>6/3/2015</td>\n",
       "      <td>7911.0</td>\n",
       "      <td>971.0</td>\n",
       "      <td>1</td>\n",
       "      <td>1</td>\n",
       "      <td>...</td>\n",
       "      <td>a</td>\n",
       "      <td>a</td>\n",
       "      <td>780.0</td>\n",
       "      <td>4.0</td>\n",
       "      <td>2009.0</td>\n",
       "      <td>0</td>\n",
       "      <td>0.0</td>\n",
       "      <td>0.0</td>\n",
       "      <td>Jan,Apr,Jul,Oct</td>\n",
       "      <td>8.147271</td>\n",
       "    </tr>\n",
       "    <tr>\n",
       "      <th>4</th>\n",
       "      <td>1</td>\n",
       "      <td>23</td>\n",
       "      <td>6</td>\n",
       "      <td>871</td>\n",
       "      <td>3</td>\n",
       "      <td>6/3/2015</td>\n",
       "      <td>9198.0</td>\n",
       "      <td>678.0</td>\n",
       "      <td>1</td>\n",
       "      <td>1</td>\n",
       "      <td>...</td>\n",
       "      <td>d</td>\n",
       "      <td>c</td>\n",
       "      <td>10620.0</td>\n",
       "      <td>0.0</td>\n",
       "      <td>0.0</td>\n",
       "      <td>0</td>\n",
       "      <td>0.0</td>\n",
       "      <td>0.0</td>\n",
       "      <td>Jan,Apr,Jul,Oct</td>\n",
       "      <td>13.566372</td>\n",
       "    </tr>\n",
       "  </tbody>\n",
       "</table>\n",
       "<p>5 rows × 23 columns</p>\n",
       "</div>"
      ],
      "text/plain": [
       "   Weekdays  Weeks  Months  Store  DayOfWeek      Date    Sales  Customers  \\\n",
       "0         1     23       6    867          3  6/3/2015   5608.0      469.0   \n",
       "1         1     23       6    868          3  6/3/2015  13500.0      816.0   \n",
       "2         1     23       6    869          3  6/3/2015   7007.0      932.0   \n",
       "3         1     23       6    870          3  6/3/2015   7911.0      971.0   \n",
       "4         1     23       6    871          3  6/3/2015   9198.0      678.0   \n",
       "\n",
       "   Open  Promo  ...  StoreType  Assortment  CompetitionDistance  \\\n",
       "0     1      1  ...          d           c              21810.0   \n",
       "1     1      1  ...          d           c               1360.0   \n",
       "2     1      1  ...          c           a                230.0   \n",
       "3     1      1  ...          a           a                780.0   \n",
       "4     1      1  ...          d           c              10620.0   \n",
       "\n",
       "  CompetitionOpenSinceMonth CompetitionOpenSinceYear  Promo2  Promo2SinceWeek  \\\n",
       "0                       9.0                   2012.0       0              0.0   \n",
       "1                       8.0                   2005.0       1             10.0   \n",
       "2                      10.0                   2001.0       1             14.0   \n",
       "3                       4.0                   2009.0       0              0.0   \n",
       "4                       0.0                      0.0       0              0.0   \n",
       "\n",
       "   Promo2SinceYear    PromoInterval  SalesperCustomer  \n",
       "0              0.0  Jan,Apr,Jul,Oct         11.957356  \n",
       "1           2014.0  Jan,Apr,Jul,Oct         16.544118  \n",
       "2           2011.0  Jan,Apr,Jul,Oct          7.518240  \n",
       "3              0.0  Jan,Apr,Jul,Oct          8.147271  \n",
       "4              0.0  Jan,Apr,Jul,Oct         13.566372  \n",
       "\n",
       "[5 rows x 23 columns]"
=======
      "cell_type": "code",
      "metadata": {
        "id": "nUoUhoE6tuT7",
        "colab_type": "code",
        "colab": {
          "base_uri": "https://localhost:8080/",
          "height": 628
        },
        "outputId": "47c335f5-ee5d-4b20-efd9-2ffd3a393d9b"
      },
      "source": [
        "plt.figure(figsize=(10,10))\n",
        "sns.set(style=\"whitegrid\")\n",
        "sns.boxenplot(data=train_data,scale=\"linear\",x=\"DayOfWeek\",y=\"Sales\",color=\"Black\")"
      ],
      "execution_count": 37,
      "outputs": [
        {
          "output_type": "execute_result",
          "data": {
            "text/plain": [
              "<matplotlib.axes._subplots.AxesSubplot at 0x7f4dcd159860>"
            ]
          },
          "metadata": {
            "tags": []
          },
          "execution_count": 37
        },
        {
          "output_type": "display_data",
          "data": {
            "image/png": "iVBORw0KGgoAAAANSUhEUgAAAnkAAAJSCAYAAAC/YtNUAAAABHNCSVQICAgIfAhkiAAAAAlwSFlzAAALEgAACxIB0t1+/AAAADh0RVh0U29mdHdhcmUAbWF0cGxvdGxpYiB2ZXJzaW9uMy4yLjIsIGh0dHA6Ly9tYXRwbG90bGliLm9yZy+WH4yJAAAgAElEQVR4nO3de3SU1b3/8U9mJgkKCOIlQaCiUpCaIpdQ1JafLI3iBQHXKYJpbbFV8UJEUJQCAnKxjWAAQSvVntba01E5iiJeQEQ9wVIFFWKkFkWwCJkoBCuJ5jrz+8PF4CTPkLlk5pn9zPu1VlfNd0jmyzCZ+cze+9k7IxAIBAQAAABHcdndAAAAANoeIQ8AAMCBCHkAAAAORMgDAABwIEIeAACAA3nsbiDV+P1+1dTUKDMzUxkZGXa3AwAAEFYgEFBDQ4Pat28vlyt07I6Q10xNTY127NhhdxsAAAAR6927tzp27BhSI+Q1k5mZKenbBysrK8vmbgAAAMKrr6/Xjh07gvnluwh5zRyeos3KylJ2drbN3QAAALTOaokZF14AAAA4ECEPAADAgQh5AAAADkTIAwAAcCBCHgAAgAMR8gAAAByIkAcAAOBAhDwAAAAHIuQBAAA4ECEPAADAgQh5AAAADkTIAwAAcCBCHgAAgAMR8gAAAByIkAcAAOBAhDwAAAAHIuQZaO/evXa3AAAAUhwhzzClpaXq0aOHNm7caHcrAAAghRHyDNLY2Kjx48crEAho/PjxamxstLslAACQogh5Blm2bJkqKyslST6fT8uXL7e5IwAAkKoIeYbw+Xy6++67VVNTI0mqqanRzJkzg6EPAADguwh5hvB6vWpqagqpNTU1yev12tQRAABIZYQ8QxQWFsrtdofU3G63rr76aps6AgAAqYyQZ4icnBzNmzdP7du3lyS1b99e8+fPV05Ojs2dAQCAVETIM0hRUZFyc3MlSbm5uZo4caLNHQEAgFRFyDOIx+PRn/70J2VkZOjPf/6zPB6P3S0BAIAURUowzNChQ7Vnzx5169bN7lYAAEAKYyTPQAQ8AADQGkIeAACAAxHyAAAAHIiQBwAA4ECEPAAAAAci5AEAADgQIQ8AAMCBCHkAAAAORMgDAABwoKSHvOXLl6tPnz7asWOHJGnr1q0aOXKkhg8frl/96lc6cOBA8M8m4jYAAIB0kNSQ98EHH2jr1q3BExv8fr+mTp2qWbNmae3atcrPz9eiRYsSdhsAAEC6SFrIq6+v19y5czVnzpxgrby8XNnZ2crPz5ckjRs3Ti+//HLCbgMAAEgXSQt5S5cu1ciRI9W9e/dgraKiQqecckrw6y5dusjv9+vLL79MyG0AAADpwpOMO3nvvfdUXl6uO+64Ixl31ybKy8vtbgEAACBmSQl5mzdv1s6dO3XhhRdKknw+n37961/rmmuu0b59+4J/rqqqSi6XS507d1bXrl3b/LZo5OXlKTs7O9a/MgAAQMLV1dWFHZhKynTtDTfcoI0bN2rDhg3asGGDcnNz9cc//lHXXXedamtrtWXLFknSE088oUsuuUTStyGrrW8DAABIF0kZyQvH5XLpvvvu0+zZs1VXV6du3bpp4cKFCbsNAAAgXWQEAoGA3U2kksPDnkzXAgCAVHe03MKJFwAAAA5EyAMAAHAgQh4AAIADEfIAAAAciJAHAADgQIQ8AEDK27t3r90tAMYh5AEAUlppaal69OihjRs32t0KYBRCHgAgZTU2Nmr8+PEKBAIaP368Ghsb7W4JMAYhDwCQspYtW6bKykpJ3557vnz5cps7AsxByAOAJGFdWXR8Pp/uvvtu1dTUSJJqamo0c+bMYOgDcHSEPABIAtaVRc/r9baYnm1sbJTX67WpI8AshDwASDDWlcWmsLBQfr8/pOb3+3X11Vfb1BFgFkIeACQY68piEwgElJGREVJr/jWA8Ah5BtqyZYvdLQCIEOvKYuf1euVyhb5NuVwupmuBCBHyDLN8+XINHjxYDz30kN2tAIiA1+tVU1NTSK2pqYmgEoHCwkK53e6QmtvtZroWiBAhzyC1tbWaPHmyJGnSpEmqra21uSMArSGoxC4nJ0fz5s1T+/btJUnt27fX/PnzlZOTY3NngBkIeQYZN25ccMF2Y2MjbxKAAQgq8SkqKlJubq4kKTc3VxMnTrS5I8AchDxDlJWV6bnnngupPfvssyovL7epIwCRIqjEzuPx6E9/+pMyMjL05z//WR6Px+6WAGMQ8gwxa9Ysy/rdd9+d5E4ARIugEp+hQ4dqz549+slPfmJ3K4BRCHmGmD9/vmV93rx5Se4EQCwIKvHp1q2b3S0AxiHkGSIvL09XXHFFSG3kyJHKy8uzqSMA0SKoAEgmQp5Bmo8AMCIAmIWzawEzmfq7S8gzhM/n09y5c0Nq99xzDxuqAobg7FrATCb/7hLyDMGGqoC5OLsWMJPpv7uEPEOwoSpgLs6uBcxk+u8uIc8QbKgKmImzawEzOeF3l5BnEDZUBczDUgvATE743SXkGYQNVQHzsNQCMFNhYaH8fn9Ize/3G/W7S8gzDBuqAmZhqQVgpkAgoEAg0KJmEkKegdhQFTALSy0A83i9XrlcoTHJ5XIxXQsAOIKlFoB5CgsLW/yuejwepmsBAKFYagGYxQlLLQh5AJAkLLUAzGL6UgtCHgAAgAWPx6PbbrtNkjRlyhTjlloQ8gAAACw0NjZq8eLFkqSSkhKONQMAoK3t3bvX7haQhjjWDACABCotLVWPHj20ceNGu1tBGuFYMwAAEqixsVHjx49XIBDQ+PHjjZsug7k41gwAgAQyfboM5nLCkYSEPABASnLCdBnMxT55AAAkiBOmy2A29slD0nGVGYB04ITpMpjN9CMJCXmG4SozAOkiJydHBQUFIbWLLrrIqOkymM/kIwkJeQbhKjMA6cTn8+mVV14Jqa1bt441eUg6U48kJOQZhKvMAKQTr9er+vr6kFp9fT1r8oAIEfIMwVVmANJNQUFBixmLxsbGFlO4AKwR8gzBVWYA0s369etbXHjh8Xi0fv16mzoCzELIMwRXmQFIN4WFhcrOzg6pZWVl8boHRIiQZwiuMgOQbnJycjR//ny1a9dOktSuXTstWLCA1z0gQoQ8Q/h8Pq1bty6ktnbtWtbkAXC0oqKi4JWN3bp1M24zWsBOhDxDeL1e1dbWhtRqa2tZkwfA0UzfjBbOYOohBIQ8Q/Tv31+BQCCkFggE1L9/f5s6AoDkMHkzWpjP5EMICHmGWLp0aVR1AKnH1NGAVGDqZrQwm+mHEBDyDDF//nzL+rx585Lcidl4k4VdTB4NANKV6YcQEPIMkZeXp1GjRoXURo8erby8PJs6Mg9vsrCL6aMBQDpywiEEhDyD/PWvfw35+vHHH7epE/PwJgs7mT4aAKQjJxxCQMgzyCOPPKKsrCxJ324I+uijj9rckTl4k4VdnDAaAKQjJxxCQMgzxOE3isOHddfX1/NGESHeZGEnJ4wGAOkoJydH8+bNU/v27SVJ7du31/z5843ajJuQZwiv12t5UDdvFK3jTRZ2csJoAJCuioqKlJubK0nKzc01bjNuQp4hCgsL5ff7Q2p+v583igjwJgs75eTk6J577lFGRoYkKSMjQ3PnzjVqNABIV6Zvxk3IM0QgEAi+SRzW/GtYc8KQO8xmtZE5ADOYvBk3Ic8QXq9XLlfoP5fL5WLKMUKmD7nDXD6fT3PmzAkGu0AgoNmzZ7MmFDCIqZtxE/IMwZRjfEwfcoe5WE/bNtjIHHYy9flHyDNETk6OZs+eHVKbM2cOU45RMHnIHeZiPW382MgcdjL5+UfIM8gbb7xx1K/ROlOH3GEu1tPGh43MYSfTn3+EPEOUlZXphRdeCKmtWbNG5eXlNnUEIBKsp40PG5nDTsuWLdO+ffskfTtla9rzLyPAZV4h6urqVF5erry8PGVnZ9vdTtAll1yitWvXWtZfeuklGzoCEInKykqdccYZwc24pW+v8N65cyfLLVrh8/nUq1cvHjvYwpTn39FyCyN5hujXr19UdQCpgS18YsdG5rCT1+tVXV1dSK2urs6o5x8jec2k6kheZWVlcAuQ7/L5fLxZACmusbFRZ555pnbu3KkzzjhDH374IVd4R4BRUNjp/ffftxxIef/995WXl2dDR9YYyXOADz74wLL+z3/+M8mdAIgWW/jEhlFQ2Gn9+vUtti7zeDxav369TR1Fj5G8ZlJ1JO+HP/yh5UUWeXl5ev/9923oCEC09u7dyxXeUWIUFHaprKzU6aefrq+//jpYO/bYY/XJJ5+k1AcNRvIcYNmyZVHVgUQwdUPQVEHAix6joLDL4XOnDzPx3GlCniGGDRvW4omVm5urYcOG2dMQ0o7JG4KmCkJybIYOHaq3336bjcyRdBkZGSH7Wpq2xyUhzxA+n0+HDh0KqX311Vecf4mkMH1D0FRASI5daWmpfvSjH/HYIal8Pp9mz54dcu70rFmzjHrfJeQZwuv1qr6+PqRWX19v1KXcMBcb0saHkBw7HjvYxQlb+BDyDFFQUGB5yHlBQYFNHSFd+Hw+3X333cFtLGpqajRz5kyjPs3ajZAcOx472KWwsLDF1bVut9uoc6cJeYZwwqXcqYA1UdFzwqdZOxGSY8djBzsdvvDi8Do8LrxAwhQWFra4NDorK8uoTxR2Y01UbJzwadZOhOTY8djBbk1NTSFr8po/H1MdIc8QOTk5uuiii0JqF198sVGfKOzEup7YsSFtfAjJseOxg50OjyR/l2kjyYQ8Q/h8Pq1bty6ktnbtWqOebHZiXU98ioqKgsfq5ebmauLEiTZ3ZA5Ccux47GCnFStWWF7w+Ic//MGmjqJHyDOE1dW1DQ0NTFtEgHU98WND2vgUFRWpU6dOkqROnToRkqPABwzYxbQ98awQ8gxRUFDQYi0AV9dGhnU9bWPo0KHas2cPG9LGiBMkY8MHDNhlwoQJlvUbbrghyZ3EjpBniHBX0XJ1betY19N2OJYrNsuWLdNXX30lSfrPf/7DcoEo8QEDdgg32/PFF18kuZPYEfIMEW7EjpG81rGup+2wBU30WC4AmGnWrFmW9eYXY6QyQp4hnnnmGcv6qlWrktyJmVjXEz+2oIkNywXix3MPdrjtttss65MmTUpyJ7Ej5Bki3Kd+RgMiw7qe+LAFTexYLhAfnnuwyxtvvGFZLy0tTXInsSPkGWLz5s2W9bfffjvJnZhr6NChevvtt1nXEwO2oIkdywXiw3MPdnHC4AohzxD79++Pqo6WSktLNXjwYKZ8osSasvixXCA2PPdgp08++cSyvnPnziR3EjtCniEuu+yyqOoI1djYqLFjx0qSxo4dy5RPFFhTFj+PxxNc3zNlyhSWC0SI5x7sNG3aNMv6XXfdleROYkfIM4QTrvKx05IlS+Tz+SRJFRUVWrp0qc0dmYM1ZfFrbGzU4sWLJUklJSV8yIgQz722w5Xx0WNNHpImEAhYvtihdT6fT9OnTw85ZPo3v/kNUz4RYk1Z/FhXFhuee22Dq5Njw4kXSBqraQu/38+0RQRWrFihhoaGkFpDQ4NR5w/ajTVlsWNdWXx47sWHq5Njd+WVV0ZVT0WEPENYbXocCATYDDkCTvg0Zje2oIkd68riw3MvPowix+6xxx6zrD/++ONJ7iR2hDxDOOHJZpcJEyZYTnWbdP5gKuBoqdiwrix+PPdiwyhyfN555x3LergtzVIRIc8Q5eXllvWysrIkd2IeDoZvO5xdGz3WlbUNnnvR83q9lktVGEWOzODBg6OqpyJCniHGjBkTVR1HMF3WdrhCLzasK4MdCgsLW6zBa2xsZBQ5Qtdcc01U9VREyDPEvHnzoqrjiO9973tR1WGNK/Rid3hdmSTWlSFpKisr5ff7Q2p+v19ffPGFTR2ZxQlnxhPyDNF8JOqw5r/AaGnOnDmW9dmzZye3EYNxhR5gHvZXjY8TLtoj5Bli4MCBUdVxxLJly6KqoyWu0IsPJ67Ej6UC0Zs/f75lnRmgyEyYMEFZWVkhtaysLKMu2iPkGeLdd9+Nqo4jzjzzTMt63759k9yJmbhCL36cuBIflgrEJi8vT6NGjQqpjR49Wnl5eTZ1ZJacnJwWQXnBggVGXTRFyIPjrVixwrLOZsiR4cKV+HDiSnwOj4IGAgFGQWPw17/+NeRrtt2KTkZGRnDa9rv/bQpCniHOO++8qOo4wrRfylTDPm/x4cSV+CxdujRkFPSBBx6wuSOzPPLII8Epx6ysLD366KM2d2QOn8+nOXPmhHxAmz17tlEf0Ah5hvj888+jquOICRMmtLia0ePxGLWuwk6H93lr166dJKldu3bs8xYFPmTEjlHQ+BxealFfXy9Jqq+vZ6lFFJwwi0HIM8QPfvADyzrrylqXk5Oj4cOHh9QuueQSQkoUbrrppuA0WWNjo2688UabOzKHExZv22XFihXBgHJYfX09o6ARckJIsZMTZjEIeYbg1IbY+Xw+vfLKKyG1devW8Wk2Cr///e+Do6Eej0cPP/ywzR2ZIycnR/fee2/Iup7f/va3fMiIAKOg8XFCSLFTTk5Oi/PhL7roIqN+dwl5hgh3Vp5JZ+jZhdGA+Bye8qmtrZUk1dbWMuUTpUmTJqlr166SpK5du+rWW2+1uSMzTJgwQS5X6NuUy+ViFDRCHKkXH5/Pp7Vr14bUXn75ZaNe+wh5hjh48KBlvaqqKsmdmKe6ujqqOkIx5RM/j8ejJ554QhkZGXryySc58SJCgUDAMuQhckVFRerUqZMkqVOnThypFwWv1xv8cHtYbW2tUa99/LYYItwVUY888kiSO0G6YcqnbQwdOlR79uzRT37yE7tbMYbX622xVCUQCBj1JpsKWO4Tmw4dOljWjzvuuCR3EjtCniGGDRsWHHI/rEOHDho2bJg9DRmEdT3xYcqn7XTr1s3uFoxSUFBgOYrcfJ0Uwlu2bFlwJqiqqorTaqIQ7li4GTNmJLmT2BHyDFFWVhY8ceCw6upqlZeX29SROfgUGz+mfNoGR3NFZ/369S2mZ91ut9avX29TR2ZhPW187rzzzqjqqShpIe/mm2/WyJEjNXr0aBUWFuqf//ynJGnXrl0aO3ashg8frrFjx2r37t3B70nEbabioGnYra6uLuT/EZ3S0lJ1796do7miYLVUwOVysVQgQl6vt8Xva11dHdPdEWp+0cVh69atS3InsUtayCsuLtbq1av17LPP6le/+pWmT58uSZo9e7YKCwu1du1aFRYWhoSZRNxmqttuu82yPmnSpCR3Yp6OHTta1sOtt0BLS5cuDV7kU1VVxakDUWpsbNSVV14p6duzQzmaKzKBQKDFcguWX0SuoKCgxXOtsbGR6e4InXHGGVHVU1HSQt5332irq6uVkZGhAwcOaPv27RoxYoQkacSIEdq+fbuqqqoScpvJ1qxZY1l/6aWXktyJeYYOHRpVHaE4dSB+999/vw4cOCBJOnDggEpKSmzuyAxer7dFqHO5XIxEReiZZ56xrK9atSrJnZip+RKpw77++uskdxK7pK7JmzFjhoYNG6bFixeruLhYFRUVysnJCQ7Hu91unXzyyaqoqEjIbSZ79913LetbtmxJcifmWbp0aVR1hGKfwfgcDsnfRUiOTGFhYYs1tX6/n+naCDHqGZ9XX33Vsm7SmtCkbta0YMECSdKzzz6r++67L6WnGlPtgoYuXbqErb/zzjtJ7sYsV199tZ577rkW9XHjxvHYRWDfvn2W9b179/L4RWDJkiXy+/0hNb/fr6lTp6b0a2Aq2L9/v+V047Zt23TCCSfY1JU5zjnnHHk8npDH0OPxaMiQIfzuRuDQoUNh66Y8frbsyDl69GjNmjVLubm5qqysVFNTk9xut5qamvT555+ra9euCgQCbX5bNPLy8pSdnZ2gRyB6J598smU9JydHgwYNSnI3Zhk0aJAmTZoUMnKSm5ursWPH2tiVOcaNG2c5ajdu3DieexH44osvwtZ5/I7unnvusQzIb731FhedRei3v/2tpk6dGvz6d7/7nS6++GIbOzLH0UZCU+l3t66uLuzAVFKma2tqakKmSzds2KBOnTrphBNOUN++fYPrzdasWaO+ffuqS5cuCbnNZJ988ollfefOnUnuxDxlZWUtpsZ8Pl/KjdamKqa747No0SLL+sKFC5PciXmYbozfxIkTg9vQuFwu3XLLLTZ3ZI7Ro0db1g9fRGWEQBJ88cUXgTFjxgRGjBgRGDlyZOCaa64JlJeXBwKBQODjjz8O/PSnPw1cfPHFgZ/+9KeBnTt3Br8vEbe1pra2NrBly5ZAbW1tG/zN2877778fkNTif++//77draW84cOHWz52l1xyid2tGYHnXvx+8IMfhDx2Z511lt0tGWHDhg2Wz73XXnvN7taMsXDhwpDHbtGiRXa3ZIyysjIjXvuOlluSEvJMkqohb9u2bUY82VLR1KlTLR+7O++80+7WjDFq1KiQx2706NF2t2SMioqKwDHHHBPy+B1zzDEBn89nd2spr/nzjudfdCoqKgKZmZkhj11mZibPvQjdfvvtRrx3HC23cOKFIcIt0GbhduuuueaaqOpo6YknnpDH8+0SXo/HwxYWUfB6vZZHc/EYtm7+/PmW9Xnz5iW5EzOtWLFCDQ0NIbWGhgaujI9QuIsrTNrVgpBniOZbWBzG6QOtW79+veWGqiZdBm+3du3aafHixZK+XYvXrl07mzsyR2FhoeUVomwD0roTTzyxxYkXbrdbJ510kk0dmSXcPm/V1dVJ7sRMp556alT1VETIM0Tv3r2jquOIgoKCFnttBQIBdn2P0sSJE7V582bdfPPNdrdilMrKSssrRMNddYsjwo12MgoamXCn+nDaT2Q+/fRTy7pJR6US8gwRbjNn0zd5TgZ2fW87+fn5drdgHM6djl1BQYHlVDcf0CIzYcIEy1mMG264waaOzDJ48OCo6qmIkGeIl19+WYFvL5QJ+V+4485wRLipCaYsord37167WzAO68pi9/vf/96y/vDDDye5EzMFAoHgWtrDmn+N8C699NKo6qmIkGe45utV0NJ3z03+LqYsolNaWqoePXpo48aNdrdilBNPPNFyNIV1Za3bsGGDZT3ccVMI5fV6g3vkHcbZv5ErLi6Oqp6KCHlwvHAbVxq1oaXNGhsbNX78eAUCAY0fP77FhQQIb8WKFZZrQrnCsXX33nuvZf3wEZk4usLCQsv1oFz0E5nc3FzLerQnaNmJkAfHW79+veWnWa6ujdyyZcuCp4b4fD4tX77c5o7MwakNsQu38P3f//53kjsxUyAQsBxFRmTCnYr0wQcfJLmT2BHy4HgFBQWWn2ZZvB0Zn8+nu+++O7gdQ01NjWbOnNniqDhYYyQ5doWFhZZbqDASFRmma+Ozb98+y7pJa5MJeXA8rq6ND5v5xifciDEjya07fIFZ8xoiQ0iOjxNGPQl5cDwn/KLaiTeK+PTv3z+qOo5YsWKF5Sg86xkjk5OTo3nz5ql9+/aSpPbt22v+/PnKycmxuTMznHLKKZb1bt26JbmT2BHy4HhMl8UnJyenxQ7vPXv25I0iQk64Qs8ufECLX1FRkTp16iRJ6tSpkyZOnGhzR+ZgnzzAAEyXxaesrEzbt28PqX3wwQdhFyUjVL9+/aKq4wg2820bh4+/5BjM6IS7utakD7iEPDheuAssuPAiMnfeeadlferUqUnuxEy333675eL3KVOm2NSROSorKy3X5HEkXOSWLFmiAwcOSJIOHDigpUuX2tyROZwwC0TIg+MxkhefM844I6o6QuXk5Oiyyy4LqV1++eVGjQbYhSPh4uPz+fSb3/wmpDZt2jSujI+QEy7aI+TB8Vj4Hp9wYYSQEhmfz9fi5IZXX32VN9oIcCRcfFasWNFi4/LGxkYuXInQrl27oqqnIkIeHG/GjBmW9ZkzZya5EzOdddZZUdURyuv1qr6+PqRWX1/PFjQROPHEEy2v7OZIuMiE+yDBB4zILF++3PLM+AceeMDu1iJGyIPj7dmzJ6o6Qt11112W9WnTpiW5EzMVFBRYjqawJrR1Xq9XHo8npJaZmUlAjtAnn3xiWd+5c2eSOzFTuPPNTTr3nJAHxwt3zmC4K6cQqkuXLpb1448/PsmdmMnqWD23282a0AgUFha2CHns0Ri5cB/Ewn1wg/MQ8uB4w4YNi6qOUDx+8bHaTNrlchFUIsAejfF54403LOulpaVJ7gR2IeTB8a655pqo6gh1++23W9bZAiQyHMMVO/ZojA+bSYOQB8dzwmXwdgoEApb7vCEyXq+3xdFcgUCAdWURYI/G+EyYMEFZWVkhtaysLDaTTiO8UsPxqquro6ojlNfrtTx1gJASmYKCAjU1NYXUuPAiMqeffrplnT0aI5OTk9NiG5oFCxYw3Z1GCHlwPKYs4mMVUpqamggpEVq/fn2Liwc8Hg8XXkSgffv2UdXRUkZGRvA18Lv/jfRAyIPjOeEyeDsRUuJTWFhoOd3NhRetI5DEx+fzac6cOcF1oYFAQLNnz2afvDRCyIPjTZgwwbLOupTIEFLic3gD1eY1tI7HKT5er9dyFJ6lFumDkAfHC/eplUPOI0NIiY/X61VDQ0NIraGhgTfaCHTs2NGyzih8ZAoLC1tc9OP3+/mAlkYIeSkqljdR3nitcYVefLjwIj6cnRw7RuHjwwc0EPJSVEZGhj777LOo/sf6FWtcoRefwsJCy5EoRgMiU1xcHFUdRxBI4sMHNBDy4Hjhji9jG4HIVFZWWo4GMN0dmXDPv3DH7eGIRYsWWdZLSkqS3ImZCgsLLX93+YCWPgh5cLwrr7wyqjpCTZo0ybJ+6623JrkTM+3YsSOqOo7YtGmTZf3vf/97kjsxUyAQsByFR/og5MHxOPEiPvX19ZZ13iwiE+5x4vFrXbjpWqZxIzN37lzL+rx585LcCexCyIPjsVYxPuEuEDj77LOT3ImZmh8rdVhmZmaSOzFPnz59LOu9e/dOcidmeuWVVyzra9euTXInsAshD4531llnRVVHqGOPPdayzqkDkQkXhrm6tnUVFRVR1RFq4MCBlvX8/PwkdwK7EPLgeOG2YQhXB9rS119/HVUdR0ybNs2yftdddyW5EzN9/vnnlnVOvEgfhDw4XlVVVVR1hAp3FS1X1/KyV2IAACAASURBVEbm9ddfj6qOI9544w3LemlpaZI7MVPPnj2jqsN5CHlwvG7dukVVR6hw63rWrVuX5E7M1Llz56jqOGLXrl1R1RFq9+7dlvVPP/00uY3ANoQ8OF67du2iqiPUoUOHoqojVLi1i6xpbN3GjRst64zkRWbw4MGWddbkpQ9CHhzvpptuiqqOUGeeeWZUdYT68Y9/bFk/77zzktyJecJdHJWXl5fkTsx0zTXXRFWH8xDy4HgPPfRQVHWEuu+++yzrHMsVmdtvv92yPmXKlCR3Yp4PPvggqjpCsUcoCHlwvOzsbMs607WRYfF7fAKBgOX5oWjdoEGDoqojFM8zEPLgeHV1dZb12traJHdiJp/PZ1lnG4bIrFixwvL80D/84Q82dWSOzz77LKo6QnGkIwh5cLwPP/xQgUCgxf/++c9/2t2aEbZt2xZVHaHChWFCcuw41iwyTNeCkAfH83g8UdURqrGx0bIe7kxbhPrkk08s6zt37kxyJ+YJd9FKuDpCMV0LQh6Ao/rPf/5jWf/qq6+S3ImZFi1aZFlfuHBhkjsxz5AhQ6KqI9SECRNanJ2clZWlG264waaOkGyEPABHFW790549e5LciZnCHS21f//+JHdinhkzZkRVR6icnBwVFBSE1C666CLl5OTY1BGSjZAH4KiWLVtmWX/ggQeS3ImZJk2aZFkvKipKcifm6dOnj2WdPRoj4/P59NJLL4XUXnzxRdaDphFCHoCjuuyyyyzrl19+eZI7MdNtt91mWZ88eXKSOzFPuP3wysvLk9yJmRYtWmR5ZXdJSYlNHSHZCHkAjur++++3rPNGEZmVK1dGVccRw4cPj6qOUOHCcFlZWZI7gV0IeQCO6s0334yqjlD9+vWLqo4jbrzxxqjqCMVFPyDkATiqhoaGqOoIdemll0ZVxxHhjh58+OGHk9yJmU488UTL01ZOOukkmzpCshHyABxV8y0YDsvMzExyJ2YKdyXo3XffneROzPPaa69Z1l999dUkd2Imr9druSbP6/Xa1BGSjZAH4Ki6d+9uWe/Ro0eSOzHTxx9/bFnfsWNHkjsxz5133mlZnzp1apI7MVPHjh0t68cdd1ySO4FdCHkAjuqdd96Jqo5Q4TaT/vLLL5PciXlWr15tWX/++eeT3ImZpk+fblmfNm1akjuBXTjXCcBRDRo0yPIIrkGDBtnQjXk6dOigqqqqFnVGU1r39NNPy+12292GsXr16qUvvviiRb137942dAM7EPJSiN/vl8t1ZHA13DRZLD8LiFW4Ey/C1RGqY8eOliGvQ4cONnRjFgJefLZt22ZZ37p1a5I7gV0IeSnE5XLpH//4R5v8rHPOOadNfg5QU1MTVR2hPv74Y3k8LV9qGxsbbegG6eSKK67Qk08+aVlHemCoB8BRhQtzhw4dSnInZrIKeEerA21l6dKllvUlS5YkuRPYhZAH4KiKi4ujqgNIDTk5OS3W3/Xp00c5OTk2dYRk46MkgKMaMWJEi722JKm+vt6GbgBEqqysrMVWPf/6179UXl6uvLw8m7pCMjGSB+Cowm2GHK4OIDXMmjXLss5G3OmDkAcAgAP94he/sKxfc801Se4EdiHkAQDgQH/5y18s648//niSO4FdCHlwJKs1ZIn4HgBIVfPnz7esz5s3L8mdwC5ceAFHysjIiHqz3ng2nwaAVJOXl6ecnBxVVlYGa7m5uVx0kUYYyQMAwIHKyspCAp4k+Xw+lZeX29QRko2QBwCAA3F1LQh5AAA4EGvyQMgDAMCB8vLylJmZGVLLzMxkTV4aIeQBAOBA//u//6uGhoaQWkNDg5555hmbOkKyEfIAAHCgX/3qV5b1a6+9NsmdwC6EPAAAHKiuri6qOpyHkAcAgAPl5uZa1rt27ZrkTmAXQh4AAA5UU1NjWa+urk5yJ7ALJ14AAOBAFRUVLa6uldTiYgw4FyN5AICUwbnTbccq4B2tDudhJA8AkDI4dxpoO4Q8m/n9frlcRwZUzznnnITfB4DECQQCysjISPj3AEBrCHk2c7lcWrlyZULvY8yYMQn9+QCOYCQKQKpgeAcAAMCBCHkAWoh2ITsL3wEg9TBdC6CFaKccmW4EgNTDSB4AAIADEfIAAAAciJAHAADgQIQ8AAAAB+LCCzhG802f47kYgA2kAQCmI+TBMVwul/7xj3+0yc9KxMkjAJBonLiC7yLkAQDgEJy4gu9iPgoAAMCBCHkAAAAOFHHIq6qqUk1NjSSpqalJTz/9tFatWiW/35+w5gAAABCbiEPehAkT9Omnn0qSFi9erP/+7//Wn//8Z/3ud79LWHMAAADJEMsZ3Kl+bnfEF17s3r1bffv2lSStXr1aTzzxhI499liNGDFC06dPT1iDAAAAiebEi1YiDnkul0sNDQ3atWuXOnbsqFNOOUV+vz84hQsAAIDUEXHI+3//7/9p0qRJ+vLLL3XZZZdJkj7++GPl5OQkrDkAAADEJuKQt2DBAq1atUoej0ejRo2SJB08eFBFRUUJaw4AAACxiTjkZWVlaezYsfL7/dq/f79OPvlkDRkyJJG9AQDSAEcSAokRccj76quvdM8992jt2rXyeDzaunWrXn31VZWVlWny5MmJ7BEA4GAcSQgkRsQfd2bPnq0OHTpow4YNyszMlCQNGDBAL730UsKaAwAAQGwiHsnbtGmTSktLlZmZGTzIuEuXLjpw4EDCmgMAAEBsIg55HTt21MGDB3XyyScHa/v27dNJJ52UkMacrKmpSW63O/j1mDFjbL1/AADgPBGHvDFjxujWW2/VbbfdJr/fr/fee08lJSUaN25cIvtzJLfbrcWLF9t2/6yhRHNWi9VZ/A4AZos45F1//fXKzs7W3Llz1djYqOnTp2vs2LH65S9/mcj+ACRBWy58l1j8DgCpIOKQl5GRoV/+8peEOgBohi1AAKSio4a8TZs2RfRDzj333DZpBgBMxBYgAFLRUUPejBkzWv0BGRkZevXVV9usIQAAAMTvqCFvw4YNyeoDAADEgOUCCCfiNXkAACD1sFwA4UQc8qqrq7Vs2TJt3rxZBw8eVCAQCN72+uuvJ6I3oFXNP3Um4gWKT7YAABNFHPLmzJmjyspK3XzzzZo6daoWLlyoP/7xjxo+fHir33vw4EHdeeed+ve//62srCydeuqpmjt3rrp06aKtW7dq1qxZqqurU7du3bRw4UKdcMIJkpSQ2+AsLpdLK1euTOh9JHuzagAA2kLEwxNvvvmmHnjgARUUFMjtdqugoEBLlizRc8891+r3ZmRk6LrrrtPatWv1/PPPq0ePHlq0aJH8fr+mTp2qWbNmae3atcrPz9eiRYskKSG3AQAApIuIQ57f71fHjh0lSccee6wOHTqkk046SZ9++mmr39u5c2cNGTIk+HX//v21b98+lZeXKzs7W/n5+ZKkcePG6eWXX5akhNwGAACQLiKerj3zzDO1efNmnXvuuRo0aJDmzJmj9u3bq2fPnlHdod/vl9fr1QUXXKCKigqdcsopwdu6dOkiv9+vL7/8MiG3de7cOapeAQAATBVxyJs/f37wYouZM2eqpKREhw4d0n333RfVHc6bN0/HHnusfv7zn+uVV16JrtskKi8vT9jPHjRoUMJ+dqTeeecdu1toE8l6LJ3yeIWTiMfR6Y/Zd7X145dOj53E4xcvHr+2EevjmMqPV6shr7y8XFlZWerdu7ckqaqqSvfee6927NihAQMGqGvXrhHfWXFxsT799FM9/PDDcrlc6tq1q/bt2xe8vaqqSi6XS507d07IbdHIy8tTdnZ2VN9jklQImibh8Yoej1nseOziw+MXHx6/6Nj9eNXV1YUdmGp1Td69996r/fv3B7+eMWOGdu/erXHjxumjjz7SwoULI2qipKRE5eXlevDBB5WVlSXp2yBVW1urLVu2SJKeeOIJXXLJJQm7DQAAIF20OpK3c+fO4EUMX331lUpLS/X888/rtNNO0wUXXKBx48Zpzpw5R/0ZH330kVasWKGePXtq3Lhxkr7dkfvBBx/Ufffdp9mzZ4dsdyJ9uzVGW98GAEgN7HEJJF6rIa+pqUmZmZmSvt1/7sQTT9Rpp50mSeratau++uqrVu/k+9//vv71r39Z3jZw4EA9//zzSbsNAGA/9rgEEq/Vjzi9evXSSy+9JEl68cUXde655wZvq6ysDG6rAgAAgNTR6kjeHXfcoZtuuklz5syRy+XS3/72t+BtL774ogYOHJjQBgEAABC9VkNefn6+XnvtNe3evVs9e/ZUhw4dgredf/75uuyyyxLaIAAAAKIX0T55HTp0UF5eXov66aef3uYNAQAAIH4Rb4YMwFmScXWj1f0AAJKDkAekqWRc3ShxhSMA2IWQBwAxYJ83AKmOkAcAMWCfNwCpjo+IAAAADsRIXhI0NTXJ7XaH1CZPnmxTN6GsegMAAOYj5CWB2+3WlClT7G7DUklJid0tAACABCDkAQBgEKsLcrjwB1YIeQAAGITtjxApQh6MYrWGMJkvRKxhBACYgpAHo7jdbi1evNi2+0+VC2YAAGgNk+0AAAAORMgDAABwIEIeAACAAxHyAAAAHIiQBwAA4ECEPAAAAAci5AEAADgQIQ8AAMCB2AwZAJBwnFYDJB8hDwCQcJxWAyQf07UAAAAORMgDAABwIKZrgTTSfF1SMtdEWd0/ACBxCHlAGmFdFACkD0IeAESIkVDAWfx+v1yuIyvXunfv3mY/KxUQ8gAgQoyEAs7icrn0j3/8o01+1jnnnNMmP6ctpVbkBAAAQJsg5AEAADgQIQ8AAMCBWJMHAECK46IfxIKQBwBAiuOiH8SC6VoAAAAHIuQBAAA4ENO1CdLY2CiP58jDW1JSYmM3kWnec6povhYkVaYNWKMCAEhlqfeO7hAej0dXXXWV3W1E5amnnrK7BUtut1tTpkyxu40WTAjuAID0xXQtAACAAxHyAAAAHIiQBwAA4ECEPAAAAAci5AEAADgQIQ8AAMCBCHkAAAAORMgDAABwIEIeAACAAxHyAAAAHIiQBwAA4ECcXQsASIimpia53e7g15MnT7axm1DNewOciJAHAEgIt9utKVOm2N2GpZKSErtbABKOkAc4XKqOpjCSAgCJRcgDHC5VR1MYSQGAxCLkAcBRMBIKwFSEPAA4CkZCAZiKLVQAAAAciJAHAADgQIQ8AAAAByLkAQAAOBAXXgAAkIK4shvxIuQBAJCCuLIb8WK6FgAAwIEYyWtDjY2N8niOPKRPPfWUjd3Ep/nfBQAAmIV38Tbk8Xh07rnn2t1Gm9i0aZOt9988ZJowPUAwBgCkEt6RkJI8Ho+uuuoqu9uIiskjtwAA52FNHgAAgAMR8gAAAByI6VoAAJA2/H6/XK4jY1znnHNOUu7HDoQ8AACQNlwul1auXJnw+xkzZkzC76M1TNcCAAA4ECEPAADAgQh5AAAADkTIAwAAcCBCHgAAgAMR8gAAAByILVQAAG2Gc6eB1MGzGnAg095oeZN1Ds6dBlIHr6qAA5n2RptKb7JWgZOQDMBEvCoAwHeYFpCl1ArJAFIHF14AAAA4ECEPAADAgQh5AAAADkTIAwAAcCBCHgAAgAMR8gAAAByILVQAAEgRbGSOtsS/DAAAKcK0fRrZozG1EfLi1PxTzKZNm2zsJjGS9Umt+f2Y/OLBp1sAgN14F4qTx+NRjx497G4jofbs2ZOU+/F4PDr33HOTcl+J5sSwDwAwCxdeAAAAOBAhDwAAwIEIeQAAAA5EyAMAAHAgQh4AAIADEfIAAAAciJAHAADgQOyTBwCICxuZA6mJZzIAIC5sZA6kJkIe4ABWow+mjqYwkgIAbYNXUsABGEmJD9ONAJyIVwIAaY+QDMCJuLoWAADAgQh5AAAADkTIAwAAcCBCHgAAgAMR8gAAAByIkAcAAOBAbKECAICN2KcRiZKUf4ni4mKtXbtWe/fu1fPPP6/evXtLknbt2qVp06bpyy+/VOfOnVVcXKyePXsm7DaknuYvCE7c44sXPQBHwz6NSJSkvPNceOGF+sUvfqGf/exnIfXZs2ersLBQo0aN0nPPPadZs2bpL3/5S8JuQ+rxeDzq0aOH3W0k1J49e+xuAQCQhpKyJi8/P19du3YNqR04cEDbt2/XiBEjJEkjRozQ9u3bVVVVlZDbAAAA0oltc0gVFRXKycmR2+2WJLndbp188smqqKhQIBBo89u6dOliz18UAADABiwUCqO8vDzsbWeddZbatWsX/DqdpuNqa2v1wQcftNnPGzRoUJv9rFT2zjvvJPTnO+1xTPTj1RyPX3x4/OLD45dcyXy87X4sbAt5Xbt2VWVlpZqamuR2u9XU1KTPP/9cXbt2VSAQaPPbopWXl6fs7Oywt2dkZMTz1zdWIBBw3AtSMvCYRYfHKz48fvHh8YtPKj5+h3PBYWPGjEnK/R5+LJrff1uqq6sLOzBlW8g74YQT1LdvX61Zs0ajRo3SmjVr1Ldv3+C0aiJuAwC0Da6Mh0ncbrcWL15s2/1PnjzZlvtNyrN3/vz5Wrdunfbv369rr71WnTt31gsvvKA5c+Zo2rRpeuihh3TcccepuLg4+D2JuA0A0Da4Mh5IfUkJeTNnztTMmTNb1M844wytXLnS8nsScRsAAEC6YBwaMFQ6TJdJTJkBQKx45QQMlQ7TZRJTZgAQK0IegLSUDiOhjIIC6Y3ffgBpKR1GQhkFBdJbUo41AwAAQHIR8gAAAByIkAcAAOBAhDwAAAAHIuQBAAA4EFfXAgCQRFZb27CFDxKBRx8AgCRKh+17JLbwSQVM1wIAADgQIQ8AAMCBmK5FUjU0NCgzMzOklk5D+lZ/fwAAEoGQh6TKzMxURkaG3W3YJhAI2N0CACBNMF0LAADgQIzkAQAi0ny5AUstgNRGyAMARCSdl1uw1AImYroWAADAgRjJAwySztNlElNmABANQh5gkHSeLpOYMgOAaBDyAKQNRkIZCQXSCSEPQNpgJJSRUCCdcOEFAACAAxHyAAAAHIiQBwAA4ECsyYvSxx9/rB07dqhDhw52t2KLjz/+WL169bK7DQAA0ApG8gAAAByIkbwo9erVS7169VJ1dbXdrdiCUTwAiB7b97B9jx0IeQAAJBjb97B9jx2YrgUAAHAgQh4AAIADEfIAAAAciJAHAADgQIQ8AAAAByLkAQAAOBBbqCBp0v20EIkTQ2CudP/95XcXJmIkDwAAwIEYyUPSpPtpIRInhsBc6f77y+8uTMRIHgAAgAMxkgcYIt3XREmsiwKAaBDyAKQFQjIhGUg3hDzAEOm+JkpiXRQARIOQByAtEJIJyUC64cILAAAAByLkAQAAOBAhDwAAwIEIeQAAAA7EhRcAACQQ2/ewfY9dGMkDAABwIEbyAABIILbvYfseuxDyYtDQ0KBAIGB3G7ZoaGhQZmam3W0AAIBWEPJi0Dzk9OjRw6ZOkmPPnj3B/ybgAQBgBkIeAABwnKamJrnd7uDXkydPtrGbI5r3lUiEPABARFiqwkyGSdxut6ZMmWJ3Gy2UlJQk7b4IeUiqdH6TkHijgNlYqgKYhZCHpLJ6oeSNAgCAtkfIAwzCSCgjoQAQKUIeYJB0my6TGAkFgFhx4gUAAIADMZIHIG0w3c10N5BOCHkA0ka6TXd/d6pbYrobSDdM1wIAADgQIQ8AAMCBCHkAAAAORMgDAABwIC68iFNjY2OLxc1O09jYKI8nMU8VHj/ATPzuAqmPZ2+cmr8AnHvuuTZ10rY2bdoU/O9Evsjx+AFm4nc3Omzfw/Y9duDdBzBUOoykSIymwBnSbfseidNqUgGvnICh0mEkRWIkFABixYUXAAAADkTIAwAAcCDmQQCkpXRY08h6RiC98duPlNHY2NhiPZapeHNNfemwppHnIJDeeAVAymj+hnTVVVfZ1ElsnnrqqeB/8+YKALAb70SAAzAKCgBojldSwAGsQpFJI6GMggJA2+PVFAAQF0aSgdTEMxkAEBfW0wKpiWdzG+LTLACgNemwfY/E+0gq4NFvQ3yabTuNjY0h/ZiAFzQAkbB6nWALHyQC/wJISc1fHKZMmWJTJ+GVlJSEfM0LGgAglXCsGQAAgAMR8gAAAByIkAcAAOBALCICAMBG7MyAROFfAnAg065O5o0B6czknRmav87we5xa+NcAHMi0q5N5YwCAtscrK1JeU1NTi+1KUkFTU5PcbrfdbQAAYImQh5TXPEgtXrzYpk6kyZMnB/+bgAcASGWEPAAAUgTradGW+JcBACBFsJ4WbYl98gAAAByIkAcAAOBAhDwAAAAHYjIdAIAUxPZRiBchDwCAFMT2UYgX07UAAAAORMgDAABwIKZrAQBIcU1NTSFTpnbcP9O05iHkAQCQ4poHrJUrVyb8PseMGRP2/mEGpmsBAAAciJAHAADgQIQ8AAAAByLkAQAAOBAhDwAAwIEIeQAAAA5EyAMAAHAgQh4AAIADEfIAAAAcyLEhb9euXRo7dqyGDx+usWPHavfu3Xa3BAAAkDSODXmzZ89WYWGh1q5dq8LCQs2aNcvulgAAAJLGkSHvwIED2r59u0aMGCFJGjFihLZv366qqiqbOwMAAEgOj90NJEJFRYVycnKCByq73W6dfPLJqqioUJcuXWzuDgAAROrjjz/Wjh07Yvreffv2tXE38XvxxRej/p7evXurV69eUX9fRiAQCET9XSmuvLxcd911l1544YVg7bLLLtPChQt11llnHfV76+rqVF5eHncPP/zhD5WVlRX3z0mm+vp6vf/++3a3cVT9+vVTZmambfff0NCgsrIy2+4/Fqn6XEyl51teXp6ys7PtbqNNtNVrWKxS9fl2NKn0XIxEsl4HU+X17rPPPtOhQ4fSepCmc+fOrb5GWb2OOTLkHThwQMOHD9dbb70lt9utpqYmDRkyROvWrWv1SXL4BdJJL/oAAMCZjpZbHLkm74QTTlDfvn21Zs0aSdKaNWvUt2/ftP4UAAAA0osj1+RJ0pw5czRt2jQ99NBDOu6441RcXGx3SwAAAEnj2JB3xhlnaOXKlXa3AQAAYAtHTtcCAACkO0IeAACAAxHyAAAAHIiQBwAA4ECEPAAAAAci5AEAADgQIQ8AAMCBCHkAAAAORMgDAABwIEIeAACAAxHyAAAAHIiQBwAA4ECEPAAAAAci5AEAADgQIQ8AAMCBCHkAAAAORMgDAABwIEIeAACAA3nsbiDVBAIBSVJ9fb3NnQAAABzd4bxyOL98FyGvmYaGBknSjh07bO4EAAAgMg0NDWrXrl1ILSNgFf3SmN/vV01NjTIzM5WRkWF3OwAAAGEFAgE1NDSoffv2crlCV+ER8gAAAByICy8AAAAciJAHAADgQIQ8AAAAByLkAQAAOBAhDwAAwIEIeQAAAA5EyAMAAHAgTrwwRHFxsdauXau9e/fq+eefV+/eve1uySgHDx7UnXfeqX//+9/KysrSqaeeqrlz56pLly52t2aEm2++WZ999plcLpeOPfZY3X333erbt6/dbRln+fLlWrZsGb/DUbrggguUlZWl7OxsSdIdd9yhoUOH2tyVGerq6nTvvfdq06ZNys7OVv/+/TVv3jy72zLCZ599pltuuSX49aFDh1RdXa23337bxq6iQ8gzxIUXXqhf/OIX+tnPfmZ3K0bKyMjQddddpyFDhkj6NjQvWrRI9957r82dmaG4uFgdO3aUJK1fv17Tp0/XqlWrbO7KLB988IG2bt2qbt262d2KkR544AGCcQwWLlyo7OxsrV27VhkZGdq/f7/dLRmje/fueu6554JfL1iwQE1NTTZ2FD2maw2Rn5+vrl272t2GsTp37hwMeJLUv39/7du3z8aOzHI44ElSdXU1R/5Fqb6+XnPnztWcOXPsbgVppKamRs8++6wmTZoU/J098cQTbe7KTPX19Xr++ef1X//1X3a3EhVG8pB2/H6/vF6vLrjgArtbMcqMGTP05ptvKhAI6NFHH7W7HaMsXbpUI0eOVPfu3e1uxVh33HGHAoGABg0apClTpui4446zu6WUt2fPHnXu3FnLly/XW2+9pfbt22vSpEnKz8+3uzXjbNiwQTk5OTrrrLPsbiUqjOQh7cybN0/HHnusfv7zn9vdilEWLFig119/XZMnT9Z9991ndzvGeO+991ReXq7CwkK7WzHW//zP/2j16tV6+umnFQgENHfuXLtbMkJTU5P27NmjH/zgB3rmmWd0xx13qKioSNXV1Xa3Zpynn37auFE8iZCHNFNcXKxPP/1US5YskcvF0z8Wo0eP1ltvvaWDBw/a3YoRNm/erJ07d+rCCy/UBRdcIJ/Pp1//+tfauHGj3a0Z4/BSlaysLBUWFurdd9+1uSMzdO3aVR6PRyNGjJAknX322Tr++OO1a9cumzszS2VlpTZv3qwrrrjC7laixrsc0kZJSYnKy8v14IMPKisry+52jFFTU6OKiorg1xs2bFCnTp3UuXNnG7syxw033KCNGzdqw4YN2rBhg3Jzc/XHP/5RP/nJT+xuzQhff/21Dh06JEkKBAJ68cUXubI7Ql26dNGQIUP05ptvSpJ27dqlAwcO6NRTT7W5M7OsWrVK559/vo4//ni7W4kaa/IMMX/+fK1bt0779+/Xtddeq86dO+uFF16wuy1jfPTRR1qxYoV69uypcePGSfr2yqkHH3zQ5s5S3zfffKNJkybpm2++kcvlUqdOnfTwww9z8QWS4sCBAyoqKlJTU5P8fr/OOOMMzZ492+62jHHPPfdo+vTpKi4ulsfj0X333cd6xiitWrVKM2bMsLuNmGQEAoGA3U0AAACgbTFdCwAA4ECEPAAAAAci5AEAADgQIQ8AAMCBCHkAAAAORMgDgASrra3VjTfeqEGDBunWW29N2v0uW7ZMd9xxR9LuD0BqIeQBcLwLLrhA/fr104ABA5Sfn69x48bJ6/XK7/fH/bMPn+V78cUXq1+/fho2bJjuv/9+1dfXB//Myy+/rP379+ut0IdPfAAABkhJREFUt95SSUmJBgwYoG3btgVvX716tfr06dOidskll8TdH4D0RcgDkBYefvhhvffee3rttdd0/fXX65FHHmmTDU7nz5+vp556SsXFxXr33Xf1yCOPaNOmTZo0aVLwz+zbt089e/aUx+ORx+NR//79tXnz5uDtW7Zs0emnn96iNnjw4Lj7A5C+CHkA0krHjh114YUXasmSJVq1apV27Nih119/XaNHj9bAgQN1/vnna9myZcE/f8MNN+jxxx8P+RlXXHGFXnnlFe3evVt/+9vftGjRIg0YMEAej0ff//73tWzZMpWWlmrTpk164IEH9NBDD+mll17SgAEDtHLlSuXn52vLli3Bn7dlyxZdf/31LWr5+fmSpNdee02jRo0KjkJ++OGHwT9XWVmpoqIinXPOObrgggv0l7/8xfLv3dDQoClTpqioqChklBGAcxHyAKSlfv36KTc3V1u2bNExxxyj4uJibdmyRStWrJDX69X69eslSaNHj9bq1auD3/fhhx/q888/1/nnn69NmzYpNzdX/fr1C/nZXbt2Vf/+/fX3v/9dt956qyZMmKBLL71U7733nsaMGaPBgwfr3Xffld/vV1VVlb755htdeumlKisrC9Z27typwYMHa/v27Zo+fbrmzp2rt956S2PHjtXNN9+s+vp6+f1+3XTTTerTp4/+7//+T4899pgee+wxlZaWhvRTW1urW265RVlZWVqyZAlnNwNpgpAHIG2dfPLJ+s9//qMhQ4aoT58+crlcOvPMM3X55Zfr7bffliRdeOGF2r17t3bv3i1Jeu6553TppZcqKytLBw8e1EknnWT5s0866SQdPHjQ8razzz5b33zzjXbs2KF33nlHAwcO1DHHHKPu3bsHa926ddMpp5yiJ598UmPHjtXZZ58tt9utK6+8UpmZmdq6davef/99VVVVaeLEicrKylKPHj101VVX6cUXXwzeV3V1ta677jp973vf029/+1u53e62fRABpCyP3Q0AgF0qKyvVqVMnbdu2TYsWLdJHH32khoYG1dfXBy96yM7O1qWXXqrVq1dr4sSJWrNmjR544AFJ0vHHH68vvvjC8md/8cUX6t69u+Vt2dnZ6tevnzZv3qw9e/YEp2UHDRoUrB1ej7dv3z49++yz+utf/xr8/oaGBn3++edyuVz6/PPPg98vSU1NTSFfb9u2TY2Njbr//vuVkZERx6MFwDSEPABpqaysTJWVlRo0aJBuueUW/fznP9ejjz6q7OxsLViwIGQU7sorr9Sdd96pQYMG6ZhjjtGAAQMkSeecc47uuecelZWVhUzZVlRUaOvWrbr55pvD3n9+fr42b96szz77TGPGjJH0bchbvXq1PvvsM1199dWSvp36vfHGG3XTTTe1+BnvvfeeunfvrnXr1oW9nx//+Mfq06ePxo8fr8cff1wnnnhidA8UAGMxXQsgrVRXV+u1117TlClTNHLkSPXp00c1NTXq1KmTsrOzVVZWpjVr1oR8z4ABA+RyufS73/1OI0eODNZPO+00jRs3TnfccYe2bt2qpqYmffTRRyoqKtJ5552n8847L2wfgwcP1ltvvSWfz6devXpJkgYOHKi3335bH374YXAkb8yYMXriiSe0bds2BQIBff3113r99ddVXV2tfv36qX379vrDH/6g2tpaNTU1aceOHSorKwu5r+uvv14jRozQ+PHjVVVV1VYPJYAUx0gegLRw4403yu12y+VyqVevXrr22ms1btw4SdLs2bNVXFysuXPn6kc/+pEuvfRSffXVVyHfP2rUKC1dulQPPfRQSH3WrFl69NFHNXXqVFVWVur444/X5ZdfHrKFipUBAwaourpaQ4cODU6jdunSRV26dJHH41HPnj0lST/84Q81b948zZ07V59++qnatWungQMHKj8/X263Ww8//LCKi4t14YUXqr6+Xqeddppuu+22Fvd3yy23qL6+Xtdee60ee+wxde7cOdaHEoAhMgKBQMDuJgAg1T377LN68skn5fV67W4FACLCdC0AtOKbb77R3/72N40dO9buVgAgYoQ8ADiK0tJSnXvuuTrhhBM0YsQIu9sBgIgxXQsAAOBAjOQBAAA4ECEPAADAgQh5AAAADkTIAwAAcCBCHgAAgAMR8gAAABzo/wM7rvdwegWKNgAAAABJRU5ErkJggg==\n",
            "text/plain": [
              "<Figure size 720x720 with 1 Axes>"
            ]
          },
          "metadata": {
            "tags": []
          }
        }
>>>>>>> 3dc444e45122a7b3a50274e46831a1923895dcd8:notebook/Sales_prediction.ipynb
      ]
     },
     "execution_count": 99,
     "metadata": {},
     "output_type": "execute_result"
    }
   ],
   "source": [
    "train_data.head()"
   ]
  },
  {
   "cell_type": "code",
   "execution_count": 100,
   "metadata": {},
   "outputs": [],
   "source": [
    "train_data['Date'] = pd.to_datetime(train_data['Date'])"
   ]
  },
  {
   "cell_type": "code",
   "execution_count": 101,
   "metadata": {},
   "outputs": [],
   "source": [
    "train_data['Year']=train_data.Date.dt.year"
   ]
  },
  {
   "cell_type": "code",
   "execution_count": 103,
   "metadata": {},
   "outputs": [
    {
<<<<<<< HEAD:scripts/Sales_prediction.ipynb
     "data": {
      "text/html": [
       "<div>\n",
       "<style scoped>\n",
       "    .dataframe tbody tr th:only-of-type {\n",
       "        vertical-align: middle;\n",
       "    }\n",
       "\n",
       "    .dataframe tbody tr th {\n",
       "        vertical-align: top;\n",
       "    }\n",
       "\n",
       "    .dataframe thead th {\n",
       "        text-align: right;\n",
       "    }\n",
       "</style>\n",
       "<table border=\"1\" class=\"dataframe\">\n",
       "  <thead>\n",
       "    <tr style=\"text-align: right;\">\n",
       "      <th></th>\n",
       "      <th>Weekdays</th>\n",
       "      <th>Weeks</th>\n",
       "      <th>Months</th>\n",
       "      <th>Store</th>\n",
       "      <th>DayOfWeek</th>\n",
       "      <th>Sales</th>\n",
       "      <th>Customers</th>\n",
       "      <th>Open</th>\n",
       "      <th>Promo</th>\n",
       "      <th>StateHoliday</th>\n",
       "      <th>...</th>\n",
       "      <th>Assortment</th>\n",
       "      <th>CompetitionDistance</th>\n",
       "      <th>CompetitionOpenSinceMonth</th>\n",
       "      <th>CompetitionOpenSinceYear</th>\n",
       "      <th>Promo2</th>\n",
       "      <th>Promo2SinceWeek</th>\n",
       "      <th>Promo2SinceYear</th>\n",
       "      <th>PromoInterval</th>\n",
       "      <th>SalesperCustomer</th>\n",
       "      <th>Year</th>\n",
       "    </tr>\n",
       "  </thead>\n",
       "  <tbody>\n",
       "    <tr>\n",
       "      <th>0</th>\n",
       "      <td>1</td>\n",
       "      <td>23</td>\n",
       "      <td>6</td>\n",
       "      <td>867</td>\n",
       "      <td>3</td>\n",
       "      <td>5608.0</td>\n",
       "      <td>469.0</td>\n",
       "      <td>1</td>\n",
       "      <td>1</td>\n",
       "      <td>0.0</td>\n",
       "      <td>...</td>\n",
       "      <td>c</td>\n",
       "      <td>21810.0</td>\n",
       "      <td>9.0</td>\n",
       "      <td>2012.0</td>\n",
       "      <td>0</td>\n",
       "      <td>0.0</td>\n",
       "      <td>0.0</td>\n",
       "      <td>Jan,Apr,Jul,Oct</td>\n",
       "      <td>11.957356</td>\n",
       "      <td>2015</td>\n",
       "    </tr>\n",
       "    <tr>\n",
       "      <th>1</th>\n",
       "      <td>1</td>\n",
       "      <td>23</td>\n",
       "      <td>6</td>\n",
       "      <td>868</td>\n",
       "      <td>3</td>\n",
       "      <td>13500.0</td>\n",
       "      <td>816.0</td>\n",
       "      <td>1</td>\n",
       "      <td>1</td>\n",
       "      <td>0.0</td>\n",
       "      <td>...</td>\n",
       "      <td>c</td>\n",
       "      <td>1360.0</td>\n",
       "      <td>8.0</td>\n",
       "      <td>2005.0</td>\n",
       "      <td>1</td>\n",
       "      <td>10.0</td>\n",
       "      <td>2014.0</td>\n",
       "      <td>Jan,Apr,Jul,Oct</td>\n",
       "      <td>16.544118</td>\n",
       "      <td>2015</td>\n",
       "    </tr>\n",
       "    <tr>\n",
       "      <th>2</th>\n",
       "      <td>1</td>\n",
       "      <td>23</td>\n",
       "      <td>6</td>\n",
       "      <td>869</td>\n",
       "      <td>3</td>\n",
       "      <td>7007.0</td>\n",
       "      <td>932.0</td>\n",
       "      <td>1</td>\n",
       "      <td>1</td>\n",
       "      <td>0.0</td>\n",
       "      <td>...</td>\n",
       "      <td>a</td>\n",
       "      <td>230.0</td>\n",
       "      <td>10.0</td>\n",
       "      <td>2001.0</td>\n",
       "      <td>1</td>\n",
       "      <td>14.0</td>\n",
       "      <td>2011.0</td>\n",
       "      <td>Jan,Apr,Jul,Oct</td>\n",
       "      <td>7.518240</td>\n",
       "      <td>2015</td>\n",
       "    </tr>\n",
       "    <tr>\n",
       "      <th>3</th>\n",
       "      <td>1</td>\n",
       "      <td>23</td>\n",
       "      <td>6</td>\n",
       "      <td>870</td>\n",
       "      <td>3</td>\n",
       "      <td>7911.0</td>\n",
       "      <td>971.0</td>\n",
       "      <td>1</td>\n",
       "      <td>1</td>\n",
       "      <td>0.0</td>\n",
       "      <td>...</td>\n",
       "      <td>a</td>\n",
       "      <td>780.0</td>\n",
       "      <td>4.0</td>\n",
       "      <td>2009.0</td>\n",
       "      <td>0</td>\n",
       "      <td>0.0</td>\n",
       "      <td>0.0</td>\n",
       "      <td>Jan,Apr,Jul,Oct</td>\n",
       "      <td>8.147271</td>\n",
       "      <td>2015</td>\n",
       "    </tr>\n",
       "    <tr>\n",
       "      <th>4</th>\n",
       "      <td>1</td>\n",
       "      <td>23</td>\n",
       "      <td>6</td>\n",
       "      <td>871</td>\n",
       "      <td>3</td>\n",
       "      <td>9198.0</td>\n",
       "      <td>678.0</td>\n",
       "      <td>1</td>\n",
       "      <td>1</td>\n",
       "      <td>0.0</td>\n",
       "      <td>...</td>\n",
       "      <td>c</td>\n",
       "      <td>10620.0</td>\n",
       "      <td>0.0</td>\n",
       "      <td>0.0</td>\n",
       "      <td>0</td>\n",
       "      <td>0.0</td>\n",
       "      <td>0.0</td>\n",
       "      <td>Jan,Apr,Jul,Oct</td>\n",
       "      <td>13.566372</td>\n",
       "      <td>2015</td>\n",
       "    </tr>\n",
       "  </tbody>\n",
       "</table>\n",
       "<p>5 rows × 23 columns</p>\n",
       "</div>"
      ],
      "text/plain": [
       "   Weekdays  Weeks  Months  Store  DayOfWeek    Sales  Customers  Open  Promo  \\\n",
       "0         1     23       6    867          3   5608.0      469.0     1      1   \n",
       "1         1     23       6    868          3  13500.0      816.0     1      1   \n",
       "2         1     23       6    869          3   7007.0      932.0     1      1   \n",
       "3         1     23       6    870          3   7911.0      971.0     1      1   \n",
       "4         1     23       6    871          3   9198.0      678.0     1      1   \n",
       "\n",
       "   StateHoliday  ...  Assortment  CompetitionDistance  \\\n",
       "0           0.0  ...           c              21810.0   \n",
       "1           0.0  ...           c               1360.0   \n",
       "2           0.0  ...           a                230.0   \n",
       "3           0.0  ...           a                780.0   \n",
       "4           0.0  ...           c              10620.0   \n",
       "\n",
       "  CompetitionOpenSinceMonth CompetitionOpenSinceYear  Promo2  Promo2SinceWeek  \\\n",
       "0                       9.0                   2012.0       0              0.0   \n",
       "1                       8.0                   2005.0       1             10.0   \n",
       "2                      10.0                   2001.0       1             14.0   \n",
       "3                       4.0                   2009.0       0              0.0   \n",
       "4                       0.0                      0.0       0              0.0   \n",
       "\n",
       "   Promo2SinceYear    PromoInterval  SalesperCustomer  Year  \n",
       "0              0.0  Jan,Apr,Jul,Oct         11.957356  2015  \n",
       "1           2014.0  Jan,Apr,Jul,Oct         16.544118  2015  \n",
       "2           2011.0  Jan,Apr,Jul,Oct          7.518240  2015  \n",
       "3              0.0  Jan,Apr,Jul,Oct          8.147271  2015  \n",
       "4              0.0  Jan,Apr,Jul,Oct         13.566372  2015  \n",
       "\n",
       "[5 rows x 23 columns]"
=======
      "cell_type": "code",
      "metadata": {
        "id": "RRIikKOmt78o",
        "colab_type": "code",
        "colab": {
          "base_uri": "https://localhost:8080/",
          "height": 628
        },
        "outputId": "3bd0c406-6522-4cf1-d833-b0c31b180bbb"
      },
      "source": [
        "plt.figure(figsize=(10,10))\n",
        "sns.set(style=\"whitegrid\")\n",
        "sns.boxenplot(y=\"Customers\", x=\"DayOfWeek\",data=train_data, scale=\"linear\",color=\"Green\")"
      ],
      "execution_count": 38,
      "outputs": [
        {
          "output_type": "execute_result",
          "data": {
            "text/plain": [
              "<matplotlib.axes._subplots.AxesSubplot at 0x7f4dcd159978>"
            ]
          },
          "metadata": {
            "tags": []
          },
          "execution_count": 38
        },
        {
          "output_type": "display_data",
          "data": {
            "image/png": "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\n",
            "text/plain": [
              "<Figure size 720x720 with 1 Axes>"
            ]
          },
          "metadata": {
            "tags": []
          }
        }
>>>>>>> 3dc444e45122a7b3a50274e46831a1923895dcd8:notebook/Sales_prediction.ipynb
      ]
     },
     "execution_count": 103,
     "metadata": {},
     "output_type": "execute_result"
    }
   ],
   "source": [
    "del train_data[\"Date\"]\n",
    "train_data.head()"
   ]
  },
  {
   "cell_type": "code",
   "execution_count": null,
   "metadata": {},
   "outputs": [],
   "source": [
    "#correlation Analysis"
   ]
  },
  {
   "cell_type": "code",
   "execution_count": 105,
   "metadata": {},
   "outputs": [],
   "source": [
    "df_correlation=train_data[['Store', 'DayOfWeek', 'Sales', 'Customers', 'Promo',\n",
    "        'SchoolHoliday',\n",
    "       'CompetitionDistance', 'CompetitionOpenSinceMonth',\n",
    "       'CompetitionOpenSinceYear', 'Promo2', 'Promo2SinceWeek',\n",
    "       'Promo2SinceYear', 'SalesperCustomer', 'Months', 'Year',\n",
    "       'StateHoliday', 'Assortment', 'StoreType',\n",
    "       'PromoInterval']]\n"
   ]
  },
  {
   "cell_type": "code",
   "execution_count": 106,
   "metadata": {},
   "outputs": [
    {
     "data": {
      "text/plain": [
       "<matplotlib.axes._subplots.AxesSubplot at 0x14702c2cba8>"
      ]
     },
     "execution_count": 106,
     "metadata": {},
     "output_type": "execute_result"
    },
    {
<<<<<<< HEAD:scripts/Sales_prediction.ipynb
     "data": {
      "image/png": "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\n",
      "text/plain": [
       "<Figure size 1080x720 with 2 Axes>"
=======
      "cell_type": "code",
      "metadata": {
        "id": "AAp8e610ukeA",
        "colab_type": "code",
        "colab": {}
      },
      "source": [
        "#Treating the outliers \n",
        "  # a function for replacing outliers with the median, used when there's too many outliers in a feature\n",
        "def replace_outlier_with_median(dataFrame, feature):\n",
        "    Q1 = dataFrame[feature].quantile(0.25)\n",
        "    Q3 = dataFrame[feature].quantile(0.75)\n",
        "    median = dataFrame[feature].quantile(0.50)\n",
        "\n",
        "    IQR = Q3 - Q1\n",
        "\n",
        "    upper_whisker = Q3 + (1.5 * IQR)\n",
        "    lower_whisker = Q1 - (1.5 * IQR)\n",
        "\n",
        "    dataFrame[feature] = np.where(dataFrame[feature] > upper_whisker, median, dataFrame[feature])\n",
        "    dataFrame[feature] = np.where(dataFrame[feature] < lower_whisker, median, dataFrame[feature])"
      ],
      "execution_count": 39,
      "outputs": []
    },
    {
      "cell_type": "code",
      "metadata": {
        "id": "lI_mb8M3uzrF",
        "colab_type": "code",
        "colab": {}
      },
      "source": [
        "replace_outlier_with_median(train_data, 'Sales')"
      ],
      "execution_count": 40,
      "outputs": []
    },
    {
      "cell_type": "code",
      "metadata": {
        "id": "iKUXqziJvB0n",
        "colab_type": "code",
        "colab": {}
      },
      "source": [
        "replace_outlier_with_median(train_data, 'Customers')"
      ],
      "execution_count": 41,
      "outputs": []
    },
    {
      "cell_type": "markdown",
      "metadata": {
        "id": "aF3kMgH3lUnk",
        "colab_type": "text"
      },
      "source": [
        "1.3 **Feature Engeneering**\n",
        "\n",
        "Generating new features from already existing features. \n",
        "\n"
>>>>>>> 3dc444e45122a7b3a50274e46831a1923895dcd8:notebook/Sales_prediction.ipynb
      ]
     },
     "metadata": {},
     "output_type": "display_data"
    }
   ],
   "source": [
    "upper_triangle = np.zeros_like(df_correlation.corr(), dtype = np.bool)\n",
    "upper_triangle[np.triu_indices_from(upper_triangle)] = True #make sure we don't show half of the other triangle\n",
    "f, ax = plt.subplots(figsize = (15, 10))\n",
    "sns.heatmap(df_correlation.corr(),ax=ax,mask=upper_triangle,annot=True, fmt='.2f',linewidths=0.5,cmap=sns.diverging_palette(10, 133, as_cmap=True))\n"
   ]
  },
  {
   "cell_type": "code",
   "execution_count": null,
   "metadata": {},
   "outputs": [],
   "source": []
  },
  {
   "cell_type": "markdown",
   "metadata": {},
   "source": [
    "-Since the competition variables CompetitionOpenSinceYear and CompeitionOpenSinceMonth have the same underlying meaning, merging them into one variable that we call CompetitionOpenSince makes easier for the algorithm to understand the pattern and creates less branches and thus complex trees."
   ]
  },
  {
   "cell_type": "code",
   "execution_count": 107,
   "metadata": {
    "colab": {},
    "colab_type": "code",
    "id": "544i848SBEAr"
   },
   "outputs": [],
   "source": [
    "train_data['CompetitionOpenSince'] = np.where((train_data['CompetitionOpenSinceMonth']==0) & \n",
    "                                                  (train_data['CompetitionOpenSinceYear']==0) , 0,\n",
    "                                                  (train_data.Months - train_data.CompetitionOpenSinceMonth) \n",
    "                                                  + (12 * (train_data.Year - train_data.CompetitionOpenSinceYear)) )"
   ]
  },
  {
   "cell_type": "code",
   "execution_count": 108,
   "metadata": {},
   "outputs": [],
   "source": [
    "#train_data['Date'] = train_data['Date'].dt.strftime('%Y-%m-%d')"
   ]
  },
  {
   "cell_type": "code",
   "execution_count": 109,
   "metadata": {},
   "outputs": [],
   "source": [
    "del train_data['CompetitionOpenSinceYear']\n",
    "del train_data['CompetitionOpenSinceMonth']"
   ]
  },
  {
   "cell_type": "code",
   "execution_count": 110,
   "metadata": {},
   "outputs": [
    {
<<<<<<< HEAD:scripts/Sales_prediction.ipynb
     "data": {
      "text/html": [
       "<div>\n",
       "<style scoped>\n",
       "    .dataframe tbody tr th:only-of-type {\n",
       "        vertical-align: middle;\n",
       "    }\n",
       "\n",
       "    .dataframe tbody tr th {\n",
       "        vertical-align: top;\n",
       "    }\n",
       "\n",
       "    .dataframe thead th {\n",
       "        text-align: right;\n",
       "    }\n",
       "</style>\n",
       "<table border=\"1\" class=\"dataframe\">\n",
       "  <thead>\n",
       "    <tr style=\"text-align: right;\">\n",
       "      <th></th>\n",
       "      <th>Weekdays</th>\n",
       "      <th>Weeks</th>\n",
       "      <th>Months</th>\n",
       "      <th>Store</th>\n",
       "      <th>DayOfWeek</th>\n",
       "      <th>Sales</th>\n",
       "      <th>Customers</th>\n",
       "      <th>Open</th>\n",
       "      <th>Promo</th>\n",
       "      <th>StateHoliday</th>\n",
       "      <th>...</th>\n",
       "      <th>StoreType</th>\n",
       "      <th>Assortment</th>\n",
       "      <th>CompetitionDistance</th>\n",
       "      <th>Promo2</th>\n",
       "      <th>Promo2SinceWeek</th>\n",
       "      <th>Promo2SinceYear</th>\n",
       "      <th>PromoInterval</th>\n",
       "      <th>SalesperCustomer</th>\n",
       "      <th>Year</th>\n",
       "      <th>CompetitionOpenSince</th>\n",
       "    </tr>\n",
       "  </thead>\n",
       "  <tbody>\n",
       "    <tr>\n",
       "      <th>0</th>\n",
       "      <td>1</td>\n",
       "      <td>23</td>\n",
       "      <td>6</td>\n",
       "      <td>867</td>\n",
       "      <td>3</td>\n",
       "      <td>5608.0</td>\n",
       "      <td>469.0</td>\n",
       "      <td>1</td>\n",
       "      <td>1</td>\n",
       "      <td>0.0</td>\n",
       "      <td>...</td>\n",
       "      <td>d</td>\n",
       "      <td>c</td>\n",
       "      <td>21810.0</td>\n",
       "      <td>0</td>\n",
       "      <td>0.0</td>\n",
       "      <td>0.0</td>\n",
       "      <td>Jan,Apr,Jul,Oct</td>\n",
       "      <td>11.957356</td>\n",
       "      <td>2015</td>\n",
       "      <td>33.0</td>\n",
       "    </tr>\n",
       "    <tr>\n",
       "      <th>1</th>\n",
       "      <td>1</td>\n",
       "      <td>23</td>\n",
       "      <td>6</td>\n",
       "      <td>868</td>\n",
       "      <td>3</td>\n",
       "      <td>13500.0</td>\n",
       "      <td>816.0</td>\n",
       "      <td>1</td>\n",
       "      <td>1</td>\n",
       "      <td>0.0</td>\n",
       "      <td>...</td>\n",
       "      <td>d</td>\n",
       "      <td>c</td>\n",
       "      <td>1360.0</td>\n",
       "      <td>1</td>\n",
       "      <td>10.0</td>\n",
       "      <td>2014.0</td>\n",
       "      <td>Jan,Apr,Jul,Oct</td>\n",
       "      <td>16.544118</td>\n",
       "      <td>2015</td>\n",
       "      <td>118.0</td>\n",
       "    </tr>\n",
       "    <tr>\n",
       "      <th>2</th>\n",
       "      <td>1</td>\n",
       "      <td>23</td>\n",
       "      <td>6</td>\n",
       "      <td>869</td>\n",
       "      <td>3</td>\n",
       "      <td>7007.0</td>\n",
       "      <td>932.0</td>\n",
       "      <td>1</td>\n",
       "      <td>1</td>\n",
       "      <td>0.0</td>\n",
       "      <td>...</td>\n",
       "      <td>c</td>\n",
       "      <td>a</td>\n",
       "      <td>230.0</td>\n",
       "      <td>1</td>\n",
       "      <td>14.0</td>\n",
       "      <td>2011.0</td>\n",
       "      <td>Jan,Apr,Jul,Oct</td>\n",
       "      <td>7.518240</td>\n",
       "      <td>2015</td>\n",
       "      <td>164.0</td>\n",
       "    </tr>\n",
       "    <tr>\n",
       "      <th>3</th>\n",
       "      <td>1</td>\n",
       "      <td>23</td>\n",
       "      <td>6</td>\n",
       "      <td>870</td>\n",
       "      <td>3</td>\n",
       "      <td>7911.0</td>\n",
       "      <td>971.0</td>\n",
       "      <td>1</td>\n",
       "      <td>1</td>\n",
       "      <td>0.0</td>\n",
       "      <td>...</td>\n",
       "      <td>a</td>\n",
       "      <td>a</td>\n",
       "      <td>780.0</td>\n",
       "      <td>0</td>\n",
       "      <td>0.0</td>\n",
       "      <td>0.0</td>\n",
       "      <td>Jan,Apr,Jul,Oct</td>\n",
       "      <td>8.147271</td>\n",
       "      <td>2015</td>\n",
       "      <td>74.0</td>\n",
       "    </tr>\n",
       "    <tr>\n",
       "      <th>4</th>\n",
       "      <td>1</td>\n",
       "      <td>23</td>\n",
       "      <td>6</td>\n",
       "      <td>871</td>\n",
       "      <td>3</td>\n",
       "      <td>9198.0</td>\n",
       "      <td>678.0</td>\n",
       "      <td>1</td>\n",
       "      <td>1</td>\n",
       "      <td>0.0</td>\n",
       "      <td>...</td>\n",
       "      <td>d</td>\n",
       "      <td>c</td>\n",
       "      <td>10620.0</td>\n",
       "      <td>0</td>\n",
       "      <td>0.0</td>\n",
       "      <td>0.0</td>\n",
       "      <td>Jan,Apr,Jul,Oct</td>\n",
       "      <td>13.566372</td>\n",
       "      <td>2015</td>\n",
       "      <td>0.0</td>\n",
       "    </tr>\n",
       "  </tbody>\n",
       "</table>\n",
       "<p>5 rows × 22 columns</p>\n",
       "</div>"
      ],
      "text/plain": [
       "   Weekdays  Weeks  Months  Store  DayOfWeek    Sales  Customers  Open  Promo  \\\n",
       "0         1     23       6    867          3   5608.0      469.0     1      1   \n",
       "1         1     23       6    868          3  13500.0      816.0     1      1   \n",
       "2         1     23       6    869          3   7007.0      932.0     1      1   \n",
       "3         1     23       6    870          3   7911.0      971.0     1      1   \n",
       "4         1     23       6    871          3   9198.0      678.0     1      1   \n",
       "\n",
       "   StateHoliday  ...  StoreType  Assortment CompetitionDistance Promo2  \\\n",
       "0           0.0  ...          d           c             21810.0      0   \n",
       "1           0.0  ...          d           c              1360.0      1   \n",
       "2           0.0  ...          c           a               230.0      1   \n",
       "3           0.0  ...          a           a               780.0      0   \n",
       "4           0.0  ...          d           c             10620.0      0   \n",
       "\n",
       "   Promo2SinceWeek  Promo2SinceYear    PromoInterval  SalesperCustomer  Year  \\\n",
       "0              0.0              0.0  Jan,Apr,Jul,Oct         11.957356  2015   \n",
       "1             10.0           2014.0  Jan,Apr,Jul,Oct         16.544118  2015   \n",
       "2             14.0           2011.0  Jan,Apr,Jul,Oct          7.518240  2015   \n",
       "3              0.0              0.0  Jan,Apr,Jul,Oct          8.147271  2015   \n",
       "4              0.0              0.0  Jan,Apr,Jul,Oct         13.566372  2015   \n",
       "\n",
       "   CompetitionOpenSince  \n",
       "0                  33.0  \n",
       "1                 118.0  \n",
       "2                 164.0  \n",
       "3                  74.0  \n",
       "4                   0.0  \n",
       "\n",
       "[5 rows x 22 columns]"
=======
      "cell_type": "code",
      "metadata": {
        "id": "keMWSDS_ldOB",
        "colab_type": "code",
        "colab": {
          "base_uri": "https://localhost:8080/",
          "height": 436
        },
        "outputId": "02944d81-ed61-4def-f2b0-c668027e8b03"
      },
      "source": [
        "train_data"
      ],
      "execution_count": 42,
      "outputs": [
        {
          "output_type": "execute_result",
          "data": {
            "text/html": [
              "<div>\n",
              "<style scoped>\n",
              "    .dataframe tbody tr th:only-of-type {\n",
              "        vertical-align: middle;\n",
              "    }\n",
              "\n",
              "    .dataframe tbody tr th {\n",
              "        vertical-align: top;\n",
              "    }\n",
              "\n",
              "    .dataframe thead th {\n",
              "        text-align: right;\n",
              "    }\n",
              "</style>\n",
              "<table border=\"1\" class=\"dataframe\">\n",
              "  <thead>\n",
              "    <tr style=\"text-align: right;\">\n",
              "      <th></th>\n",
              "      <th>Weekdays</th>\n",
              "      <th>Weeks</th>\n",
              "      <th>Months</th>\n",
              "      <th>Store</th>\n",
              "      <th>DayOfWeek</th>\n",
              "      <th>Date</th>\n",
              "      <th>Sales</th>\n",
              "      <th>Customers</th>\n",
              "      <th>Open</th>\n",
              "      <th>Promo</th>\n",
              "      <th>StateHoliday</th>\n",
              "      <th>SchoolHoliday</th>\n",
              "      <th>Store-1</th>\n",
              "      <th>StoreType</th>\n",
              "      <th>Assortment</th>\n",
              "      <th>CompetitionDistance</th>\n",
              "      <th>CompetitionOpenSinceMonth</th>\n",
              "      <th>CompetitionOpenSinceYear</th>\n",
              "      <th>Promo2</th>\n",
              "      <th>Promo2SinceWeek</th>\n",
              "      <th>Promo2SinceYear</th>\n",
              "      <th>PromoInterval</th>\n",
              "    </tr>\n",
              "  </thead>\n",
              "  <tbody>\n",
              "    <tr>\n",
              "      <th>0</th>\n",
              "      <td>1</td>\n",
              "      <td>23</td>\n",
              "      <td>6</td>\n",
              "      <td>867</td>\n",
              "      <td>3</td>\n",
              "      <td>6/3/2015</td>\n",
              "      <td>5608.0</td>\n",
              "      <td>469.0</td>\n",
              "      <td>1</td>\n",
              "      <td>1</td>\n",
              "      <td>0.0</td>\n",
              "      <td>0</td>\n",
              "      <td>867</td>\n",
              "      <td>d</td>\n",
              "      <td>c</td>\n",
              "      <td>21810.0</td>\n",
              "      <td>9.0</td>\n",
              "      <td>2012.0</td>\n",
              "      <td>0</td>\n",
              "      <td>0.0</td>\n",
              "      <td>0.0</td>\n",
              "      <td>Jan,Apr,Jul,Oct</td>\n",
              "    </tr>\n",
              "    <tr>\n",
              "      <th>1</th>\n",
              "      <td>1</td>\n",
              "      <td>23</td>\n",
              "      <td>6</td>\n",
              "      <td>868</td>\n",
              "      <td>3</td>\n",
              "      <td>6/3/2015</td>\n",
              "      <td>13500.0</td>\n",
              "      <td>816.0</td>\n",
              "      <td>1</td>\n",
              "      <td>1</td>\n",
              "      <td>0.0</td>\n",
              "      <td>0</td>\n",
              "      <td>868</td>\n",
              "      <td>d</td>\n",
              "      <td>c</td>\n",
              "      <td>1360.0</td>\n",
              "      <td>8.0</td>\n",
              "      <td>2005.0</td>\n",
              "      <td>1</td>\n",
              "      <td>10.0</td>\n",
              "      <td>2014.0</td>\n",
              "      <td>Jan,Apr,Jul,Oct</td>\n",
              "    </tr>\n",
              "    <tr>\n",
              "      <th>2</th>\n",
              "      <td>1</td>\n",
              "      <td>23</td>\n",
              "      <td>6</td>\n",
              "      <td>869</td>\n",
              "      <td>3</td>\n",
              "      <td>6/3/2015</td>\n",
              "      <td>7007.0</td>\n",
              "      <td>932.0</td>\n",
              "      <td>1</td>\n",
              "      <td>1</td>\n",
              "      <td>0.0</td>\n",
              "      <td>0</td>\n",
              "      <td>869</td>\n",
              "      <td>c</td>\n",
              "      <td>a</td>\n",
              "      <td>230.0</td>\n",
              "      <td>10.0</td>\n",
              "      <td>2001.0</td>\n",
              "      <td>1</td>\n",
              "      <td>14.0</td>\n",
              "      <td>2011.0</td>\n",
              "      <td>Jan,Apr,Jul,Oct</td>\n",
              "    </tr>\n",
              "    <tr>\n",
              "      <th>3</th>\n",
              "      <td>1</td>\n",
              "      <td>23</td>\n",
              "      <td>6</td>\n",
              "      <td>870</td>\n",
              "      <td>3</td>\n",
              "      <td>6/3/2015</td>\n",
              "      <td>7911.0</td>\n",
              "      <td>971.0</td>\n",
              "      <td>1</td>\n",
              "      <td>1</td>\n",
              "      <td>0.0</td>\n",
              "      <td>0</td>\n",
              "      <td>870</td>\n",
              "      <td>a</td>\n",
              "      <td>a</td>\n",
              "      <td>780.0</td>\n",
              "      <td>4.0</td>\n",
              "      <td>2009.0</td>\n",
              "      <td>0</td>\n",
              "      <td>0.0</td>\n",
              "      <td>0.0</td>\n",
              "      <td>Jan,Apr,Jul,Oct</td>\n",
              "    </tr>\n",
              "    <tr>\n",
              "      <th>4</th>\n",
              "      <td>1</td>\n",
              "      <td>23</td>\n",
              "      <td>6</td>\n",
              "      <td>871</td>\n",
              "      <td>3</td>\n",
              "      <td>6/3/2015</td>\n",
              "      <td>9198.0</td>\n",
              "      <td>678.0</td>\n",
              "      <td>1</td>\n",
              "      <td>1</td>\n",
              "      <td>0.0</td>\n",
              "      <td>0</td>\n",
              "      <td>871</td>\n",
              "      <td>d</td>\n",
              "      <td>c</td>\n",
              "      <td>10620.0</td>\n",
              "      <td>0.0</td>\n",
              "      <td>0.0</td>\n",
              "      <td>0</td>\n",
              "      <td>0.0</td>\n",
              "      <td>0.0</td>\n",
              "      <td>Jan,Apr,Jul,Oct</td>\n",
              "    </tr>\n",
              "    <tr>\n",
              "      <th>...</th>\n",
              "      <td>...</td>\n",
              "      <td>...</td>\n",
              "      <td>...</td>\n",
              "      <td>...</td>\n",
              "      <td>...</td>\n",
              "      <td>...</td>\n",
              "      <td>...</td>\n",
              "      <td>...</td>\n",
              "      <td>...</td>\n",
              "      <td>...</td>\n",
              "      <td>...</td>\n",
              "      <td>...</td>\n",
              "      <td>...</td>\n",
              "      <td>...</td>\n",
              "      <td>...</td>\n",
              "      <td>...</td>\n",
              "      <td>...</td>\n",
              "      <td>...</td>\n",
              "      <td>...</td>\n",
              "      <td>...</td>\n",
              "      <td>...</td>\n",
              "      <td>...</td>\n",
              "    </tr>\n",
              "    <tr>\n",
              "      <th>1017204</th>\n",
              "      <td>1</td>\n",
              "      <td>23</td>\n",
              "      <td>6</td>\n",
              "      <td>862</td>\n",
              "      <td>3</td>\n",
              "      <td>6/3/2015</td>\n",
              "      <td>10053.0</td>\n",
              "      <td>1227.0</td>\n",
              "      <td>1</td>\n",
              "      <td>1</td>\n",
              "      <td>0.0</td>\n",
              "      <td>0</td>\n",
              "      <td>862</td>\n",
              "      <td>a</td>\n",
              "      <td>c</td>\n",
              "      <td>2840.0</td>\n",
              "      <td>3.0</td>\n",
              "      <td>2010.0</td>\n",
              "      <td>1</td>\n",
              "      <td>14.0</td>\n",
              "      <td>2011.0</td>\n",
              "      <td>Jan,Apr,Jul,Oct</td>\n",
              "    </tr>\n",
              "    <tr>\n",
              "      <th>1017205</th>\n",
              "      <td>1</td>\n",
              "      <td>23</td>\n",
              "      <td>6</td>\n",
              "      <td>863</td>\n",
              "      <td>3</td>\n",
              "      <td>6/3/2015</td>\n",
              "      <td>8949.0</td>\n",
              "      <td>1043.0</td>\n",
              "      <td>1</td>\n",
              "      <td>1</td>\n",
              "      <td>0.0</td>\n",
              "      <td>0</td>\n",
              "      <td>863</td>\n",
              "      <td>a</td>\n",
              "      <td>c</td>\n",
              "      <td>21370.0</td>\n",
              "      <td>11.0</td>\n",
              "      <td>2010.0</td>\n",
              "      <td>0</td>\n",
              "      <td>0.0</td>\n",
              "      <td>0.0</td>\n",
              "      <td>Jan,Apr,Jul,Oct</td>\n",
              "    </tr>\n",
              "    <tr>\n",
              "      <th>1017206</th>\n",
              "      <td>1</td>\n",
              "      <td>23</td>\n",
              "      <td>6</td>\n",
              "      <td>864</td>\n",
              "      <td>3</td>\n",
              "      <td>6/3/2015</td>\n",
              "      <td>6076.0</td>\n",
              "      <td>780.0</td>\n",
              "      <td>1</td>\n",
              "      <td>1</td>\n",
              "      <td>0.0</td>\n",
              "      <td>1</td>\n",
              "      <td>864</td>\n",
              "      <td>a</td>\n",
              "      <td>a</td>\n",
              "      <td>1020.0</td>\n",
              "      <td>10.0</td>\n",
              "      <td>2012.0</td>\n",
              "      <td>1</td>\n",
              "      <td>45.0</td>\n",
              "      <td>2009.0</td>\n",
              "      <td>Feb,May,Aug,Nov</td>\n",
              "    </tr>\n",
              "    <tr>\n",
              "      <th>1017207</th>\n",
              "      <td>1</td>\n",
              "      <td>23</td>\n",
              "      <td>6</td>\n",
              "      <td>865</td>\n",
              "      <td>3</td>\n",
              "      <td>6/3/2015</td>\n",
              "      <td>11384.0</td>\n",
              "      <td>817.0</td>\n",
              "      <td>1</td>\n",
              "      <td>1</td>\n",
              "      <td>0.0</td>\n",
              "      <td>0</td>\n",
              "      <td>865</td>\n",
              "      <td>d</td>\n",
              "      <td>c</td>\n",
              "      <td>2640.0</td>\n",
              "      <td>0.0</td>\n",
              "      <td>0.0</td>\n",
              "      <td>0</td>\n",
              "      <td>0.0</td>\n",
              "      <td>0.0</td>\n",
              "      <td>Jan,Apr,Jul,Oct</td>\n",
              "    </tr>\n",
              "    <tr>\n",
              "      <th>1017208</th>\n",
              "      <td>1</td>\n",
              "      <td>23</td>\n",
              "      <td>6</td>\n",
              "      <td>866</td>\n",
              "      <td>3</td>\n",
              "      <td>6/3/2015</td>\n",
              "      <td>8937.0</td>\n",
              "      <td>608.0</td>\n",
              "      <td>1</td>\n",
              "      <td>1</td>\n",
              "      <td>0.0</td>\n",
              "      <td>0</td>\n",
              "      <td>866</td>\n",
              "      <td>d</td>\n",
              "      <td>a</td>\n",
              "      <td>9680.0</td>\n",
              "      <td>0.0</td>\n",
              "      <td>0.0</td>\n",
              "      <td>1</td>\n",
              "      <td>5.0</td>\n",
              "      <td>2013.0</td>\n",
              "      <td>Feb,May,Aug,Nov</td>\n",
              "    </tr>\n",
              "  </tbody>\n",
              "</table>\n",
              "<p>1017209 rows × 22 columns</p>\n",
              "</div>"
            ],
            "text/plain": [
              "         Weekdays  Weeks  ...  Promo2SinceYear    PromoInterval\n",
              "0               1     23  ...              0.0  Jan,Apr,Jul,Oct\n",
              "1               1     23  ...           2014.0  Jan,Apr,Jul,Oct\n",
              "2               1     23  ...           2011.0  Jan,Apr,Jul,Oct\n",
              "3               1     23  ...              0.0  Jan,Apr,Jul,Oct\n",
              "4               1     23  ...              0.0  Jan,Apr,Jul,Oct\n",
              "...           ...    ...  ...              ...              ...\n",
              "1017204         1     23  ...           2011.0  Jan,Apr,Jul,Oct\n",
              "1017205         1     23  ...              0.0  Jan,Apr,Jul,Oct\n",
              "1017206         1     23  ...           2009.0  Feb,May,Aug,Nov\n",
              "1017207         1     23  ...              0.0  Jan,Apr,Jul,Oct\n",
              "1017208         1     23  ...           2013.0  Feb,May,Aug,Nov\n",
              "\n",
              "[1017209 rows x 22 columns]"
            ]
          },
          "metadata": {
            "tags": []
          },
          "execution_count": 42
        }
>>>>>>> 3dc444e45122a7b3a50274e46831a1923895dcd8:notebook/Sales_prediction.ipynb
      ]
     },
     "execution_count": 110,
     "metadata": {},
     "output_type": "execute_result"
    }
   ],
   "source": [
    "train_data.head()"
   ]
  },
  {
   "cell_type": "markdown",
   "metadata": {
    "colab_type": "text",
    "id": "L_0OEoLpFZ6Z"
   },
   "source": [
    "1.4 **Data Scaling and Data Encoding**"
   ]
  },
  {
   "cell_type": "code",
   "execution_count": 111,
   "metadata": {
    "colab": {
     "base_uri": "https://localhost:8080/",
     "height": 444
    },
    "colab_type": "code",
    "id": "7CUCtWYIFly4",
    "outputId": "2af2c1eb-ec3c-450e-8ff2-0e0bbee52645"
   },
   "outputs": [
    {
<<<<<<< HEAD:scripts/Sales_prediction.ipynb
     "data": {
      "text/plain": [
       "Weekdays                  int64\n",
       "Weeks                     int64\n",
       "Months                    int64\n",
       "Store                     int64\n",
       "DayOfWeek                 int64\n",
       "Sales                   float64\n",
       "Customers               float64\n",
       "Open                      int64\n",
       "Promo                     int64\n",
       "StateHoliday            float64\n",
       "SchoolHoliday             int64\n",
       "Store-1                   int64\n",
       "StoreType                object\n",
       "Assortment               object\n",
       "CompetitionDistance     float64\n",
       "Promo2                    int64\n",
       "Promo2SinceWeek         float64\n",
       "Promo2SinceYear         float64\n",
       "PromoInterval            object\n",
       "SalesperCustomer        float64\n",
       "Year                      int64\n",
       "CompetitionOpenSince    float64\n",
       "dtype: object"
      ]
     },
     "execution_count": 111,
     "metadata": {},
     "output_type": "execute_result"
    }
   ],
   "source": [
    "train_data.dtypes"
   ]
  },
  {
   "cell_type": "code",
   "execution_count": 112,
   "metadata": {
    "colab": {},
    "colab_type": "code",
    "id": "S1U8Ry3TGfIP"
   },
   "outputs": [
    {
     "data": {
      "text/html": [
       "<div>\n",
       "<style scoped>\n",
       "    .dataframe tbody tr th:only-of-type {\n",
       "        vertical-align: middle;\n",
       "    }\n",
       "\n",
       "    .dataframe tbody tr th {\n",
       "        vertical-align: top;\n",
       "    }\n",
       "\n",
       "    .dataframe thead th {\n",
       "        text-align: right;\n",
       "    }\n",
       "</style>\n",
       "<table border=\"1\" class=\"dataframe\">\n",
       "  <thead>\n",
       "    <tr style=\"text-align: right;\">\n",
       "      <th></th>\n",
       "      <th>Weekdays</th>\n",
       "      <th>Weeks</th>\n",
       "      <th>Months</th>\n",
       "      <th>Store</th>\n",
       "      <th>DayOfWeek</th>\n",
       "      <th>Sales</th>\n",
       "      <th>Customers</th>\n",
       "      <th>Open</th>\n",
       "      <th>Promo</th>\n",
       "      <th>StateHoliday</th>\n",
       "      <th>...</th>\n",
       "      <th>CompetitionDistance</th>\n",
       "      <th>Promo2</th>\n",
       "      <th>Promo2SinceWeek</th>\n",
       "      <th>Promo2SinceYear</th>\n",
       "      <th>PromoInterval_Jan,Apr,Jul,Oct</th>\n",
       "      <th>PromoInterval_Mar,Jun,Sept,Dec</th>\n",
       "      <th>PromoInterval_Feb,May,Aug,Nov</th>\n",
       "      <th>SalesperCustomer</th>\n",
       "      <th>Year</th>\n",
       "      <th>CompetitionOpenSince</th>\n",
       "    </tr>\n",
       "  </thead>\n",
       "  <tbody>\n",
       "    <tr>\n",
       "      <th>0</th>\n",
       "      <td>1</td>\n",
       "      <td>23</td>\n",
       "      <td>6</td>\n",
       "      <td>867</td>\n",
       "      <td>3</td>\n",
       "      <td>5608.0</td>\n",
       "      <td>469.0</td>\n",
       "      <td>1</td>\n",
       "      <td>1</td>\n",
       "      <td>0.0</td>\n",
       "      <td>...</td>\n",
       "      <td>21810.0</td>\n",
       "      <td>0</td>\n",
       "      <td>0.0</td>\n",
       "      <td>0.0</td>\n",
       "      <td>1</td>\n",
       "      <td>0</td>\n",
       "      <td>0</td>\n",
       "      <td>11.957356</td>\n",
       "      <td>2015</td>\n",
       "      <td>33.0</td>\n",
       "    </tr>\n",
       "    <tr>\n",
       "      <th>1</th>\n",
       "      <td>1</td>\n",
       "      <td>23</td>\n",
       "      <td>6</td>\n",
       "      <td>868</td>\n",
       "      <td>3</td>\n",
       "      <td>13500.0</td>\n",
       "      <td>816.0</td>\n",
       "      <td>1</td>\n",
       "      <td>1</td>\n",
       "      <td>0.0</td>\n",
       "      <td>...</td>\n",
       "      <td>1360.0</td>\n",
       "      <td>1</td>\n",
       "      <td>10.0</td>\n",
       "      <td>2014.0</td>\n",
       "      <td>1</td>\n",
       "      <td>0</td>\n",
       "      <td>0</td>\n",
       "      <td>16.544118</td>\n",
       "      <td>2015</td>\n",
       "      <td>118.0</td>\n",
       "    </tr>\n",
       "    <tr>\n",
       "      <th>2</th>\n",
       "      <td>1</td>\n",
       "      <td>23</td>\n",
       "      <td>6</td>\n",
       "      <td>869</td>\n",
       "      <td>3</td>\n",
       "      <td>7007.0</td>\n",
       "      <td>932.0</td>\n",
       "      <td>1</td>\n",
       "      <td>1</td>\n",
       "      <td>0.0</td>\n",
       "      <td>...</td>\n",
       "      <td>230.0</td>\n",
       "      <td>1</td>\n",
       "      <td>14.0</td>\n",
       "      <td>2011.0</td>\n",
       "      <td>1</td>\n",
       "      <td>0</td>\n",
       "      <td>0</td>\n",
       "      <td>7.518240</td>\n",
       "      <td>2015</td>\n",
       "      <td>164.0</td>\n",
       "    </tr>\n",
       "    <tr>\n",
       "      <th>3</th>\n",
       "      <td>1</td>\n",
       "      <td>23</td>\n",
       "      <td>6</td>\n",
       "      <td>870</td>\n",
       "      <td>3</td>\n",
       "      <td>7911.0</td>\n",
       "      <td>971.0</td>\n",
       "      <td>1</td>\n",
       "      <td>1</td>\n",
       "      <td>0.0</td>\n",
       "      <td>...</td>\n",
       "      <td>780.0</td>\n",
       "      <td>0</td>\n",
       "      <td>0.0</td>\n",
       "      <td>0.0</td>\n",
       "      <td>1</td>\n",
       "      <td>0</td>\n",
       "      <td>0</td>\n",
       "      <td>8.147271</td>\n",
       "      <td>2015</td>\n",
       "      <td>74.0</td>\n",
       "    </tr>\n",
       "    <tr>\n",
       "      <th>4</th>\n",
       "      <td>1</td>\n",
       "      <td>23</td>\n",
       "      <td>6</td>\n",
       "      <td>871</td>\n",
       "      <td>3</td>\n",
       "      <td>9198.0</td>\n",
       "      <td>678.0</td>\n",
       "      <td>1</td>\n",
       "      <td>1</td>\n",
       "      <td>0.0</td>\n",
       "      <td>...</td>\n",
       "      <td>10620.0</td>\n",
       "      <td>0</td>\n",
       "      <td>0.0</td>\n",
       "      <td>0.0</td>\n",
       "      <td>1</td>\n",
       "      <td>0</td>\n",
       "      <td>0</td>\n",
       "      <td>13.566372</td>\n",
       "      <td>2015</td>\n",
       "      <td>0.0</td>\n",
       "    </tr>\n",
       "  </tbody>\n",
       "</table>\n",
       "<p>5 rows × 29 columns</p>\n",
       "</div>"
      ],
      "text/plain": [
       "   Weekdays  Weeks  Months  Store  DayOfWeek    Sales  Customers  Open  Promo  \\\n",
       "0         1     23       6    867          3   5608.0      469.0     1      1   \n",
       "1         1     23       6    868          3  13500.0      816.0     1      1   \n",
       "2         1     23       6    869          3   7007.0      932.0     1      1   \n",
       "3         1     23       6    870          3   7911.0      971.0     1      1   \n",
       "4         1     23       6    871          3   9198.0      678.0     1      1   \n",
       "\n",
       "   StateHoliday  ...  CompetitionDistance  Promo2  Promo2SinceWeek  \\\n",
       "0           0.0  ...              21810.0       0              0.0   \n",
       "1           0.0  ...               1360.0       1             10.0   \n",
       "2           0.0  ...                230.0       1             14.0   \n",
       "3           0.0  ...                780.0       0              0.0   \n",
       "4           0.0  ...              10620.0       0              0.0   \n",
       "\n",
       "   Promo2SinceYear  PromoInterval_Jan,Apr,Jul,Oct  \\\n",
       "0              0.0                              1   \n",
       "1           2014.0                              1   \n",
       "2           2011.0                              1   \n",
       "3              0.0                              1   \n",
       "4              0.0                              1   \n",
       "\n",
       "   PromoInterval_Mar,Jun,Sept,Dec  PromoInterval_Feb,May,Aug,Nov  \\\n",
       "0                               0                              0   \n",
       "1                               0                              0   \n",
       "2                               0                              0   \n",
       "3                               0                              0   \n",
       "4                               0                              0   \n",
       "\n",
       "   SalesperCustomer  Year  CompetitionOpenSince  \n",
       "0         11.957356  2015                  33.0  \n",
       "1         16.544118  2015                 118.0  \n",
       "2          7.518240  2015                 164.0  \n",
       "3          8.147271  2015                  74.0  \n",
       "4         13.566372  2015                   0.0  \n",
       "\n",
       "[5 rows x 29 columns]"
      ]
     },
     "execution_count": 112,
     "metadata": {},
     "output_type": "execute_result"
    }
   ],
   "source": [
    "# create an object of the OneHotEncoder\n",
    "OHE = ce.OneHotEncoder(cols=['StoreType','Assortment','PromoInterval'],use_cat_names=True)\n",
    "# encode the categorical variables\n",
    "train_data = OHE.fit_transform(train_data)\n",
    "\n",
    "train_data.head()"
   ]
  },
  {
   "cell_type": "markdown",
   "metadata": {
    "colab_type": "text",
    "id": "-FCg9_wZHaOC"
   },
   "source": [
    "So far we have taken care of the missing values and the categorical (string) variables in the data. Next we will work with the continuous variables. Often the continuous variables in the data have different scales, for instance, a variable V1 can have a range from 0 to 1 while another variable can have a range from 0-1000.\n",
    "\n",
    "Based on the type of model you are building, you will have to normalize the data in such a way that the range of all the variables is almost similar. You can do this easily in python using the StandardScaler function.\n",
    "For this project we will be using Random Forest Regressor"
   ]
  },
  {
   "cell_type": "markdown",
   "metadata": {
    "colab_type": "text",
    "id": "QNKGZ2QqBlB_"
   },
   "source": [
    "**2. Building models with sklearn pipelines**"
   ]
  },
  {
   "cell_type": "markdown",
   "metadata": {
    "colab": {},
    "colab_type": "code",
    "id": "KrX24uvpBy9k"
   },
   "source": [
    "Defining independent and dependent variables\n",
    "let independent/Features = X\n",
    "let dependent/Target = Y\n",
    "SInce we want to predict store sales, the target/ dependent variable is sales. For features we remove all columns that are strongly correlated to sales. From correlation analysis, we see that \"customers\" and \"salespercustomer\"  have a strong positive correlation with sale. There we do away with these columns."
   ]
  },
  {
   "cell_type": "code",
   "execution_count": 125,
   "metadata": {},
   "outputs": [],
   "source": [
    "X = train_data.drop(['Customers', 'Sales', 'SalesperCustomer'], axis = 1)"
   ]
  },
  {
   "cell_type": "code",
   "execution_count": 126,
   "metadata": {},
   "outputs": [
    {
     "data": {
      "text/html": [
       "<div>\n",
       "<style scoped>\n",
       "    .dataframe tbody tr th:only-of-type {\n",
       "        vertical-align: middle;\n",
       "    }\n",
       "\n",
       "    .dataframe tbody tr th {\n",
       "        vertical-align: top;\n",
       "    }\n",
       "\n",
       "    .dataframe thead th {\n",
       "        text-align: right;\n",
       "    }\n",
       "</style>\n",
       "<table border=\"1\" class=\"dataframe\">\n",
       "  <thead>\n",
       "    <tr style=\"text-align: right;\">\n",
       "      <th></th>\n",
       "      <th>Weekdays</th>\n",
       "      <th>Weeks</th>\n",
       "      <th>Months</th>\n",
       "      <th>Store</th>\n",
       "      <th>DayOfWeek</th>\n",
       "      <th>Open</th>\n",
       "      <th>Promo</th>\n",
       "      <th>StateHoliday</th>\n",
       "      <th>SchoolHoliday</th>\n",
       "      <th>Store-1</th>\n",
       "      <th>...</th>\n",
       "      <th>Assortment_b</th>\n",
       "      <th>CompetitionDistance</th>\n",
       "      <th>Promo2</th>\n",
       "      <th>Promo2SinceWeek</th>\n",
       "      <th>Promo2SinceYear</th>\n",
       "      <th>PromoInterval_Jan,Apr,Jul,Oct</th>\n",
       "      <th>PromoInterval_Mar,Jun,Sept,Dec</th>\n",
       "      <th>PromoInterval_Feb,May,Aug,Nov</th>\n",
       "      <th>Year</th>\n",
       "      <th>CompetitionOpenSince</th>\n",
       "    </tr>\n",
       "  </thead>\n",
       "  <tbody>\n",
       "    <tr>\n",
       "      <th>0</th>\n",
       "      <td>1</td>\n",
       "      <td>23</td>\n",
       "      <td>6</td>\n",
       "      <td>867</td>\n",
       "      <td>3</td>\n",
       "      <td>1</td>\n",
       "      <td>1</td>\n",
       "      <td>0.0</td>\n",
       "      <td>0</td>\n",
       "      <td>867</td>\n",
       "      <td>...</td>\n",
       "      <td>0</td>\n",
       "      <td>21810.0</td>\n",
       "      <td>0</td>\n",
       "      <td>0.0</td>\n",
       "      <td>0.0</td>\n",
       "      <td>1</td>\n",
       "      <td>0</td>\n",
       "      <td>0</td>\n",
       "      <td>2015</td>\n",
       "      <td>33.0</td>\n",
       "    </tr>\n",
       "    <tr>\n",
       "      <th>1</th>\n",
       "      <td>1</td>\n",
       "      <td>23</td>\n",
       "      <td>6</td>\n",
       "      <td>868</td>\n",
       "      <td>3</td>\n",
       "      <td>1</td>\n",
       "      <td>1</td>\n",
       "      <td>0.0</td>\n",
       "      <td>0</td>\n",
       "      <td>868</td>\n",
       "      <td>...</td>\n",
       "      <td>0</td>\n",
       "      <td>1360.0</td>\n",
       "      <td>1</td>\n",
       "      <td>10.0</td>\n",
       "      <td>2014.0</td>\n",
       "      <td>1</td>\n",
       "      <td>0</td>\n",
       "      <td>0</td>\n",
       "      <td>2015</td>\n",
       "      <td>118.0</td>\n",
       "    </tr>\n",
       "    <tr>\n",
       "      <th>2</th>\n",
       "      <td>1</td>\n",
       "      <td>23</td>\n",
       "      <td>6</td>\n",
       "      <td>869</td>\n",
       "      <td>3</td>\n",
       "      <td>1</td>\n",
       "      <td>1</td>\n",
       "      <td>0.0</td>\n",
       "      <td>0</td>\n",
       "      <td>869</td>\n",
       "      <td>...</td>\n",
       "      <td>0</td>\n",
       "      <td>230.0</td>\n",
       "      <td>1</td>\n",
       "      <td>14.0</td>\n",
       "      <td>2011.0</td>\n",
       "      <td>1</td>\n",
       "      <td>0</td>\n",
       "      <td>0</td>\n",
       "      <td>2015</td>\n",
       "      <td>164.0</td>\n",
       "    </tr>\n",
       "    <tr>\n",
       "      <th>3</th>\n",
       "      <td>1</td>\n",
       "      <td>23</td>\n",
       "      <td>6</td>\n",
       "      <td>870</td>\n",
       "      <td>3</td>\n",
       "      <td>1</td>\n",
       "      <td>1</td>\n",
       "      <td>0.0</td>\n",
       "      <td>0</td>\n",
       "      <td>870</td>\n",
       "      <td>...</td>\n",
       "      <td>0</td>\n",
       "      <td>780.0</td>\n",
       "      <td>0</td>\n",
       "      <td>0.0</td>\n",
       "      <td>0.0</td>\n",
       "      <td>1</td>\n",
       "      <td>0</td>\n",
       "      <td>0</td>\n",
       "      <td>2015</td>\n",
       "      <td>74.0</td>\n",
       "    </tr>\n",
       "    <tr>\n",
       "      <th>4</th>\n",
       "      <td>1</td>\n",
       "      <td>23</td>\n",
       "      <td>6</td>\n",
       "      <td>871</td>\n",
       "      <td>3</td>\n",
       "      <td>1</td>\n",
       "      <td>1</td>\n",
       "      <td>0.0</td>\n",
       "      <td>0</td>\n",
       "      <td>871</td>\n",
       "      <td>...</td>\n",
       "      <td>0</td>\n",
       "      <td>10620.0</td>\n",
       "      <td>0</td>\n",
       "      <td>0.0</td>\n",
       "      <td>0.0</td>\n",
       "      <td>1</td>\n",
       "      <td>0</td>\n",
       "      <td>0</td>\n",
       "      <td>2015</td>\n",
       "      <td>0.0</td>\n",
       "    </tr>\n",
       "  </tbody>\n",
       "</table>\n",
       "<p>5 rows × 26 columns</p>\n",
       "</div>"
      ],
      "text/plain": [
       "   Weekdays  Weeks  Months  Store  DayOfWeek  Open  Promo  StateHoliday  \\\n",
       "0         1     23       6    867          3     1      1           0.0   \n",
       "1         1     23       6    868          3     1      1           0.0   \n",
       "2         1     23       6    869          3     1      1           0.0   \n",
       "3         1     23       6    870          3     1      1           0.0   \n",
       "4         1     23       6    871          3     1      1           0.0   \n",
       "\n",
       "   SchoolHoliday  Store-1  ...  Assortment_b  CompetitionDistance  Promo2  \\\n",
       "0              0      867  ...             0              21810.0       0   \n",
       "1              0      868  ...             0               1360.0       1   \n",
       "2              0      869  ...             0                230.0       1   \n",
       "3              0      870  ...             0                780.0       0   \n",
       "4              0      871  ...             0              10620.0       0   \n",
       "\n",
       "   Promo2SinceWeek  Promo2SinceYear  PromoInterval_Jan,Apr,Jul,Oct  \\\n",
       "0              0.0              0.0                              1   \n",
       "1             10.0           2014.0                              1   \n",
       "2             14.0           2011.0                              1   \n",
       "3              0.0              0.0                              1   \n",
       "4              0.0              0.0                              1   \n",
       "\n",
       "   PromoInterval_Mar,Jun,Sept,Dec  PromoInterval_Feb,May,Aug,Nov  Year  \\\n",
       "0                               0                              0  2015   \n",
       "1                               0                              0  2015   \n",
       "2                               0                              0  2015   \n",
       "3                               0                              0  2015   \n",
       "4                               0                              0  2015   \n",
       "\n",
       "   CompetitionOpenSince  \n",
       "0                  33.0  \n",
       "1                 118.0  \n",
       "2                 164.0  \n",
       "3                  74.0  \n",
       "4                   0.0  \n",
       "\n",
       "[5 rows x 26 columns]"
=======
      "cell_type": "code",
      "metadata": {
        "id": "PJQ9ySUEyIWj",
        "colab_type": "code",
        "colab": {}
      },
      "source": [
        "#Adding salespercustomer column\n",
        "train_data['SalesperCustomer']=train_data['Sales']/train_data['Customers']"
      ],
      "execution_count": 43,
      "outputs": []
    },
    {
      "cell_type": "code",
      "metadata": {
        "id": "B3p96tZDBB4C",
        "colab_type": "code",
        "colab": {}
      },
      "source": [
        "train_data[\"Date\"]=pd.to_datetime(train_data[\"Date\"])\n",
        "train_data['Year']=train_data.Date.dt.year\n",
        "train_data['Day']=train_data.Date.dt.day"
      ],
      "execution_count": 44,
      "outputs": []
    },
    {
      "cell_type": "code",
      "metadata": {
        "id": "A-mbeVgWxbyG",
        "colab_type": "code",
        "colab": {}
      },
      "source": [
        "#Now we delete the date column since we have its year, months and day\n",
        "del train_data[\"Date\"]"
      ],
      "execution_count": 45,
      "outputs": []
    },
    {
      "cell_type": "code",
      "metadata": {
        "id": "544i848SBEAr",
        "colab_type": "code",
        "colab": {
          "base_uri": "https://localhost:8080/",
          "height": 141
        },
        "outputId": "7ea0f4f4-6441-4116-8e94-07d17b73b311"
      },
      "source": [
        "train_data.columns"
      ],
      "execution_count": 46,
      "outputs": [
        {
          "output_type": "execute_result",
          "data": {
            "text/plain": [
              "Index(['Weekdays', 'Weeks', 'Months', 'Store', 'DayOfWeek', 'Sales',\n",
              "       'Customers', 'Open', 'Promo', 'StateHoliday', 'SchoolHoliday',\n",
              "       'Store-1', 'StoreType', 'Assortment', 'CompetitionDistance',\n",
              "       'CompetitionOpenSinceMonth', 'CompetitionOpenSinceYear', 'Promo2',\n",
              "       'Promo2SinceWeek', 'Promo2SinceYear', 'PromoInterval',\n",
              "       'SalesperCustomer', 'Year', 'Day'],\n",
              "      dtype='object')"
            ]
          },
          "metadata": {
            "tags": []
          },
          "execution_count": 46
        }
>>>>>>> 3dc444e45122a7b3a50274e46831a1923895dcd8:notebook/Sales_prediction.ipynb
      ]
     },
     "execution_count": 126,
     "metadata": {},
     "output_type": "execute_result"
    }
   ],
   "source": [
    "X.head()"
   ]
  },
  {
   "cell_type": "code",
   "execution_count": 127,
   "metadata": {},
   "outputs": [],
   "source": [
    "y = train_data.Sales"
   ]
  },
  {
   "cell_type": "code",
   "execution_count": 128,
   "metadata": {},
   "outputs": [
    {
<<<<<<< HEAD:scripts/Sales_prediction.ipynb
     "name": "stdout",
     "output_type": "stream",
     "text": [
      "Training and testing split was successful.\n"
     ]
    }
   ],
   "source": [
    "X_train, X_test, y_train, y_test = train_test_split(X, y, test_size=0.20, random_state=15)\n",
    "print (\"Training and testing split was successful.\")"
   ]
  },
  {
   "cell_type": "markdown",
   "metadata": {},
   "source": [
    "* Feature Scaling "
   ]
  },
  {
   "cell_type": "code",
   "execution_count": 139,
   "metadata": {},
   "outputs": [],
   "source": [
    "# Feature Scaling\n",
    "from sklearn.preprocessing import StandardScaler\n",
    "\n",
    "sc = StandardScaler()\n",
    "X_train = sc.fit_transform(X_train)\n",
    "X_test = sc.transform(X_test)"
   ]
  },
  {
   "cell_type": "code",
   "execution_count": 145,
   "metadata": {},
   "outputs": [],
   "source": [
    "def rmspe(y, result):\n",
    "    rmspe = np.sqrt(np.mean( (y - result)**2 ))\n",
    "    return rmspe"
   ]
  },
  {
   "cell_type": "code",
   "execution_count": 144,
   "metadata": {},
   "outputs": [
    {
     "data": {
      "text/plain": [
       "RandomForestRegressor(bootstrap=True, criterion='mse', max_depth=None,\n",
       "                      max_features='auto', max_leaf_nodes=None,\n",
       "                      min_impurity_decrease=0.0, min_impurity_split=None,\n",
       "                      min_samples_leaf=1, min_samples_split=2,\n",
       "                      min_weight_fraction_leaf=0.0, n_estimators=10,\n",
       "                      n_jobs=None, oob_score=False, random_state=0, verbose=0,\n",
       "                      warm_start=False)"
      ]
     },
     "execution_count": 144,
     "metadata": {},
     "output_type": "execute_result"
    }
   ],
   "source": [
    "from sklearn.ensemble import RandomForestRegressor\n",
    "regressor = RandomForestRegressor(n_estimators=10, \n",
    "                             criterion='mse',random_state=0)\n",
    "regressor.fit(X_train, y_train)"
   ]
  },
  {
   "cell_type": "code",
   "execution_count": 141,
   "metadata": {},
   "outputs": [
    {
     "name": "stdout",
     "output_type": "stream",
     "text": [
      "   sales prediction\n",
      "0       7392.892571\n",
      "1          0.000000\n",
      "2       5319.976422\n",
      "3       8186.503743\n",
      "4       6934.789918\n"
     ]
    },
    {
     "data": {
      "text/plain": [
       "991178    5333.0\n",
       "4941         0.0\n",
       "493413    3911.0\n",
       "264865    4861.0\n",
       "737476    5209.0\n",
       "Name: Sales, dtype: float64"
      ]
     },
     "execution_count": 141,
     "metadata": {},
     "output_type": "execute_result"
    }
   ],
   "source": [
    "y_pred = regressor.predict(X_test)\n",
    "y_pred_l = pd.DataFrame(y_pred, columns=[\"sales prediction\"])\n",
    "print(y_pred_l.head())\n",
    "y_test.head()"
   ]
  },
  {
   "cell_type": "code",
   "execution_count": 143,
   "metadata": {},
   "outputs": [
    {
     "name": "stdout",
     "output_type": "stream",
     "text": [
      "Mean Absolute Error: 1419.1389094886242\n",
      "Mean Squared Error: 3875376.0009073634\n",
      "Root Mean Squared Error: 1968.5974705122842\n"
     ]
=======
      "cell_type": "code",
      "metadata": {
        "id": "iG6JQsKu0Qpe",
        "colab_type": "code",
        "colab": {}
      },
      "source": [
        "train_data['CompetitionOpenSince'] = np.where((train_data['CompetitionOpenSinceMonth']==0) & (train_data['CompetitionOpenSinceYear']==0) , 0,(train_data.Months - train_data.CompetitionOpenSinceMonth) + \n",
        "                                       (12 * (train_data.Year - train_data.CompetitionOpenSinceYear)) )\n"
      ],
      "execution_count": 47,
      "outputs": []
    },
    {
      "cell_type": "code",
      "metadata": {
        "id": "RoI9AN5H1np9",
        "colab_type": "code",
        "colab": {}
      },
      "source": [
        "#now that CompetitionOpenSince is created \n",
        "#we can get rid of `CompetitionOpenSinceYear` and `CompeitionOpenSinceMonth`\n",
        "del train_data['CompetitionOpenSinceYear']\n",
        "del train_data['CompetitionOpenSinceMonth']"
      ],
      "execution_count": 48,
      "outputs": []
    },
    {
      "cell_type": "code",
      "metadata": {
        "id": "lvDQ17Gu0vXI",
        "colab_type": "code",
        "colab": {
          "base_uri": "https://localhost:8080/",
          "height": 436
        },
        "outputId": "8899f164-46c9-4ed8-e7af-8aa391e2446e"
      },
      "source": [
        "train_data"
      ],
      "execution_count": 49,
      "outputs": [
        {
          "output_type": "execute_result",
          "data": {
            "text/html": [
              "<div>\n",
              "<style scoped>\n",
              "    .dataframe tbody tr th:only-of-type {\n",
              "        vertical-align: middle;\n",
              "    }\n",
              "\n",
              "    .dataframe tbody tr th {\n",
              "        vertical-align: top;\n",
              "    }\n",
              "\n",
              "    .dataframe thead th {\n",
              "        text-align: right;\n",
              "    }\n",
              "</style>\n",
              "<table border=\"1\" class=\"dataframe\">\n",
              "  <thead>\n",
              "    <tr style=\"text-align: right;\">\n",
              "      <th></th>\n",
              "      <th>Weekdays</th>\n",
              "      <th>Weeks</th>\n",
              "      <th>Months</th>\n",
              "      <th>Store</th>\n",
              "      <th>DayOfWeek</th>\n",
              "      <th>Sales</th>\n",
              "      <th>Customers</th>\n",
              "      <th>Open</th>\n",
              "      <th>Promo</th>\n",
              "      <th>StateHoliday</th>\n",
              "      <th>SchoolHoliday</th>\n",
              "      <th>Store-1</th>\n",
              "      <th>StoreType</th>\n",
              "      <th>Assortment</th>\n",
              "      <th>CompetitionDistance</th>\n",
              "      <th>Promo2</th>\n",
              "      <th>Promo2SinceWeek</th>\n",
              "      <th>Promo2SinceYear</th>\n",
              "      <th>PromoInterval</th>\n",
              "      <th>SalesperCustomer</th>\n",
              "      <th>Year</th>\n",
              "      <th>Day</th>\n",
              "      <th>CompetitionOpenSince</th>\n",
              "    </tr>\n",
              "  </thead>\n",
              "  <tbody>\n",
              "    <tr>\n",
              "      <th>0</th>\n",
              "      <td>1</td>\n",
              "      <td>23</td>\n",
              "      <td>6</td>\n",
              "      <td>867</td>\n",
              "      <td>3</td>\n",
              "      <td>5608.0</td>\n",
              "      <td>469.0</td>\n",
              "      <td>1</td>\n",
              "      <td>1</td>\n",
              "      <td>0.0</td>\n",
              "      <td>0</td>\n",
              "      <td>867</td>\n",
              "      <td>d</td>\n",
              "      <td>c</td>\n",
              "      <td>21810.0</td>\n",
              "      <td>0</td>\n",
              "      <td>0.0</td>\n",
              "      <td>0.0</td>\n",
              "      <td>Jan,Apr,Jul,Oct</td>\n",
              "      <td>11.957356</td>\n",
              "      <td>2015</td>\n",
              "      <td>3</td>\n",
              "      <td>33.0</td>\n",
              "    </tr>\n",
              "    <tr>\n",
              "      <th>1</th>\n",
              "      <td>1</td>\n",
              "      <td>23</td>\n",
              "      <td>6</td>\n",
              "      <td>868</td>\n",
              "      <td>3</td>\n",
              "      <td>13500.0</td>\n",
              "      <td>816.0</td>\n",
              "      <td>1</td>\n",
              "      <td>1</td>\n",
              "      <td>0.0</td>\n",
              "      <td>0</td>\n",
              "      <td>868</td>\n",
              "      <td>d</td>\n",
              "      <td>c</td>\n",
              "      <td>1360.0</td>\n",
              "      <td>1</td>\n",
              "      <td>10.0</td>\n",
              "      <td>2014.0</td>\n",
              "      <td>Jan,Apr,Jul,Oct</td>\n",
              "      <td>16.544118</td>\n",
              "      <td>2015</td>\n",
              "      <td>3</td>\n",
              "      <td>118.0</td>\n",
              "    </tr>\n",
              "    <tr>\n",
              "      <th>2</th>\n",
              "      <td>1</td>\n",
              "      <td>23</td>\n",
              "      <td>6</td>\n",
              "      <td>869</td>\n",
              "      <td>3</td>\n",
              "      <td>7007.0</td>\n",
              "      <td>932.0</td>\n",
              "      <td>1</td>\n",
              "      <td>1</td>\n",
              "      <td>0.0</td>\n",
              "      <td>0</td>\n",
              "      <td>869</td>\n",
              "      <td>c</td>\n",
              "      <td>a</td>\n",
              "      <td>230.0</td>\n",
              "      <td>1</td>\n",
              "      <td>14.0</td>\n",
              "      <td>2011.0</td>\n",
              "      <td>Jan,Apr,Jul,Oct</td>\n",
              "      <td>7.518240</td>\n",
              "      <td>2015</td>\n",
              "      <td>3</td>\n",
              "      <td>164.0</td>\n",
              "    </tr>\n",
              "    <tr>\n",
              "      <th>3</th>\n",
              "      <td>1</td>\n",
              "      <td>23</td>\n",
              "      <td>6</td>\n",
              "      <td>870</td>\n",
              "      <td>3</td>\n",
              "      <td>7911.0</td>\n",
              "      <td>971.0</td>\n",
              "      <td>1</td>\n",
              "      <td>1</td>\n",
              "      <td>0.0</td>\n",
              "      <td>0</td>\n",
              "      <td>870</td>\n",
              "      <td>a</td>\n",
              "      <td>a</td>\n",
              "      <td>780.0</td>\n",
              "      <td>0</td>\n",
              "      <td>0.0</td>\n",
              "      <td>0.0</td>\n",
              "      <td>Jan,Apr,Jul,Oct</td>\n",
              "      <td>8.147271</td>\n",
              "      <td>2015</td>\n",
              "      <td>3</td>\n",
              "      <td>74.0</td>\n",
              "    </tr>\n",
              "    <tr>\n",
              "      <th>4</th>\n",
              "      <td>1</td>\n",
              "      <td>23</td>\n",
              "      <td>6</td>\n",
              "      <td>871</td>\n",
              "      <td>3</td>\n",
              "      <td>9198.0</td>\n",
              "      <td>678.0</td>\n",
              "      <td>1</td>\n",
              "      <td>1</td>\n",
              "      <td>0.0</td>\n",
              "      <td>0</td>\n",
              "      <td>871</td>\n",
              "      <td>d</td>\n",
              "      <td>c</td>\n",
              "      <td>10620.0</td>\n",
              "      <td>0</td>\n",
              "      <td>0.0</td>\n",
              "      <td>0.0</td>\n",
              "      <td>Jan,Apr,Jul,Oct</td>\n",
              "      <td>13.566372</td>\n",
              "      <td>2015</td>\n",
              "      <td>3</td>\n",
              "      <td>0.0</td>\n",
              "    </tr>\n",
              "    <tr>\n",
              "      <th>...</th>\n",
              "      <td>...</td>\n",
              "      <td>...</td>\n",
              "      <td>...</td>\n",
              "      <td>...</td>\n",
              "      <td>...</td>\n",
              "      <td>...</td>\n",
              "      <td>...</td>\n",
              "      <td>...</td>\n",
              "      <td>...</td>\n",
              "      <td>...</td>\n",
              "      <td>...</td>\n",
              "      <td>...</td>\n",
              "      <td>...</td>\n",
              "      <td>...</td>\n",
              "      <td>...</td>\n",
              "      <td>...</td>\n",
              "      <td>...</td>\n",
              "      <td>...</td>\n",
              "      <td>...</td>\n",
              "      <td>...</td>\n",
              "      <td>...</td>\n",
              "      <td>...</td>\n",
              "      <td>...</td>\n",
              "    </tr>\n",
              "    <tr>\n",
              "      <th>1017204</th>\n",
              "      <td>1</td>\n",
              "      <td>23</td>\n",
              "      <td>6</td>\n",
              "      <td>862</td>\n",
              "      <td>3</td>\n",
              "      <td>10053.0</td>\n",
              "      <td>1227.0</td>\n",
              "      <td>1</td>\n",
              "      <td>1</td>\n",
              "      <td>0.0</td>\n",
              "      <td>0</td>\n",
              "      <td>862</td>\n",
              "      <td>a</td>\n",
              "      <td>c</td>\n",
              "      <td>2840.0</td>\n",
              "      <td>1</td>\n",
              "      <td>14.0</td>\n",
              "      <td>2011.0</td>\n",
              "      <td>Jan,Apr,Jul,Oct</td>\n",
              "      <td>8.193154</td>\n",
              "      <td>2015</td>\n",
              "      <td>3</td>\n",
              "      <td>63.0</td>\n",
              "    </tr>\n",
              "    <tr>\n",
              "      <th>1017205</th>\n",
              "      <td>1</td>\n",
              "      <td>23</td>\n",
              "      <td>6</td>\n",
              "      <td>863</td>\n",
              "      <td>3</td>\n",
              "      <td>8949.0</td>\n",
              "      <td>1043.0</td>\n",
              "      <td>1</td>\n",
              "      <td>1</td>\n",
              "      <td>0.0</td>\n",
              "      <td>0</td>\n",
              "      <td>863</td>\n",
              "      <td>a</td>\n",
              "      <td>c</td>\n",
              "      <td>21370.0</td>\n",
              "      <td>0</td>\n",
              "      <td>0.0</td>\n",
              "      <td>0.0</td>\n",
              "      <td>Jan,Apr,Jul,Oct</td>\n",
              "      <td>8.580058</td>\n",
              "      <td>2015</td>\n",
              "      <td>3</td>\n",
              "      <td>55.0</td>\n",
              "    </tr>\n",
              "    <tr>\n",
              "      <th>1017206</th>\n",
              "      <td>1</td>\n",
              "      <td>23</td>\n",
              "      <td>6</td>\n",
              "      <td>864</td>\n",
              "      <td>3</td>\n",
              "      <td>6076.0</td>\n",
              "      <td>780.0</td>\n",
              "      <td>1</td>\n",
              "      <td>1</td>\n",
              "      <td>0.0</td>\n",
              "      <td>1</td>\n",
              "      <td>864</td>\n",
              "      <td>a</td>\n",
              "      <td>a</td>\n",
              "      <td>1020.0</td>\n",
              "      <td>1</td>\n",
              "      <td>45.0</td>\n",
              "      <td>2009.0</td>\n",
              "      <td>Feb,May,Aug,Nov</td>\n",
              "      <td>7.789744</td>\n",
              "      <td>2015</td>\n",
              "      <td>3</td>\n",
              "      <td>32.0</td>\n",
              "    </tr>\n",
              "    <tr>\n",
              "      <th>1017207</th>\n",
              "      <td>1</td>\n",
              "      <td>23</td>\n",
              "      <td>6</td>\n",
              "      <td>865</td>\n",
              "      <td>3</td>\n",
              "      <td>11384.0</td>\n",
              "      <td>817.0</td>\n",
              "      <td>1</td>\n",
              "      <td>1</td>\n",
              "      <td>0.0</td>\n",
              "      <td>0</td>\n",
              "      <td>865</td>\n",
              "      <td>d</td>\n",
              "      <td>c</td>\n",
              "      <td>2640.0</td>\n",
              "      <td>0</td>\n",
              "      <td>0.0</td>\n",
              "      <td>0.0</td>\n",
              "      <td>Jan,Apr,Jul,Oct</td>\n",
              "      <td>13.933905</td>\n",
              "      <td>2015</td>\n",
              "      <td>3</td>\n",
              "      <td>0.0</td>\n",
              "    </tr>\n",
              "    <tr>\n",
              "      <th>1017208</th>\n",
              "      <td>1</td>\n",
              "      <td>23</td>\n",
              "      <td>6</td>\n",
              "      <td>866</td>\n",
              "      <td>3</td>\n",
              "      <td>8937.0</td>\n",
              "      <td>608.0</td>\n",
              "      <td>1</td>\n",
              "      <td>1</td>\n",
              "      <td>0.0</td>\n",
              "      <td>0</td>\n",
              "      <td>866</td>\n",
              "      <td>d</td>\n",
              "      <td>a</td>\n",
              "      <td>9680.0</td>\n",
              "      <td>1</td>\n",
              "      <td>5.0</td>\n",
              "      <td>2013.0</td>\n",
              "      <td>Feb,May,Aug,Nov</td>\n",
              "      <td>14.699013</td>\n",
              "      <td>2015</td>\n",
              "      <td>3</td>\n",
              "      <td>0.0</td>\n",
              "    </tr>\n",
              "  </tbody>\n",
              "</table>\n",
              "<p>1017209 rows × 23 columns</p>\n",
              "</div>"
            ],
            "text/plain": [
              "         Weekdays  Weeks  Months  ...  Year  Day  CompetitionOpenSince\n",
              "0               1     23       6  ...  2015    3                  33.0\n",
              "1               1     23       6  ...  2015    3                 118.0\n",
              "2               1     23       6  ...  2015    3                 164.0\n",
              "3               1     23       6  ...  2015    3                  74.0\n",
              "4               1     23       6  ...  2015    3                   0.0\n",
              "...           ...    ...     ...  ...   ...  ...                   ...\n",
              "1017204         1     23       6  ...  2015    3                  63.0\n",
              "1017205         1     23       6  ...  2015    3                  55.0\n",
              "1017206         1     23       6  ...  2015    3                  32.0\n",
              "1017207         1     23       6  ...  2015    3                   0.0\n",
              "1017208         1     23       6  ...  2015    3                   0.0\n",
              "\n",
              "[1017209 rows x 23 columns]"
            ]
          },
          "metadata": {
            "tags": []
          },
          "execution_count": 49
        }
      ]
    },
    {
      "cell_type": "markdown",
      "metadata": {
        "id": "QRlBa-681Y0A",
        "colab_type": "text"
      },
      "source": [
        "* I think it's always better when working with decision tree based models to have dummy variables instead of categorical with different levels, because this alters the bias of the algorithm who will favor a higher weight to the categories like 4 and deprioritize levels like 1. And this problem could rise in the variables Assortment and StoreType and PromoInterval. So far those are the codes we have for each variable:\n",
        "\n",
        "* That's why i use the get_dummies function to instead do a binary encoding and prevent this."
      ]
    },
    {
      "cell_type": "code",
      "metadata": {
        "id": "UzX2NhGA1qys",
        "colab_type": "code",
        "colab": {}
      },
      "source": [
        "train_data=pd.get_dummies(train_data, columns=[\"Assortment\", \"StoreType\",\"PromoInterval\"], prefix=[\"is_Assortment\", \"is_StoreType\",\"is_PromoInteval\"])"
      ],
      "execution_count": 50,
      "outputs": []
    },
    {
      "cell_type": "code",
      "metadata": {
        "id": "zd5azwQK2jTc",
        "colab_type": "code",
        "colab": {
          "base_uri": "https://localhost:8080/",
          "height": 436
        },
        "outputId": "434f74da-f59a-45c8-e077-e12722434fec"
      },
      "source": [
        "train_data"
      ],
      "execution_count": 51,
      "outputs": [
        {
          "output_type": "execute_result",
          "data": {
            "text/html": [
              "<div>\n",
              "<style scoped>\n",
              "    .dataframe tbody tr th:only-of-type {\n",
              "        vertical-align: middle;\n",
              "    }\n",
              "\n",
              "    .dataframe tbody tr th {\n",
              "        vertical-align: top;\n",
              "    }\n",
              "\n",
              "    .dataframe thead th {\n",
              "        text-align: right;\n",
              "    }\n",
              "</style>\n",
              "<table border=\"1\" class=\"dataframe\">\n",
              "  <thead>\n",
              "    <tr style=\"text-align: right;\">\n",
              "      <th></th>\n",
              "      <th>Weekdays</th>\n",
              "      <th>Weeks</th>\n",
              "      <th>Months</th>\n",
              "      <th>Store</th>\n",
              "      <th>DayOfWeek</th>\n",
              "      <th>Sales</th>\n",
              "      <th>Customers</th>\n",
              "      <th>Open</th>\n",
              "      <th>Promo</th>\n",
              "      <th>StateHoliday</th>\n",
              "      <th>SchoolHoliday</th>\n",
              "      <th>Store-1</th>\n",
              "      <th>CompetitionDistance</th>\n",
              "      <th>Promo2</th>\n",
              "      <th>Promo2SinceWeek</th>\n",
              "      <th>Promo2SinceYear</th>\n",
              "      <th>SalesperCustomer</th>\n",
              "      <th>Year</th>\n",
              "      <th>Day</th>\n",
              "      <th>CompetitionOpenSince</th>\n",
              "      <th>is_Assortment_a</th>\n",
              "      <th>is_Assortment_b</th>\n",
              "      <th>is_Assortment_c</th>\n",
              "      <th>is_StoreType_a</th>\n",
              "      <th>is_StoreType_b</th>\n",
              "      <th>is_StoreType_c</th>\n",
              "      <th>is_StoreType_d</th>\n",
              "      <th>is_PromoInteval_Feb,May,Aug,Nov</th>\n",
              "      <th>is_PromoInteval_Jan,Apr,Jul,Oct</th>\n",
              "      <th>is_PromoInteval_Mar,Jun,Sept,Dec</th>\n",
              "    </tr>\n",
              "  </thead>\n",
              "  <tbody>\n",
              "    <tr>\n",
              "      <th>0</th>\n",
              "      <td>1</td>\n",
              "      <td>23</td>\n",
              "      <td>6</td>\n",
              "      <td>867</td>\n",
              "      <td>3</td>\n",
              "      <td>5608.0</td>\n",
              "      <td>469.0</td>\n",
              "      <td>1</td>\n",
              "      <td>1</td>\n",
              "      <td>0.0</td>\n",
              "      <td>0</td>\n",
              "      <td>867</td>\n",
              "      <td>21810.0</td>\n",
              "      <td>0</td>\n",
              "      <td>0.0</td>\n",
              "      <td>0.0</td>\n",
              "      <td>11.957356</td>\n",
              "      <td>2015</td>\n",
              "      <td>3</td>\n",
              "      <td>33.0</td>\n",
              "      <td>0</td>\n",
              "      <td>0</td>\n",
              "      <td>1</td>\n",
              "      <td>0</td>\n",
              "      <td>0</td>\n",
              "      <td>0</td>\n",
              "      <td>1</td>\n",
              "      <td>0</td>\n",
              "      <td>1</td>\n",
              "      <td>0</td>\n",
              "    </tr>\n",
              "    <tr>\n",
              "      <th>1</th>\n",
              "      <td>1</td>\n",
              "      <td>23</td>\n",
              "      <td>6</td>\n",
              "      <td>868</td>\n",
              "      <td>3</td>\n",
              "      <td>13500.0</td>\n",
              "      <td>816.0</td>\n",
              "      <td>1</td>\n",
              "      <td>1</td>\n",
              "      <td>0.0</td>\n",
              "      <td>0</td>\n",
              "      <td>868</td>\n",
              "      <td>1360.0</td>\n",
              "      <td>1</td>\n",
              "      <td>10.0</td>\n",
              "      <td>2014.0</td>\n",
              "      <td>16.544118</td>\n",
              "      <td>2015</td>\n",
              "      <td>3</td>\n",
              "      <td>118.0</td>\n",
              "      <td>0</td>\n",
              "      <td>0</td>\n",
              "      <td>1</td>\n",
              "      <td>0</td>\n",
              "      <td>0</td>\n",
              "      <td>0</td>\n",
              "      <td>1</td>\n",
              "      <td>0</td>\n",
              "      <td>1</td>\n",
              "      <td>0</td>\n",
              "    </tr>\n",
              "    <tr>\n",
              "      <th>2</th>\n",
              "      <td>1</td>\n",
              "      <td>23</td>\n",
              "      <td>6</td>\n",
              "      <td>869</td>\n",
              "      <td>3</td>\n",
              "      <td>7007.0</td>\n",
              "      <td>932.0</td>\n",
              "      <td>1</td>\n",
              "      <td>1</td>\n",
              "      <td>0.0</td>\n",
              "      <td>0</td>\n",
              "      <td>869</td>\n",
              "      <td>230.0</td>\n",
              "      <td>1</td>\n",
              "      <td>14.0</td>\n",
              "      <td>2011.0</td>\n",
              "      <td>7.518240</td>\n",
              "      <td>2015</td>\n",
              "      <td>3</td>\n",
              "      <td>164.0</td>\n",
              "      <td>1</td>\n",
              "      <td>0</td>\n",
              "      <td>0</td>\n",
              "      <td>0</td>\n",
              "      <td>0</td>\n",
              "      <td>1</td>\n",
              "      <td>0</td>\n",
              "      <td>0</td>\n",
              "      <td>1</td>\n",
              "      <td>0</td>\n",
              "    </tr>\n",
              "    <tr>\n",
              "      <th>3</th>\n",
              "      <td>1</td>\n",
              "      <td>23</td>\n",
              "      <td>6</td>\n",
              "      <td>870</td>\n",
              "      <td>3</td>\n",
              "      <td>7911.0</td>\n",
              "      <td>971.0</td>\n",
              "      <td>1</td>\n",
              "      <td>1</td>\n",
              "      <td>0.0</td>\n",
              "      <td>0</td>\n",
              "      <td>870</td>\n",
              "      <td>780.0</td>\n",
              "      <td>0</td>\n",
              "      <td>0.0</td>\n",
              "      <td>0.0</td>\n",
              "      <td>8.147271</td>\n",
              "      <td>2015</td>\n",
              "      <td>3</td>\n",
              "      <td>74.0</td>\n",
              "      <td>1</td>\n",
              "      <td>0</td>\n",
              "      <td>0</td>\n",
              "      <td>1</td>\n",
              "      <td>0</td>\n",
              "      <td>0</td>\n",
              "      <td>0</td>\n",
              "      <td>0</td>\n",
              "      <td>1</td>\n",
              "      <td>0</td>\n",
              "    </tr>\n",
              "    <tr>\n",
              "      <th>4</th>\n",
              "      <td>1</td>\n",
              "      <td>23</td>\n",
              "      <td>6</td>\n",
              "      <td>871</td>\n",
              "      <td>3</td>\n",
              "      <td>9198.0</td>\n",
              "      <td>678.0</td>\n",
              "      <td>1</td>\n",
              "      <td>1</td>\n",
              "      <td>0.0</td>\n",
              "      <td>0</td>\n",
              "      <td>871</td>\n",
              "      <td>10620.0</td>\n",
              "      <td>0</td>\n",
              "      <td>0.0</td>\n",
              "      <td>0.0</td>\n",
              "      <td>13.566372</td>\n",
              "      <td>2015</td>\n",
              "      <td>3</td>\n",
              "      <td>0.0</td>\n",
              "      <td>0</td>\n",
              "      <td>0</td>\n",
              "      <td>1</td>\n",
              "      <td>0</td>\n",
              "      <td>0</td>\n",
              "      <td>0</td>\n",
              "      <td>1</td>\n",
              "      <td>0</td>\n",
              "      <td>1</td>\n",
              "      <td>0</td>\n",
              "    </tr>\n",
              "    <tr>\n",
              "      <th>...</th>\n",
              "      <td>...</td>\n",
              "      <td>...</td>\n",
              "      <td>...</td>\n",
              "      <td>...</td>\n",
              "      <td>...</td>\n",
              "      <td>...</td>\n",
              "      <td>...</td>\n",
              "      <td>...</td>\n",
              "      <td>...</td>\n",
              "      <td>...</td>\n",
              "      <td>...</td>\n",
              "      <td>...</td>\n",
              "      <td>...</td>\n",
              "      <td>...</td>\n",
              "      <td>...</td>\n",
              "      <td>...</td>\n",
              "      <td>...</td>\n",
              "      <td>...</td>\n",
              "      <td>...</td>\n",
              "      <td>...</td>\n",
              "      <td>...</td>\n",
              "      <td>...</td>\n",
              "      <td>...</td>\n",
              "      <td>...</td>\n",
              "      <td>...</td>\n",
              "      <td>...</td>\n",
              "      <td>...</td>\n",
              "      <td>...</td>\n",
              "      <td>...</td>\n",
              "      <td>...</td>\n",
              "    </tr>\n",
              "    <tr>\n",
              "      <th>1017204</th>\n",
              "      <td>1</td>\n",
              "      <td>23</td>\n",
              "      <td>6</td>\n",
              "      <td>862</td>\n",
              "      <td>3</td>\n",
              "      <td>10053.0</td>\n",
              "      <td>1227.0</td>\n",
              "      <td>1</td>\n",
              "      <td>1</td>\n",
              "      <td>0.0</td>\n",
              "      <td>0</td>\n",
              "      <td>862</td>\n",
              "      <td>2840.0</td>\n",
              "      <td>1</td>\n",
              "      <td>14.0</td>\n",
              "      <td>2011.0</td>\n",
              "      <td>8.193154</td>\n",
              "      <td>2015</td>\n",
              "      <td>3</td>\n",
              "      <td>63.0</td>\n",
              "      <td>0</td>\n",
              "      <td>0</td>\n",
              "      <td>1</td>\n",
              "      <td>1</td>\n",
              "      <td>0</td>\n",
              "      <td>0</td>\n",
              "      <td>0</td>\n",
              "      <td>0</td>\n",
              "      <td>1</td>\n",
              "      <td>0</td>\n",
              "    </tr>\n",
              "    <tr>\n",
              "      <th>1017205</th>\n",
              "      <td>1</td>\n",
              "      <td>23</td>\n",
              "      <td>6</td>\n",
              "      <td>863</td>\n",
              "      <td>3</td>\n",
              "      <td>8949.0</td>\n",
              "      <td>1043.0</td>\n",
              "      <td>1</td>\n",
              "      <td>1</td>\n",
              "      <td>0.0</td>\n",
              "      <td>0</td>\n",
              "      <td>863</td>\n",
              "      <td>21370.0</td>\n",
              "      <td>0</td>\n",
              "      <td>0.0</td>\n",
              "      <td>0.0</td>\n",
              "      <td>8.580058</td>\n",
              "      <td>2015</td>\n",
              "      <td>3</td>\n",
              "      <td>55.0</td>\n",
              "      <td>0</td>\n",
              "      <td>0</td>\n",
              "      <td>1</td>\n",
              "      <td>1</td>\n",
              "      <td>0</td>\n",
              "      <td>0</td>\n",
              "      <td>0</td>\n",
              "      <td>0</td>\n",
              "      <td>1</td>\n",
              "      <td>0</td>\n",
              "    </tr>\n",
              "    <tr>\n",
              "      <th>1017206</th>\n",
              "      <td>1</td>\n",
              "      <td>23</td>\n",
              "      <td>6</td>\n",
              "      <td>864</td>\n",
              "      <td>3</td>\n",
              "      <td>6076.0</td>\n",
              "      <td>780.0</td>\n",
              "      <td>1</td>\n",
              "      <td>1</td>\n",
              "      <td>0.0</td>\n",
              "      <td>1</td>\n",
              "      <td>864</td>\n",
              "      <td>1020.0</td>\n",
              "      <td>1</td>\n",
              "      <td>45.0</td>\n",
              "      <td>2009.0</td>\n",
              "      <td>7.789744</td>\n",
              "      <td>2015</td>\n",
              "      <td>3</td>\n",
              "      <td>32.0</td>\n",
              "      <td>1</td>\n",
              "      <td>0</td>\n",
              "      <td>0</td>\n",
              "      <td>1</td>\n",
              "      <td>0</td>\n",
              "      <td>0</td>\n",
              "      <td>0</td>\n",
              "      <td>1</td>\n",
              "      <td>0</td>\n",
              "      <td>0</td>\n",
              "    </tr>\n",
              "    <tr>\n",
              "      <th>1017207</th>\n",
              "      <td>1</td>\n",
              "      <td>23</td>\n",
              "      <td>6</td>\n",
              "      <td>865</td>\n",
              "      <td>3</td>\n",
              "      <td>11384.0</td>\n",
              "      <td>817.0</td>\n",
              "      <td>1</td>\n",
              "      <td>1</td>\n",
              "      <td>0.0</td>\n",
              "      <td>0</td>\n",
              "      <td>865</td>\n",
              "      <td>2640.0</td>\n",
              "      <td>0</td>\n",
              "      <td>0.0</td>\n",
              "      <td>0.0</td>\n",
              "      <td>13.933905</td>\n",
              "      <td>2015</td>\n",
              "      <td>3</td>\n",
              "      <td>0.0</td>\n",
              "      <td>0</td>\n",
              "      <td>0</td>\n",
              "      <td>1</td>\n",
              "      <td>0</td>\n",
              "      <td>0</td>\n",
              "      <td>0</td>\n",
              "      <td>1</td>\n",
              "      <td>0</td>\n",
              "      <td>1</td>\n",
              "      <td>0</td>\n",
              "    </tr>\n",
              "    <tr>\n",
              "      <th>1017208</th>\n",
              "      <td>1</td>\n",
              "      <td>23</td>\n",
              "      <td>6</td>\n",
              "      <td>866</td>\n",
              "      <td>3</td>\n",
              "      <td>8937.0</td>\n",
              "      <td>608.0</td>\n",
              "      <td>1</td>\n",
              "      <td>1</td>\n",
              "      <td>0.0</td>\n",
              "      <td>0</td>\n",
              "      <td>866</td>\n",
              "      <td>9680.0</td>\n",
              "      <td>1</td>\n",
              "      <td>5.0</td>\n",
              "      <td>2013.0</td>\n",
              "      <td>14.699013</td>\n",
              "      <td>2015</td>\n",
              "      <td>3</td>\n",
              "      <td>0.0</td>\n",
              "      <td>1</td>\n",
              "      <td>0</td>\n",
              "      <td>0</td>\n",
              "      <td>0</td>\n",
              "      <td>0</td>\n",
              "      <td>0</td>\n",
              "      <td>1</td>\n",
              "      <td>1</td>\n",
              "      <td>0</td>\n",
              "      <td>0</td>\n",
              "    </tr>\n",
              "  </tbody>\n",
              "</table>\n",
              "<p>1017209 rows × 30 columns</p>\n",
              "</div>"
            ],
            "text/plain": [
              "         Weekdays  ...  is_PromoInteval_Mar,Jun,Sept,Dec\n",
              "0               1  ...                                 0\n",
              "1               1  ...                                 0\n",
              "2               1  ...                                 0\n",
              "3               1  ...                                 0\n",
              "4               1  ...                                 0\n",
              "...           ...  ...                               ...\n",
              "1017204         1  ...                                 0\n",
              "1017205         1  ...                                 0\n",
              "1017206         1  ...                                 0\n",
              "1017207         1  ...                                 0\n",
              "1017208         1  ...                                 0\n",
              "\n",
              "[1017209 rows x 30 columns]"
            ]
          },
          "metadata": {
            "tags": []
          },
          "execution_count": 51
        }
      ]
    },
    {
      "cell_type": "markdown",
      "metadata": {
        "id": "L_0OEoLpFZ6Z",
        "colab_type": "text"
      },
      "source": [
        "1.4 **Data Scaling and Data Encoding**"
      ]
    },
    {
      "cell_type": "code",
      "metadata": {
        "id": "7CUCtWYIFly4",
        "colab_type": "code",
        "colab": {
          "base_uri": "https://localhost:8080/",
          "height": 568
        },
        "outputId": "94ed442a-37f4-4586-e452-b428a7f8480d"
      },
      "source": [
        "train_data.dtypes"
      ],
      "execution_count": 52,
      "outputs": [
        {
          "output_type": "execute_result",
          "data": {
            "text/plain": [
              "Weekdays                              int64\n",
              "Weeks                                 int64\n",
              "Months                                int64\n",
              "Store                                 int64\n",
              "DayOfWeek                             int64\n",
              "Sales                               float64\n",
              "Customers                           float64\n",
              "Open                                  int64\n",
              "Promo                                 int64\n",
              "StateHoliday                        float64\n",
              "SchoolHoliday                         int64\n",
              "Store-1                               int64\n",
              "CompetitionDistance                 float64\n",
              "Promo2                                int64\n",
              "Promo2SinceWeek                     float64\n",
              "Promo2SinceYear                     float64\n",
              "SalesperCustomer                    float64\n",
              "Year                                  int64\n",
              "Day                                   int64\n",
              "CompetitionOpenSince                float64\n",
              "is_Assortment_a                       uint8\n",
              "is_Assortment_b                       uint8\n",
              "is_Assortment_c                       uint8\n",
              "is_StoreType_a                        uint8\n",
              "is_StoreType_b                        uint8\n",
              "is_StoreType_c                        uint8\n",
              "is_StoreType_d                        uint8\n",
              "is_PromoInteval_Feb,May,Aug,Nov       uint8\n",
              "is_PromoInteval_Jan,Apr,Jul,Oct       uint8\n",
              "is_PromoInteval_Mar,Jun,Sept,Dec      uint8\n",
              "dtype: object"
            ]
          },
          "metadata": {
            "tags": []
          },
          "execution_count": 52
        }
      ]
    },
    {
      "cell_type": "markdown",
      "metadata": {
        "id": "-FCg9_wZHaOC",
        "colab_type": "text"
      },
      "source": [
        "So far we have taken care of the missing values and the categorical (string) variables in the data. Next we will work with the continuous variables. Often the continuous variables in the data have different scales, for instance, a variable V1 can have a range from 0 to 1 while another variable can have a range from 0-1000.\n",
        "\n",
        "Based on the type of model you are building, you will have to normalize the data in such a way that the range of all the variables is almost similar. You can do this easily in python using the StandardScaler function.\n",
        "For this project we will be using Random Forest Regressor"
      ]
    },
    {
      "cell_type": "code",
      "metadata": {
        "id": "VuV4dD8fHtAj",
        "colab_type": "code",
        "colab": {}
      },
      "source": [
        ""
      ],
      "execution_count": 52,
      "outputs": []
    },
    {
      "cell_type": "markdown",
      "metadata": {
        "id": "QNKGZ2QqBlB_",
        "colab_type": "text"
      },
      "source": [
        "**2. Building models with sklearn pipelines**"
      ]
    },
    {
      "cell_type": "code",
      "metadata": {
        "id": "KrX24uvpBy9k",
        "colab_type": "code",
        "colab": {
          "base_uri": "https://localhost:8080/",
          "height": 52
        },
        "outputId": "3fd6bd11-747f-4dee-8a78-a86150718111"
      },
      "source": [
        "## separate the independent and target variable \n",
        "features = train_data.drop(['Customers', 'Sales', 'SalesperCustomer'], axis = 1) \n",
        "#a rule of thumb is to transform my target value to log if i see the values are very dispersed which is the case\n",
        "#and then of course revert them with np.exp to their real values\n",
        "targets=np.log(train_data.Sales)"
      ],
      "execution_count": 53,
      "outputs": [
        {
          "output_type": "stream",
          "text": [
            "/usr/local/lib/python3.6/dist-packages/pandas/core/series.py:679: RuntimeWarning: divide by zero encountered in log\n",
            "  result = getattr(ufunc, method)(*inputs, **kwargs)\n"
          ],
          "name": "stderr"
        }
      ]
    },
    {
      "cell_type": "markdown",
      "metadata": {
        "id": "PnIYBEtg6QJr",
        "colab_type": "text"
      },
      "source": [
        "**Developing The Model: Shuffle and Split Data with Cross Validation, Grid Search and Fitting the model:**"
      ]
    },
    {
      "cell_type": "markdown",
      "metadata": {
        "id": "lwS9tUZq6XcO",
        "colab_type": "text"
      },
      "source": [
        "A crucial Step in Machine Learning is to make sure your model is robust by testing it on a small part of your dataset we call here train_test set which is usually divided 80% training and 20% validation."
      ]
    },
    {
      "cell_type": "code",
      "metadata": {
        "id": "BQDYXKvM5Rk8",
        "colab_type": "code",
        "colab": {
          "base_uri": "https://localhost:8080/",
          "height": 35
        },
        "outputId": "d274b813-2dcf-4ec9-efcf-860585f29270"
      },
      "source": [
        "X_train, X_train_test, y_train, y_train_test = model_selection.train_test_split(features, targets, test_size=0.20, random_state=15)\n",
        "print (\"Training and testing split was successful.\")"
      ],
      "execution_count": 54,
      "outputs": [
        {
          "output_type": "stream",
          "text": [
            "Training and testing split was successful.\n"
          ],
          "name": "stdout"
        }
      ]
    },
    {
      "cell_type": "code",
      "metadata": {
        "id": "hfFjZN9f8WNu",
        "colab_type": "code",
        "colab": {}
      },
      "source": [
        "def clean_dataset(df):\n",
        "    assert isinstance(df, pd.DataFrame), \"df needs to be a pd.DataFrame\"\n",
        "    df.dropna(inplace=True)\n",
        "    indices_to_keep = ~df.isin([np.nan, np.inf, -np.inf]).any(1)\n",
        "    return df[indices_to_keep].astype(np.float64)"
      ],
      "execution_count": 55,
      "outputs": []
    },
    {
      "cell_type": "code",
      "metadata": {
        "id": "pYsLv-iy9QYx",
        "colab_type": "code",
        "colab": {}
      },
      "source": [
        "y_train = pd.DataFrame(y_train)\n",
        "y_train = y_train.reset_index()"
      ],
      "execution_count": 56,
      "outputs": []
    },
    {
      "cell_type": "code",
      "metadata": {
        "id": "bbplOVaE90XU",
        "colab_type": "code",
        "colab": {}
      },
      "source": [
        "del y_train['index']"
      ],
      "execution_count": 57,
      "outputs": []
    },
    {
      "cell_type": "code",
      "metadata": {
        "id": "uH7oMF9A86E3",
        "colab_type": "code",
        "colab": {
          "base_uri": "https://localhost:8080/",
          "height": 399
        },
        "outputId": "bcc25385-a2e1-472d-82b8-52dc7a7868a1"
      },
      "source": [
        "clean_dataset(y_train)"
      ],
      "execution_count": 58,
      "outputs": [
        {
          "output_type": "execute_result",
          "data": {
            "text/html": [
              "<div>\n",
              "<style scoped>\n",
              "    .dataframe tbody tr th:only-of-type {\n",
              "        vertical-align: middle;\n",
              "    }\n",
              "\n",
              "    .dataframe tbody tr th {\n",
              "        vertical-align: top;\n",
              "    }\n",
              "\n",
              "    .dataframe thead th {\n",
              "        text-align: right;\n",
              "    }\n",
              "</style>\n",
              "<table border=\"1\" class=\"dataframe\">\n",
              "  <thead>\n",
              "    <tr style=\"text-align: right;\">\n",
              "      <th></th>\n",
              "      <th>Sales</th>\n",
              "    </tr>\n",
              "  </thead>\n",
              "  <tbody>\n",
              "    <tr>\n",
              "      <th>0</th>\n",
              "      <td>9.049937</td>\n",
              "    </tr>\n",
              "    <tr>\n",
              "      <th>3</th>\n",
              "      <td>8.209308</td>\n",
              "    </tr>\n",
              "    <tr>\n",
              "      <th>4</th>\n",
              "      <td>8.970432</td>\n",
              "    </tr>\n",
              "    <tr>\n",
              "      <th>5</th>\n",
              "      <td>8.488588</td>\n",
              "    </tr>\n",
              "    <tr>\n",
              "      <th>7</th>\n",
              "      <td>8.862484</td>\n",
              "    </tr>\n",
              "    <tr>\n",
              "      <th>...</th>\n",
              "      <td>...</td>\n",
              "    </tr>\n",
              "    <tr>\n",
              "      <th>813761</th>\n",
              "      <td>7.482682</td>\n",
              "    </tr>\n",
              "    <tr>\n",
              "      <th>813762</th>\n",
              "      <td>9.073030</td>\n",
              "    </tr>\n",
              "    <tr>\n",
              "      <th>813763</th>\n",
              "      <td>8.774158</td>\n",
              "    </tr>\n",
              "    <tr>\n",
              "      <th>813764</th>\n",
              "      <td>8.707152</td>\n",
              "    </tr>\n",
              "    <tr>\n",
              "      <th>813766</th>\n",
              "      <td>8.692994</td>\n",
              "    </tr>\n",
              "  </tbody>\n",
              "</table>\n",
              "<p>675328 rows × 1 columns</p>\n",
              "</div>"
            ],
            "text/plain": [
              "           Sales\n",
              "0       9.049937\n",
              "3       8.209308\n",
              "4       8.970432\n",
              "5       8.488588\n",
              "7       8.862484\n",
              "...          ...\n",
              "813761  7.482682\n",
              "813762  9.073030\n",
              "813763  8.774158\n",
              "813764  8.707152\n",
              "813766  8.692994\n",
              "\n",
              "[675328 rows x 1 columns]"
            ]
          },
          "metadata": {
            "tags": []
          },
          "execution_count": 58
        }
      ]
    },
    {
      "cell_type": "code",
      "metadata": {
        "id": "7uroGHLK_Dk-",
        "colab_type": "code",
        "colab": {}
      },
      "source": [
        "def _assert_all_finite(X):\n",
        "    \"\"\"Like assert_all_finite, but only for ndarray.\"\"\"\n",
        "    X = np.asanyarray(X)\n",
        "    # First try an O(n) time, O(1) space solution for the common case that\n",
        "    # everything is finite; fall back to O(n) space np.isfinite to prevent\n",
        "    # false positives from overflow in sum method.\n",
        "    if (X.dtype.char in np.typecodes['AllFloat'] and not np.isfinite(X.sum())\n",
        "            and not np.isfinite(X).all()):\n",
        "        raise ValueError(\"Input contains NaN, infinity\"\n",
        "                         \" or a value too large for %r.\" % X.dtype)"
      ],
      "execution_count": 59,
      "outputs": []
    },
    {
      "cell_type": "code",
      "metadata": {
        "id": "iAefvUEW_GGl",
        "colab_type": "code",
        "colab": {
          "base_uri": "https://localhost:8080/",
          "height": 36
        },
        "outputId": "f7fbc044-28ca-4ca1-ca11-5c1deaaa7e3d"
      },
      "source": [
        "'''#This is the check on which it fails:\n",
        "_assert_all_finite(y_train)'''"
      ],
      "execution_count": 60,
      "outputs": [
        {
          "output_type": "execute_result",
          "data": {
            "application/vnd.google.colaboratory.intrinsic+json": {
              "type": "string"
            },
            "text/plain": [
              "'#This is the check on which it fails:\\n_assert_all_finite(y_train)'"
            ]
          },
          "metadata": {
            "tags": []
          },
          "execution_count": 60
        }
      ]
    },
    {
      "cell_type": "code",
      "metadata": {
        "id": "AIDED1g7CRGI",
        "colab_type": "code",
        "colab": {
          "base_uri": "https://localhost:8080/",
          "height": 399
        },
        "outputId": "d3c74936-54f2-42ca-ac27-a798f396e00b"
      },
      "source": [
        "y_train"
      ],
      "execution_count": 61,
      "outputs": [
        {
          "output_type": "execute_result",
          "data": {
            "text/html": [
              "<div>\n",
              "<style scoped>\n",
              "    .dataframe tbody tr th:only-of-type {\n",
              "        vertical-align: middle;\n",
              "    }\n",
              "\n",
              "    .dataframe tbody tr th {\n",
              "        vertical-align: top;\n",
              "    }\n",
              "\n",
              "    .dataframe thead th {\n",
              "        text-align: right;\n",
              "    }\n",
              "</style>\n",
              "<table border=\"1\" class=\"dataframe\">\n",
              "  <thead>\n",
              "    <tr style=\"text-align: right;\">\n",
              "      <th></th>\n",
              "      <th>Sales</th>\n",
              "    </tr>\n",
              "  </thead>\n",
              "  <tbody>\n",
              "    <tr>\n",
              "      <th>0</th>\n",
              "      <td>9.049937</td>\n",
              "    </tr>\n",
              "    <tr>\n",
              "      <th>1</th>\n",
              "      <td>-inf</td>\n",
              "    </tr>\n",
              "    <tr>\n",
              "      <th>2</th>\n",
              "      <td>-inf</td>\n",
              "    </tr>\n",
              "    <tr>\n",
              "      <th>3</th>\n",
              "      <td>8.209308</td>\n",
              "    </tr>\n",
              "    <tr>\n",
              "      <th>4</th>\n",
              "      <td>8.970432</td>\n",
              "    </tr>\n",
              "    <tr>\n",
              "      <th>...</th>\n",
              "      <td>...</td>\n",
              "    </tr>\n",
              "    <tr>\n",
              "      <th>813762</th>\n",
              "      <td>9.073030</td>\n",
              "    </tr>\n",
              "    <tr>\n",
              "      <th>813763</th>\n",
              "      <td>8.774158</td>\n",
              "    </tr>\n",
              "    <tr>\n",
              "      <th>813764</th>\n",
              "      <td>8.707152</td>\n",
              "    </tr>\n",
              "    <tr>\n",
              "      <th>813765</th>\n",
              "      <td>-inf</td>\n",
              "    </tr>\n",
              "    <tr>\n",
              "      <th>813766</th>\n",
              "      <td>8.692994</td>\n",
              "    </tr>\n",
              "  </tbody>\n",
              "</table>\n",
              "<p>813767 rows × 1 columns</p>\n",
              "</div>"
            ],
            "text/plain": [
              "           Sales\n",
              "0       9.049937\n",
              "1           -inf\n",
              "2           -inf\n",
              "3       8.209308\n",
              "4       8.970432\n",
              "...          ...\n",
              "813762  9.073030\n",
              "813763  8.774158\n",
              "813764  8.707152\n",
              "813765      -inf\n",
              "813766  8.692994\n",
              "\n",
              "[813767 rows x 1 columns]"
            ]
          },
          "metadata": {
            "tags": []
          },
          "execution_count": 61
        }
      ]
    },
    {
      "cell_type": "markdown",
      "metadata": {
        "id": "9im6_2OE_9Qu",
        "colab_type": "text"
      },
      "source": [
        "After finding which data has the problem, below is a loop to get which problem is it."
      ]
    },
    {
      "cell_type": "code",
      "metadata": {
        "id": "K4tPKbepAuKu",
        "colab_type": "code",
        "colab": {
          "base_uri": "https://localhost:8080/",
          "height": 36
        },
        "outputId": "b798bd0e-1727-4d2f-bab0-f853d7be9752"
      },
      "source": [
        "'''print(y_train.shape)\n",
        "index = 0\n",
        "for i in y_train:\n",
        "    if not np.isfinite(i):\n",
        "        print(index, i)\n",
        "    index +=1'''\n"
      ],
      "execution_count": 62,
      "outputs": [
        {
          "output_type": "execute_result",
          "data": {
            "application/vnd.google.colaboratory.intrinsic+json": {
              "type": "string"
            },
            "text/plain": [
              "'print(y_train.shape)\\nindex = 0\\nfor i in y_train:\\n    if not np.isfinite(i):\\n        print(index, i)\\n    index +=1'"
            ]
          },
          "metadata": {
            "tags": []
          },
          "execution_count": 62
        }
      ]
    },
    {
      "cell_type": "code",
      "metadata": {
        "id": "XicstTBqnmcK",
        "colab_type": "code",
        "colab": {
          "base_uri": "https://localhost:8080/",
          "height": 399
        },
        "outputId": "faa1fadb-4124-4171-d63f-3b780d73c800"
      },
      "source": [
        "y_train"
      ],
      "execution_count": 63,
      "outputs": [
        {
          "output_type": "execute_result",
          "data": {
            "text/html": [
              "<div>\n",
              "<style scoped>\n",
              "    .dataframe tbody tr th:only-of-type {\n",
              "        vertical-align: middle;\n",
              "    }\n",
              "\n",
              "    .dataframe tbody tr th {\n",
              "        vertical-align: top;\n",
              "    }\n",
              "\n",
              "    .dataframe thead th {\n",
              "        text-align: right;\n",
              "    }\n",
              "</style>\n",
              "<table border=\"1\" class=\"dataframe\">\n",
              "  <thead>\n",
              "    <tr style=\"text-align: right;\">\n",
              "      <th></th>\n",
              "      <th>Sales</th>\n",
              "    </tr>\n",
              "  </thead>\n",
              "  <tbody>\n",
              "    <tr>\n",
              "      <th>0</th>\n",
              "      <td>9.049937</td>\n",
              "    </tr>\n",
              "    <tr>\n",
              "      <th>1</th>\n",
              "      <td>-inf</td>\n",
              "    </tr>\n",
              "    <tr>\n",
              "      <th>2</th>\n",
              "      <td>-inf</td>\n",
              "    </tr>\n",
              "    <tr>\n",
              "      <th>3</th>\n",
              "      <td>8.209308</td>\n",
              "    </tr>\n",
              "    <tr>\n",
              "      <th>4</th>\n",
              "      <td>8.970432</td>\n",
              "    </tr>\n",
              "    <tr>\n",
              "      <th>...</th>\n",
              "      <td>...</td>\n",
              "    </tr>\n",
              "    <tr>\n",
              "      <th>813762</th>\n",
              "      <td>9.073030</td>\n",
              "    </tr>\n",
              "    <tr>\n",
              "      <th>813763</th>\n",
              "      <td>8.774158</td>\n",
              "    </tr>\n",
              "    <tr>\n",
              "      <th>813764</th>\n",
              "      <td>8.707152</td>\n",
              "    </tr>\n",
              "    <tr>\n",
              "      <th>813765</th>\n",
              "      <td>-inf</td>\n",
              "    </tr>\n",
              "    <tr>\n",
              "      <th>813766</th>\n",
              "      <td>8.692994</td>\n",
              "    </tr>\n",
              "  </tbody>\n",
              "</table>\n",
              "<p>813767 rows × 1 columns</p>\n",
              "</div>"
            ],
            "text/plain": [
              "           Sales\n",
              "0       9.049937\n",
              "1           -inf\n",
              "2           -inf\n",
              "3       8.209308\n",
              "4       8.970432\n",
              "...          ...\n",
              "813762  9.073030\n",
              "813763  8.774158\n",
              "813764  8.707152\n",
              "813765      -inf\n",
              "813766  8.692994\n",
              "\n",
              "[813767 rows x 1 columns]"
            ]
          },
          "metadata": {
            "tags": []
          },
          "execution_count": 63
        }
      ]
    },
    {
      "cell_type": "code",
      "metadata": {
        "id": "3-dpov5bCyIf",
        "colab_type": "code",
        "colab": {}
      },
      "source": [
        "y_train.replace([np.inf, -np.inf], np.nan, inplace=True)"
      ],
      "execution_count": 64,
      "outputs": []
    },
    {
      "cell_type": "code",
      "metadata": {
        "id": "BQBcsXqSl47H",
        "colab_type": "code",
        "colab": {}
      },
      "source": [
        "y_train_test.replace([np.inf, -np.inf], np.nan, inplace=True)"
      ],
      "execution_count": 65,
      "outputs": []
    },
    {
      "cell_type": "code",
      "metadata": {
        "id": "ootdSkcgC5bm",
        "colab_type": "code",
        "colab": {}
      },
      "source": [
        "y_train.fillna(8.970432, inplace=True)"
      ],
      "execution_count": 66,
      "outputs": []
    },
    {
      "cell_type": "code",
      "metadata": {
        "id": "LOoLUI6YmAAw",
        "colab_type": "code",
        "colab": {}
      },
      "source": [
        "y_train_test.fillna(8.970432, inplace=True)"
      ],
      "execution_count": 67,
      "outputs": []
    },
    {
      "cell_type": "code",
      "metadata": {
        "id": "SZMGzTqRGAwF",
        "colab_type": "code",
        "colab": {}
      },
      "source": [
        "#convert dataframe to numpy array\n",
        "y_train = y_train.to_numpy()"
      ],
      "execution_count": 68,
      "outputs": []
    },
    {
      "cell_type": "code",
      "metadata": {
        "id": "ZWmPeKuQG7T7",
        "colab_type": "code",
        "colab": {}
      },
      "source": [
        "y = y_train.ravel()\n",
        "y_train = np.array(y).astype(int)"
      ],
      "execution_count": 69,
      "outputs": []
    },
    {
      "cell_type": "markdown",
      "metadata": {
        "id": "y8jjcNZT7BtP",
        "colab_type": "text"
      },
      "source": [
        "**Setting up the RandomForestRegressor object**"
      ]
    },
    {
      "cell_type": "code",
      "metadata": {
        "id": "eHXzgohXmPYG",
        "colab_type": "code",
        "colab": {}
      },
      "source": [
        "def rmspe(y, result):\n",
        "    rmspe = np.sqrt(np.mean( (y - result)**2 ))\n",
        "    return rmspe"
      ],
      "execution_count": 70,
      "outputs": []
    },
    {
      "cell_type": "code",
      "metadata": {
        "id": "4Rl3eP6p7JfC",
        "colab_type": "code",
        "colab": {
          "base_uri": "https://localhost:8080/",
          "height": 141
        },
        "outputId": "c2e87c73-d24f-4d3e-be08-c5d3b1997766"
      },
      "source": [
        "RFR = RandomForestRegressor(n_estimators=10, \n",
        "                             criterion='mse', \n",
        "                             max_depth=5, \n",
        "                             min_samples_split=2, \n",
        "                             min_samples_leaf=1, \n",
        "                             min_weight_fraction_leaf=0.0, \n",
        "                             max_features='auto', \n",
        "                             max_leaf_nodes=None, \n",
        "                             min_impurity_decrease=0.0, \n",
        "                             min_impurity_split=None, \n",
        "                             bootstrap=True, \n",
        "                             oob_score=False,\n",
        "                             n_jobs=4,\n",
        "                             random_state=31, \n",
        "                             verbose=0, \n",
        "                             warm_start=False)\n",
        "RFR.fit(X_train, y_train)"
      ],
      "execution_count": 71,
      "outputs": [
        {
          "output_type": "execute_result",
          "data": {
            "text/plain": [
              "RandomForestRegressor(bootstrap=True, ccp_alpha=0.0, criterion='mse',\n",
              "                      max_depth=5, max_features='auto', max_leaf_nodes=None,\n",
              "                      max_samples=None, min_impurity_decrease=0.0,\n",
              "                      min_impurity_split=None, min_samples_leaf=1,\n",
              "                      min_samples_split=2, min_weight_fraction_leaf=0.0,\n",
              "                      n_estimators=10, n_jobs=4, oob_score=False,\n",
              "                      random_state=31, verbose=0, warm_start=False)"
            ]
          },
          "metadata": {
            "tags": []
          },
          "execution_count": 71
        }
      ]
    },
    {
      "cell_type": "code",
      "metadata": {
        "id": "WE0MBxQnFE6Y",
        "colab_type": "code",
        "colab": {
          "base_uri": "https://localhost:8080/",
          "height": 71
        },
        "outputId": "01d3c2e2-9e74-4b14-d064-c099350b1cf7"
      },
      "source": [
        "'''\n",
        "params = {'max_depth':(4,6,8,10,12,14,16,20),\n",
        "         'n_estimators':(4,8,16,24,48,72,96,128),\n",
        "         'min_samples_split':(2,4,6,8,10)}\n",
        "#scoring_fnc = metrics.make_scorer(rmspe)\n",
        "#the dimensionality is high, the number of combinations we have to search is enormous, using RandomizedSearchCV \n",
        "# is a better option then GridSearchCV\n",
        "grid = model_selection.RandomizedSearchCV(estimator=RFR,param_distributions=params,cv=5,) \n",
        "#choosing 10 K-Folds makes sure i went through all of the data and didn't miss any pattern.(takes time to run but is worth doing it)\n",
        "grid.fit(X_train, y_train)'''"
      ],
      "execution_count": 72,
      "outputs": [
        {
          "output_type": "execute_result",
          "data": {
            "application/vnd.google.colaboratory.intrinsic+json": {
              "type": "string"
            },
            "text/plain": [
              "\"\\nparams = {'max_depth':(4,6,8,10,12,14,16,20),\\n         'n_estimators':(4,8,16,24,48,72,96,128),\\n         'min_samples_split':(2,4,6,8,10)}\\n#scoring_fnc = metrics.make_scorer(rmspe)\\n#the dimensionality is high, the number of combinations we have to search is enormous, using RandomizedSearchCV \\n# is a better option then GridSearchCV\\ngrid = model_selection.RandomizedSearchCV(estimator=RFR,param_distributions=params,cv=5,) \\n#choosing 10 K-Folds makes sure i went through all of the data and didn't miss any pattern.(takes time to run but is worth doing it)\\ngrid.fit(X_train, y_train)\""
            ]
          },
          "metadata": {
            "tags": []
          },
          "execution_count": 72
        }
      ]
    },
    {
      "cell_type": "code",
      "metadata": {
        "id": "rcBd1L5HiHvX",
        "colab_type": "code",
        "colab": {}
      },
      "source": [
        "#This is the best combination i got from what i propose to try out with a (mse) score of 0.855 which is quite good\n",
        "#grid.best_params_,grid.best_score_\n",
        "#MY BEST PARAMS ARE :n_estimators=128,max_depth=20,min_samples_split=10\n",
        "grid.best_params_"
      ],
      "execution_count": null,
      "outputs": []
    },
    {
      "cell_type": "markdown",
      "metadata": {
        "id": "USPltfKEh8uh",
        "colab_type": "text"
      },
      "source": [
        "**Test our RF on the validation set:**"
      ]
    },
    {
      "cell_type": "code",
      "metadata": {
        "id": "g4DLaAich4wr",
        "colab_type": "code",
        "colab": {}
      },
      "source": [
        "#with the optimal parameters i got let's see how it behaves with the validation set\n",
        "rfr_val=RandomForestRegressor(n_estimators=128, \n",
        "                             criterion='mse', \n",
        "                             max_depth=20, \n",
        "                             min_samples_split=10, \n",
        "                             min_samples_leaf=1, \n",
        "                             min_weight_fraction_leaf=0.0, \n",
        "                             max_features='auto', \n",
        "                             max_leaf_nodes=None, \n",
        "                             min_impurity_decrease=0.0, \n",
        "                             min_impurity_split=None, \n",
        "                             bootstrap=True, \n",
        "                             oob_score=False,\n",
        "                             n_jobs=4, #setting n_jobs to 4 makes sure you're using the full potential of the machine you're running the training on\n",
        "                             random_state=None, \n",
        "                             verbose=0, \n",
        "                             warm_start=False)\n",
        "model_RF_test=rfr_val.fit(X_train,y_train)"
      ],
      "execution_count": 74,
      "outputs": []
    },
    {
      "cell_type": "code",
      "metadata": {
        "id": "PlwL_TnokzS8",
        "colab_type": "code",
        "colab": {}
      },
      "source": [
        "result=model_RF_test.predict(X_train_test)"
      ],
      "execution_count": 75,
      "outputs": []
    },
    {
      "cell_type": "code",
      "metadata": {
        "id": "RaZwT2byk-Zk",
        "colab_type": "code",
        "colab": {
          "base_uri": "https://localhost:8080/",
          "height": 340
        },
        "outputId": "71b102b7-2d2c-4812-a82c-bbf27ab81cfb"
      },
      "source": [
        "plt.hist(result)"
      ],
      "execution_count": 76,
      "outputs": [
        {
          "output_type": "execute_result",
          "data": {
            "text/plain": [
              "(array([3.00000e+01, 1.90000e+01, 1.07000e+02, 2.70100e+03, 2.00500e+03,\n",
              "        3.04800e+03, 1.16137e+05, 3.87570e+04, 1.74830e+04, 2.31550e+04]),\n",
              " array([6. , 6.3, 6.6, 6.9, 7.2, 7.5, 7.8, 8.1, 8.4, 8.7, 9. ]),\n",
              " <a list of 10 Patch objects>)"
            ]
          },
          "metadata": {
            "tags": []
          },
          "execution_count": 76
        },
        {
          "output_type": "display_data",
          "data": {
            "image/png": "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\n",
            "text/plain": [
              "<Figure size 432x288 with 1 Axes>"
            ]
          },
          "metadata": {
            "tags": []
          }
        }
      ]
    },
    {
      "cell_type": "code",
      "metadata": {
        "id": "W1aVrb5gloMV",
        "colab_type": "code",
        "colab": {
          "base_uri": "https://localhost:8080/",
          "height": 35
        },
        "outputId": "608b0233-e3b2-4d6b-bd24-166befab8ae7"
      },
      "source": [
        "mean_squared_error(y_train_test,result)"
      ],
      "execution_count": 77,
      "outputs": [
        {
          "output_type": "execute_result",
          "data": {
            "text/plain": [
              "0.4285109406980555"
            ]
          },
          "metadata": {
            "tags": []
          },
          "execution_count": 77
        }
      ]
    },
    {
      "cell_type": "markdown",
      "metadata": {
        "id": "LL_LZG725Dvj",
        "colab_type": "text"
      },
      "source": [
        "##Predicting using XGBoost##"
      ]
    },
    {
      "cell_type": "code",
      "metadata": {
        "id": "KU0sKv5g5C4b",
        "colab_type": "code",
        "colab": {}
      },
      "source": [
        ""
      ],
      "execution_count": null,
      "outputs": []
    },
    {
      "cell_type": "markdown",
      "metadata": {
        "id": "LZISdRwcqbjr",
        "colab_type": "text"
      },
      "source": [
        "##**Test Set Adaptation:**\n",
        "\n",
        " Now we will do transformation for the test set "
      ]
    },
    {
      "cell_type": "code",
      "metadata": {
        "id": "mOFjcoSeqzYz",
        "colab_type": "code",
        "colab": {}
      },
      "source": [
        "test_data=pd.read_csv('/content/drive/My Drive/test.csv')\n",
        "store_data=pd.read_csv('/content/drive/My Drive/store.csv')"
      ],
      "execution_count": null,
      "outputs": []
    },
    {
      "cell_type": "code",
      "metadata": {
        "id": "LItlQlVorq7D",
        "colab_type": "code",
        "colab": {}
      },
      "source": [
        "test_data.isna().sum()"
      ],
      "execution_count": null,
      "outputs": []
    },
    {
      "cell_type": "code",
      "metadata": {
        "id": "rLbeAbZxxyS5",
        "colab_type": "code",
        "colab": {}
      },
      "source": [
        "test_data"
      ],
      "execution_count": null,
      "outputs": []
    },
    {
      "cell_type": "code",
      "metadata": {
        "id": "8glbAoDVyEu2",
        "colab_type": "code",
        "colab": {}
      },
      "source": [
        "store_data"
      ],
      "execution_count": null,
      "outputs": []
    },
    {
      "cell_type": "markdown",
      "metadata": {
        "id": "LjiV88eq2Hej",
        "colab_type": "text"
      },
      "source": [
        "##**Cleaning Store Data**"
      ]
    },
    {
      "cell_type": "code",
      "metadata": {
        "id": "23yNGvjh2GuU",
        "colab_type": "code",
        "colab": {}
      },
      "source": [
        "store_data.count(0)/store_data.shape[0] * 100"
      ],
      "execution_count": null,
      "outputs": []
    },
    {
      "cell_type": "markdown",
      "metadata": {
        "id": "sn3xLd9o23oE",
        "colab_type": "text"
      },
      "source": [
        "* The Promo2SinceWeek,Promo2SinceYear and PromoInterval variables has 51% fill rate since they are actually NULL values because there are no continuous promotion for those stores.\n",
        "\n",
        "* Instead for CompetitionOpenSinceMonth and CompetitionOpenSinceYear, it's basically missing data that we're dealing with here (68.25% fill rate), this means that we have the nearest distance of the competitor but miss the date information on when did he actually opened next to the Rossman store."
      ]
    },
    {
      "cell_type": "markdown",
      "metadata": {
        "id": "RWS22WEl3Crq",
        "colab_type": "text"
      },
      "source": [
        "1) CompetitionDistance:"
      ]
    },
    {
      "cell_type": "code",
      "metadata": {
        "id": "tRrb87dT3Jsb",
        "colab_type": "code",
        "colab": {}
      },
      "source": [
        "store_data['CompetitionDistance'].fillna(store_data['CompetitionDistance'].median(), inplace = True)"
      ],
      "execution_count": null,
      "outputs": []
    },
    {
      "cell_type": "markdown",
      "metadata": {
        "id": "uXWtHxX73lDb",
        "colab_type": "text"
      },
      "source": [
        "2) CompetitionOpenSinceMonth and CompetitionOpenSinceYear?"
      ]
    },
    {
      "cell_type": "code",
      "metadata": {
        "id": "m4AO2BF-3my5",
        "colab_type": "code",
        "colab": {}
      },
      "source": [
        "store_data.CompetitionOpenSinceMonth.fillna(0, inplace = True)\n",
        "store_data.CompetitionOpenSinceYear.fillna(0,inplace=True)"
      ],
      "execution_count": null,
      "outputs": []
    },
    {
      "cell_type": "markdown",
      "metadata": {
        "id": "Oy2i5P0F3xAO",
        "colab_type": "text"
      },
      "source": [
        "3) Promo2SinceWeek, Promo2SinceYear and PromoInterval ?"
      ]
    },
    {
      "cell_type": "code",
      "metadata": {
        "id": "IRCl0RS23yrv",
        "colab_type": "code",
        "colab": {}
      },
      "source": [
        "store_data.Promo2SinceWeek.fillna(0,inplace=True)\n",
        "store_data.Promo2SinceYear.fillna(0,inplace=True)\n",
        "store_data.PromoInterval.fillna(0,inplace=True)"
      ],
      "execution_count": null,
      "outputs": []
    },
    {
      "cell_type": "code",
      "metadata": {
        "id": "_Gku86y-39NF",
        "colab_type": "code",
        "colab": {}
      },
      "source": [
        "store_data.count(0)/store_data.shape[0] * 100"
      ],
      "execution_count": null,
      "outputs": []
    },
    {
      "cell_type": "code",
      "metadata": {
        "id": "WKYcjxbQr5Xr",
        "colab_type": "code",
        "colab": {}
      },
      "source": [
        "test_data.fillna(1, inplace = True) #11rows with Nans decided to leave them open since its one store 622 which is \n",
        "#usually open\n",
        "#Left-join the train to the store dataset since .Why?\n",
        "#Because you want to make sure you have all events even if some of them don't have their store information ( which shouldn't happen)\n",
        "df_test_store = pd.merge(test_data, store_data, how = 'left', on = 'Store')\n",
        "df_test_store[\"Date\"]=pd.to_datetime(df_test_store[\"Date\"])\n",
        "print (\"The Test_Store dataset has {} Rows and {} Variables\".format(str(df_test_store.shape[0]),str(df_test_store.shape[1])))\n",
        " \n",
        "df_test_store['Month']=df_test_store.Date.dt.month\n",
        "df_test_store['Year']=df_test_store.Date.dt.year\n",
        "df_test_store['Day']=df_test_store.Date.dt.day\n",
        "\n",
        "df_test_store['StateHoliday'] = df_test_store['StateHoliday'].astype('category')\n",
        "df_test_store['Assortment'] = df_test_store['Assortment'].astype('category')\n",
        "df_test_store['StoreType'] = df_test_store['StoreType'].astype('category')\n",
        "df_test_store['PromoInterval']= df_test_store['PromoInterval'].astype('category')\n",
        "df_test_store['StateHoliday_cat'] = df_test_store['StateHoliday'].cat.codes\n",
        "df_test_store['Assortment_cat'] = df_test_store['Assortment'].cat.codes\n",
        "df_test_store['StoreType_cat'] = df_test_store['StoreType'].cat.codes\n",
        "df_test_store['PromoInterval_cat'] = df_test_store['PromoInterval'].cat.codes\n",
        "df_test_store['StateHoliday_cat'] = df_test_store['StateHoliday_cat'].astype('float')\n",
        "df_test_store['Assortment_cat'] = df_test_store['Assortment_cat'].astype('float')\n",
        "df_test_store['StoreType_cat'] = df_test_store['StoreType_cat'].astype('float')\n",
        "df_test_store['PromoInterval_cat'] = df_test_store['PromoInterval_cat'].astype('float')\n",
        "df_test_store['CompetitionOpenSince'] = np.where((df_test_store['CompetitionOpenSinceMonth']==0) & (df_test_store['CompetitionOpenSinceYear']==0) , 0,(df_test_store.Month - df_test_store.CompetitionOpenSinceMonth) + \n",
        "                                       (12 * (df_test_store.Year - df_test_store.CompetitionOpenSinceYear)) )\n",
        "df_test_store[\"is_holiday_state\"] = df_test_store['StateHoliday'].map({\"0\": 0, \"a\": 1, \"b\": 1, \"c\": 1})\n",
        "\n",
        "\n",
        "\n",
        "\n",
        "df_test_store=pd.get_dummies(df_test_store, columns=[\"Assortment\", \"StoreType\",\"PromoInterval\"], prefix=[\"is_Assortment\", \"is_StoreType\",\"is_PromoInteval\"])"
      ],
      "execution_count": null,
      "outputs": []
    },
    {
      "cell_type": "code",
      "metadata": {
        "id": "ho8fudVD4NCl",
        "colab_type": "code",
        "colab": {}
      },
      "source": [
        "del df_test_store[\"Date\"]\n",
        "del df_test_store['CompetitionOpenSinceYear']\n",
        "del df_test_store['CompetitionOpenSinceMonth']"
      ],
      "execution_count": null,
      "outputs": []
    },
    {
      "cell_type": "code",
      "metadata": {
        "id": "W5LECeK84PWp",
        "colab_type": "code",
        "colab": {}
      },
      "source": [
        "del df_test_store['StateHoliday_cat']"
      ],
      "execution_count": null,
      "outputs": []
    },
    {
      "cell_type": "code",
      "metadata": {
        "id": "BiMo3ohA4SIZ",
        "colab_type": "code",
        "colab": {}
      },
      "source": [
        "del df_test_store['Assortment_cat']\n",
        "del df_test_store['StoreType_cat']\n",
        "del df_test_store['PromoInterval_cat']"
      ],
      "execution_count": null,
      "outputs": []
    },
    {
      "cell_type": "code",
      "metadata": {
        "id": "0l9XAB3R4Wf5",
        "colab_type": "code",
        "colab": {}
      },
      "source": [
        "del df_test_store['StateHoliday']"
      ],
      "execution_count": null,
      "outputs": []
    },
    {
      "cell_type": "markdown",
      "metadata": {
        "id": "5bVfjGz84gH2",
        "colab_type": "text"
      },
      "source": [
        "Now the test dataset is clean"
      ]
    },
    {
      "cell_type": "code",
      "metadata": {
        "id": "gQuOZQWb4b2g",
        "colab_type": "code",
        "colab": {}
      },
      "source": [
        ""
      ],
      "execution_count": null,
      "outputs": []
>>>>>>> 3dc444e45122a7b3a50274e46831a1923895dcd8:notebook/Sales_prediction.ipynb
    }
   ],
   "source": [
    "from sklearn import metrics\n",
    "\n",
    "print('Mean Absolute Error:', metrics.mean_absolute_error(y_test, y_pred))\n",
    "print('Mean Squared Error:', metrics.mean_squared_error(y_test, y_pred))\n",
    "print('Root Mean Squared Error:', np.sqrt(metrics.mean_squared_error(y_test, y_pred)))"
   ]
  },
  {
   "cell_type": "code",
   "execution_count": null,
   "metadata": {},
   "outputs": [],
   "source": [
    "from sklearn import model_selection \n",
    "params = {'max_depth':(4,6,8,10,12,14,16,20),\n",
    "         'n_estimators':(4,8,16,24,48,72,96,128),\n",
    "         'min_samples_split':(2,4,6,8,10)}\n",
    "#scoring_fnc = metrics.make_scorer(rmspe)\n",
    "#the dimensionality is high, the number of combinations we have to search is enormous, using RandomizedSearchCV \n",
    "# is a better option then GridSearchCV\n",
    "grid = model_selection.RandomizedSearchCV(estimator=regressor,param_distributions=params,cv=5,) \n",
    "#choosing 5 K-Folds makes sure i went through all of the data and didn't miss any pattern.(takes time to run but is worth doing it)\n",
    "grid.fit(X_train, y_train)"
   ]
  },
  {
   "cell_type": "code",
   "execution_count": null,
   "metadata": {},
   "outputs": [],
   "source": [
    "rfr_val=RandomForestRegressor(n_estimators=128, \n",
    "                             criterion='mse', \n",
    "                             max_depth=20, \n",
    "                             min_samples_split=10, \n",
    "                             min_samples_leaf=1, \n",
    "                             min_weight_fraction_leaf=0.0, \n",
    "                             max_features='auto', \n",
    "                             max_leaf_nodes=None, \n",
    "                             min_impurity_decrease=0.0, \n",
    "                             min_impurity_split=None, \n",
    "                             bootstrap=True, \n",
    "                             oob_score=False,\n",
    "                             n_jobs=4, #setting n_jobs to 4 makes sure you're using the full potential of the machine you're running the training on\n",
    "                             random_state=35, \n",
    "                             verbose=0, \n",
    "                             warm_start=False)\n",
    "model_RF_test=rfr_val.fit(X_train,y_train)"
   ]
  },
  {
   "cell_type": "code",
   "execution_count": null,
   "metadata": {},
   "outputs": [],
   "source": [
    "result=model_RF_test.predict(X_train_test)"
   ]
  },
  {
   "cell_type": "code",
   "execution_count": null,
   "metadata": {},
   "outputs": [],
   "source": [
    "error=rmspe(y_train_test,yhat)\n",
    "error"
   ]
  },
  {
   "cell_type": "code",
   "execution_count": null,
   "metadata": {},
   "outputs": [],
   "source": [
    "importances = rfr_val.feature_importances_\n",
    "std = np.std([rfr_val.feature_importances_ for tree in rfr_val.estimators_],\n",
    "             axis=0)\n",
    "indices = np.argsort(importances)\n",
    "palette1 = itertools.cycle(sns.color_palette())\n",
    "# Store the feature ranking\n",
    "features_ranked=[]\n",
    "for f in range(X_train.shape[1]):\n",
    "    features_ranked.append(X_train.columns[indices[f]])\n",
    "# Plot the feature importances of the forest\n",
    "\n",
    "plt.figure(figsize=(10,15))\n",
    "plt.title(\"Feature importances\")\n",
    "plt.barh(range(X_train.shape[1]), importances[indices],\n",
    "            color=[next(palette1)], align=\"center\")\n",
    "plt.yticks(range(X_train.shape[1]), features_ranked)\n",
    "plt.ylabel('Features')\n",
    "plt.ylim([-1, X_train.shape[1]])\n",
    "plt.show()"
   ]
  },
  {
   "cell_type": "code",
   "execution_count": null,
   "metadata": {},
   "outputs": [],
   "source": []
  },
  {
   "cell_type": "code",
   "execution_count": null,
   "metadata": {},
   "outputs": [],
   "source": []
  },
  {
   "cell_type": "code",
   "execution_count": null,
   "metadata": {},
   "outputs": [],
   "source": []
  },
  {
   "cell_type": "code",
   "execution_count": null,
   "metadata": {},
   "outputs": [],
   "source": []
  }
 ],
 "metadata": {
  "colab": {
   "name": "Sales_prediction1.ipynb",
   "provenance": []
  },
  "kernelspec": {
   "display_name": "Python 3",
   "language": "python",
   "name": "python3"
  }
 },
 "nbformat": 4,
 "nbformat_minor": 1
}
